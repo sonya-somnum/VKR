{
 "cells": [
  {
   "cell_type": "markdown",
   "id": "d003327f",
   "metadata": {},
   "source": [
    "### Этот ноутбук создан для обучения, уже размеченных полных текстов"
   ]
  },
  {
   "cell_type": "code",
   "execution_count": 2,
   "id": "08b90acd",
   "metadata": {},
   "outputs": [
    {
     "name": "stderr",
     "output_type": "stream",
     "text": [
      "/root/.venv/lib/python3.12/site-packages/tqdm/auto.py:21: TqdmWarning: IProgress not found. Please update jupyter and ipywidgets. See https://ipywidgets.readthedocs.io/en/stable/user_install.html\n",
      "  from .autonotebook import tqdm as notebook_tqdm\n"
     ]
    }
   ],
   "source": [
    "import json\n",
    "import pandas as pd\n",
    "import numpy as np\n",
    "\n",
    "import tqdm as notebook_tqdm\n",
    "from datasets import Dataset\n",
    "\n",
    "import ast\n",
    "\n",
    "from sklearn.model_selection import train_test_split\n",
    "from sklearn.metrics import accuracy_score, precision_recall_fscore_support, classification_report, confusion_matrix, ConfusionMatrixDisplay, roc_curve, auc\n",
    "\n",
    "from transformers import XLMRobertaForSequenceClassification, Trainer, TrainingArguments, XLMRobertaTokenizer, DataCollatorWithPadding, TrainerCallback\n",
    "\n",
    "import torch\n",
    "from torch import nn\n",
    "from torch.nn import CrossEntropyLoss\n",
    "from torch.nn.functional import softmax\n",
    "\n",
    "import optuna\n",
    "\n",
    "import seaborn as sns\n",
    "import matplotlib.pyplot as plt\n"
   ]
  },
  {
   "cell_type": "code",
   "execution_count": 2,
   "id": "d02cabb5",
   "metadata": {},
   "outputs": [
    {
     "name": "stdout",
     "output_type": "stream",
     "text": [
      "True\n",
      "NVIDIA GeForce RTX 4090\n"
     ]
    }
   ],
   "source": [
    "print(torch.cuda.is_available())\n",
    "print(torch.cuda.get_device_name(0) if torch.cuda.is_available() else \"CUDA not available\")"
   ]
  },
  {
   "cell_type": "code",
   "execution_count": 48,
   "id": "7251015c",
   "metadata": {},
   "outputs": [
    {
     "data": {
      "text/html": [
       "<div>\n",
       "<style scoped>\n",
       "    .dataframe tbody tr th:only-of-type {\n",
       "        vertical-align: middle;\n",
       "    }\n",
       "\n",
       "    .dataframe tbody tr th {\n",
       "        vertical-align: top;\n",
       "    }\n",
       "\n",
       "    .dataframe thead th {\n",
       "        text-align: right;\n",
       "    }\n",
       "</style>\n",
       "<table border=\"1\" class=\"dataframe\">\n",
       "  <thead>\n",
       "    <tr style=\"text-align: right;\">\n",
       "      <th></th>\n",
       "      <th>Исполнитель</th>\n",
       "      <th>Трек</th>\n",
       "      <th>Собран</th>\n",
       "      <th>Жанр</th>\n",
       "      <th>Доп. информация</th>\n",
       "      <th>Фит</th>\n",
       "      <th>Совместный релиз</th>\n",
       "      <th>Альбом</th>\n",
       "      <th>Год выхода</th>\n",
       "      <th>Текст трека</th>\n",
       "      <th>Языки в тексте</th>\n",
       "      <th>Части текста</th>\n",
       "      <th>Обработанные части</th>\n",
       "      <th>Очищенные леммы</th>\n",
       "      <th>label</th>\n",
       "      <th>trigger</th>\n",
       "    </tr>\n",
       "    <tr>\n",
       "      <th>original_index</th>\n",
       "      <th></th>\n",
       "      <th></th>\n",
       "      <th></th>\n",
       "      <th></th>\n",
       "      <th></th>\n",
       "      <th></th>\n",
       "      <th></th>\n",
       "      <th></th>\n",
       "      <th></th>\n",
       "      <th></th>\n",
       "      <th></th>\n",
       "      <th></th>\n",
       "      <th></th>\n",
       "      <th></th>\n",
       "      <th></th>\n",
       "      <th></th>\n",
       "    </tr>\n",
       "  </thead>\n",
       "  <tbody>\n",
       "    <tr>\n",
       "      <th>https://music.yandex.ru/album/14163163/track/78713811</th>\n",
       "      <td>ИЧИ</td>\n",
       "      <td>16</td>\n",
       "      <td>1.0</td>\n",
       "      <td>русский рэп</td>\n",
       "      <td>Нет</td>\n",
       "      <td>Нет</td>\n",
       "      <td>Несовместный релиз</td>\n",
       "      <td>ЦПХ</td>\n",
       "      <td>2021.0</td>\n",
       "      <td>Как жалко, что нам не 16\\nКак жалко (как жалко...</td>\n",
       "      <td>[ru]</td>\n",
       "      <td>[Как жалко, что нам не 16\\nКак жалко (как жалк...</td>\n",
       "      <td>[[как, жалко, ,, что, мы, не, 16, как, жалко, ...</td>\n",
       "      <td>[[жалко, 16, жалко, жалко, эх, знать, занимать...</td>\n",
       "      <td>1</td>\n",
       "      <td>барыга</td>\n",
       "    </tr>\n",
       "    <tr>\n",
       "      <th>https://music.yandex.ru/album/17626885/track/50384685</th>\n",
       "      <td>Kuznetsky Squad</td>\n",
       "      <td>Леденец</td>\n",
       "      <td>1.0</td>\n",
       "      <td>русская поп-музыка</td>\n",
       "      <td>Нет</td>\n",
       "      <td>Нет</td>\n",
       "      <td>Несовместный релиз</td>\n",
       "      <td>Let Me Love U</td>\n",
       "      <td>2019.0</td>\n",
       "      <td>Мне такие песни легче писать\\nНаверное, потому...</td>\n",
       "      <td>[ru]</td>\n",
       "      <td>[Мне такие песни легче писать\\nНаверное, потом...</td>\n",
       "      <td>[[я, такой, песня, легкий, писать, наверное, ,...</td>\n",
       "      <td>[[песня, легкий, писать, наверное, романтик], ...</td>\n",
       "      <td>0</td>\n",
       "      <td>nan</td>\n",
       "    </tr>\n",
       "    <tr>\n",
       "      <th>https://music.yandex.ru/album/21205963/track/100838843</th>\n",
       "      <td>ESTETIKA</td>\n",
       "      <td>Круэлла</td>\n",
       "      <td>1.0</td>\n",
       "      <td>рэп и хип-хоп</td>\n",
       "      <td>Нет</td>\n",
       "      <td>Нет</td>\n",
       "      <td>Несовместный релиз</td>\n",
       "      <td>Сингл</td>\n",
       "      <td>2022.0</td>\n",
       "      <td>Мне пох вообще на всех, на все, нули на счет —...</td>\n",
       "      <td>[ru]</td>\n",
       "      <td>[Мне пох вообще на всех, на все, нули на счет ...</td>\n",
       "      <td>[[я, похотеть, вообще, на, все, ,, на, все, ,,...</td>\n",
       "      <td>[[похотеть, вообще, нуль, счет, хороший, забит...</td>\n",
       "      <td>1</td>\n",
       "      <td>Забил сумку крупным налом и ныряю в ...шок</td>\n",
       "    </tr>\n",
       "  </tbody>\n",
       "</table>\n",
       "</div>"
      ],
      "text/plain": [
       "                                                        Исполнитель     Трек  \\\n",
       "original_index                                                                 \n",
       "https://music.yandex.ru/album/14163163/track/78...              ИЧИ       16   \n",
       "https://music.yandex.ru/album/17626885/track/50...  Kuznetsky Squad  Леденец   \n",
       "https://music.yandex.ru/album/21205963/track/10...         ESTETIKA  Круэлла   \n",
       "\n",
       "                                                    Собран  \\\n",
       "original_index                                               \n",
       "https://music.yandex.ru/album/14163163/track/78...     1.0   \n",
       "https://music.yandex.ru/album/17626885/track/50...     1.0   \n",
       "https://music.yandex.ru/album/21205963/track/10...     1.0   \n",
       "\n",
       "                                                                  Жанр  \\\n",
       "original_index                                                           \n",
       "https://music.yandex.ru/album/14163163/track/78...         русский рэп   \n",
       "https://music.yandex.ru/album/17626885/track/50...  русская поп-музыка   \n",
       "https://music.yandex.ru/album/21205963/track/10...       рэп и хип-хоп   \n",
       "\n",
       "                                                   Доп. информация  Фит  \\\n",
       "original_index                                                            \n",
       "https://music.yandex.ru/album/14163163/track/78...             Нет  Нет   \n",
       "https://music.yandex.ru/album/17626885/track/50...             Нет  Нет   \n",
       "https://music.yandex.ru/album/21205963/track/10...             Нет  Нет   \n",
       "\n",
       "                                                      Совместный релиз  \\\n",
       "original_index                                                           \n",
       "https://music.yandex.ru/album/14163163/track/78...  Несовместный релиз   \n",
       "https://music.yandex.ru/album/17626885/track/50...  Несовместный релиз   \n",
       "https://music.yandex.ru/album/21205963/track/10...  Несовместный релиз   \n",
       "\n",
       "                                                           Альбом  Год выхода  \\\n",
       "original_index                                                                  \n",
       "https://music.yandex.ru/album/14163163/track/78...            ЦПХ      2021.0   \n",
       "https://music.yandex.ru/album/17626885/track/50...  Let Me Love U      2019.0   \n",
       "https://music.yandex.ru/album/21205963/track/10...          Сингл      2022.0   \n",
       "\n",
       "                                                                                          Текст трека  \\\n",
       "original_index                                                                                          \n",
       "https://music.yandex.ru/album/14163163/track/78...  Как жалко, что нам не 16\\nКак жалко (как жалко...   \n",
       "https://music.yandex.ru/album/17626885/track/50...  Мне такие песни легче писать\\nНаверное, потому...   \n",
       "https://music.yandex.ru/album/21205963/track/10...  Мне пох вообще на всех, на все, нули на счет —...   \n",
       "\n",
       "                                                   Языки в тексте  \\\n",
       "original_index                                                      \n",
       "https://music.yandex.ru/album/14163163/track/78...           [ru]   \n",
       "https://music.yandex.ru/album/17626885/track/50...           [ru]   \n",
       "https://music.yandex.ru/album/21205963/track/10...           [ru]   \n",
       "\n",
       "                                                                                         Части текста  \\\n",
       "original_index                                                                                          \n",
       "https://music.yandex.ru/album/14163163/track/78...  [Как жалко, что нам не 16\\nКак жалко (как жалк...   \n",
       "https://music.yandex.ru/album/17626885/track/50...  [Мне такие песни легче писать\\nНаверное, потом...   \n",
       "https://music.yandex.ru/album/21205963/track/10...  [Мне пох вообще на всех, на все, нули на счет ...   \n",
       "\n",
       "                                                                                   Обработанные части  \\\n",
       "original_index                                                                                          \n",
       "https://music.yandex.ru/album/14163163/track/78...  [[как, жалко, ,, что, мы, не, 16, как, жалко, ...   \n",
       "https://music.yandex.ru/album/17626885/track/50...  [[я, такой, песня, легкий, писать, наверное, ,...   \n",
       "https://music.yandex.ru/album/21205963/track/10...  [[я, похотеть, вообще, на, все, ,, на, все, ,,...   \n",
       "\n",
       "                                                                                      Очищенные леммы  \\\n",
       "original_index                                                                                          \n",
       "https://music.yandex.ru/album/14163163/track/78...  [[жалко, 16, жалко, жалко, эх, знать, занимать...   \n",
       "https://music.yandex.ru/album/17626885/track/50...  [[песня, легкий, писать, наверное, романтик], ...   \n",
       "https://music.yandex.ru/album/21205963/track/10...  [[похотеть, вообще, нуль, счет, хороший, забит...   \n",
       "\n",
       "                                                    label  \\\n",
       "original_index                                              \n",
       "https://music.yandex.ru/album/14163163/track/78...      1   \n",
       "https://music.yandex.ru/album/17626885/track/50...      0   \n",
       "https://music.yandex.ru/album/21205963/track/10...      1   \n",
       "\n",
       "                                                                                       trigger  \n",
       "original_index                                                                                  \n",
       "https://music.yandex.ru/album/14163163/track/78...                                      барыга  \n",
       "https://music.yandex.ru/album/17626885/track/50...                                         nan  \n",
       "https://music.yandex.ru/album/21205963/track/10...  Забил сумку крупным налом и ныряю в ...шок  "
      ]
     },
     "execution_count": 48,
     "metadata": {},
     "output_type": "execute_result"
    }
   ],
   "source": [
    "marked_df=df_final_lemmatized[df_final_lemmatized['label']!=-1]\n",
    "marked_df.head(3)"
   ]
  },
  {
   "cell_type": "code",
   "execution_count": 49,
   "id": "213b405f",
   "metadata": {},
   "outputs": [
    {
     "data": {
      "text/plain": [
       "label\n",
       "0    2870\n",
       "1    1401\n",
       "Name: count, dtype: int64"
      ]
     },
     "execution_count": 49,
     "metadata": {},
     "output_type": "execute_result"
    }
   ],
   "source": [
    "marked_df['label'].value_counts()"
   ]
  },
  {
   "cell_type": "markdown",
   "id": "0e9d7e0d",
   "metadata": {},
   "source": [
    "#### Классы несбалансированны, надо сбалансировать, попробуем весами"
   ]
  },
  {
   "cell_type": "code",
   "execution_count": null,
   "id": "89c5350b",
   "metadata": {},
   "outputs": [
    {
     "name": "stdout",
     "output_type": "stream",
     "text": [
      "tensor([0.3280, 0.6720])\n"
     ]
    }
   ],
   "source": [
    "# Веса обратно пропорциональны частоте\n",
    "class_counts = torch.tensor([2870, 1401], dtype=torch.float)\n",
    "class_weights = 1.0 / class_counts\n",
    "class_weights = class_weights / class_weights.sum()  # нормализация\n",
    "\n",
    "print(class_weights)\n"
   ]
  },
  {
   "cell_type": "code",
   "execution_count": 55,
   "id": "3f8d7043",
   "metadata": {},
   "outputs": [
    {
     "name": "stdout",
     "output_type": "stream",
     "text": [
      "Всего примеров: 4271\n",
      "Разбиение для модели: обучающая=2989, валид.=641, тестовая=641\n"
     ]
    }
   ],
   "source": [
    "print(\"Всего примеров:\", len(marked_df))\n",
    "\n",
    "# Разделение данных на обучающую, валидационную и тестовую выборки\n",
    "train_df, temp_df = train_test_split(marked_df, test_size=0.3, stratify=marked_df[\"label\"], random_state=5)\n",
    "val_df, test_df = train_test_split(temp_df, test_size=0.5, stratify=temp_df[\"label\"], random_state=5)\n",
    "train_df = train_df.reset_index(drop=True)\n",
    "val_df = val_df.reset_index(drop=True)\n",
    "test_df = test_df.reset_index(drop=True)\n",
    "print(f\"Разбиение для модели: обучающая={len(train_df)}, валид.={len(val_df)}, тестовая={len(test_df)}\")"
   ]
  },
  {
   "cell_type": "markdown",
   "id": "760e9bf2",
   "metadata": {},
   "source": [
    "#### Токенизация текстов и создание Dataset"
   ]
  },
  {
   "cell_type": "code",
   "execution_count": null,
   "id": "c2e4b8d6",
   "metadata": {},
   "outputs": [
    {
     "name": "stderr",
     "output_type": "stream",
     "text": [
      "Map: 100%|██████████| 2989/2989 [00:06<00:00, 488.96 examples/s]\n",
      "Map: 100%|██████████| 641/641 [00:01<00:00, 504.39 examples/s]\n",
      "Map: 100%|██████████| 641/641 [00:01<00:00, 514.79 examples/s]"
     ]
    },
    {
     "name": "stdout",
     "output_type": "stream",
     "text": [
      "{'label': 0, 'input_ids': [0, 44054, 312, 27830, 216721, 155030, 59, 134385, 12868, 10948, 195551, 1730, 7329, 29, 551, 589, 107178, 2732, 6860, 551, 44054, 312, 27830, 216721, 155030, 59, 134385, 12868, 10948, 195551, 1730, 7329, 29, 551, 589, 107178, 2732, 6860, 551, 83559, 216721, 155030, 59, 218, 589, 6, 15176, 2151, 61, 11054, 419, 38, 134385, 12332, 1082, 85169, 59, 10948, 1509, 150719, 24747, 4222, 2732, 3925, 61, 96313, 7836, 38, 44054, 312, 28434, 77, 29776, 29, 49270, 31, 672, 22145, 1794, 29, 33303, 819, 59, 2395, 89335, 27600, 77, 29, 111437, 252, 49, 779, 2871, 40965, 5235, 28434, 819, 241805, 227, 3151, 2871, 44054, 312, 35, 24898, 49, 14744, 67998, 779, 77, 819, 77, 2032, 2395, 417, 28434, 54087, 12149, 11848, 157843, 8979, 17224, 38, 1509, 29, 92086, 103, 2], 'attention_mask': [1, 1, 1, 1, 1, 1, 1, 1, 1, 1, 1, 1, 1, 1, 1, 1, 1, 1, 1, 1, 1, 1, 1, 1, 1, 1, 1, 1, 1, 1, 1, 1, 1, 1, 1, 1, 1, 1, 1, 1, 1, 1, 1, 1, 1, 1, 1, 1, 1, 1, 1, 1, 1, 1, 1, 1, 1, 1, 1, 1, 1, 1, 1, 1, 1, 1, 1, 1, 1, 1, 1, 1, 1, 1, 1, 1, 1, 1, 1, 1, 1, 1, 1, 1, 1, 1, 1, 1, 1, 1, 1, 1, 1, 1, 1, 1, 1, 1, 1, 1, 1, 1, 1, 1, 1, 1, 1, 1, 1, 1, 1, 1, 1, 1, 1, 1, 1, 1, 1, 1, 1, 1, 1, 1, 1, 1, 1, 1]}\n"
     ]
    },
    {
     "name": "stderr",
     "output_type": "stream",
     "text": [
      "\n"
     ]
    }
   ],
   "source": [
    "# Инициализация токенизатора XLM-RoBERTa\n",
    "tokenizer = XLMRobertaTokenizer.from_pretrained(\"xlm-roberta-base\")\n",
    "\n",
    "# Функция токенизации для применения к батчам данных\n",
    "def tokenize_batch(batch):\n",
    "    return tokenizer(batch[\"Текст трека\"], padding=\"max_length\", truncation=True, max_length=128)\n",
    "\n",
    "# Преобразование в Dataset\n",
    "train_dataset = Dataset.from_pandas(train_df[[\"Текст трека\", \"label\"]], preserve_index=False)\n",
    "val_dataset = Dataset.from_pandas(val_df[[\"Текст трека\", \"label\"]], preserve_index=False)\n",
    "test_dataset = Dataset.from_pandas(test_df[[\"Текст трека\", \"label\"]], preserve_index=False)\n",
    "\n",
    "# Токенизация\n",
    "train_dataset = train_dataset.map(tokenize_batch, batched=False)\n",
    "val_dataset = val_dataset.map(tokenize_batch, batched=False)\n",
    "test_dataset = test_dataset.map(tokenize_batch, batched=False)\n",
    "\n",
    "# Удаляем тексты, оставлим только данные для модели\n",
    "train_dataset = train_dataset.remove_columns(\"Текст трека\")\n",
    "val_dataset = val_dataset.remove_columns(\"Текст трека\")\n",
    "test_dataset = test_dataset.remove_columns(\"Текст трека\")\n",
    "\n",
    "\n",
    "data_collator = DataCollatorWithPadding(tokenizer=tokenizer)\n",
    "\n",
    "# Проверка результата токенизации на примере первой записи обучающей выборки\n",
    "print(train_dataset[0])\n"
   ]
  },
  {
   "cell_type": "code",
   "execution_count": null,
   "id": "30217389",
   "metadata": {},
   "outputs": [
    {
     "name": "stderr",
     "output_type": "stream",
     "text": [
      "Some weights of XLMRobertaForSequenceClassification were not initialized from the model checkpoint at xlm-roberta-base and are newly initialized: ['classifier.dense.bias', 'classifier.dense.weight', 'classifier.out_proj.bias', 'classifier.out_proj.weight']\n",
      "You should probably TRAIN this model on a down-stream task to be able to use it for predictions and inference.\n"
     ]
    }
   ],
   "source": [
    "# модель XLM-RoBERTa для классификации\n",
    "model = XLMRobertaForSequenceClassification.from_pretrained(\"xlm-roberta-base\", num_labels=2)\n",
    "\n",
    "# Функция для вычисления метрик качества\n",
    "def compute_metrics(eval_pred):\n",
    "    logits, labels = eval_pred\n",
    "    # Преобразуем logits модели в предсказанные классы\n",
    "    predictions = np.argmax(logits, axis=-1)\n",
    "    # Вычисляем метрики\n",
    "    precision, recall, f1, _ = precision_recall_fscore_support(labels, predictions, average=\"macro\")\n",
    "    acc = accuracy_score(labels, predictions)\n",
    "    return {\"accuracy\": acc, \"precision\": precision, \"recall\": recall, \"f1\": f1}"
   ]
  },
  {
   "cell_type": "code",
   "execution_count": 74,
   "id": "56595ebe",
   "metadata": {},
   "outputs": [],
   "source": [
    "# взвешенный тренер\n",
    "class WeightedTrainer(Trainer):\n",
    "    def __init__(self, class_weights, *args, **kwargs):\n",
    "        super().__init__(*args, **kwargs)\n",
    "        self.class_weights = class_weights\n",
    "\n",
    "    def compute_loss(self, model, inputs, return_outputs=False, **kwargs):\n",
    "        labels = inputs.get(\"labels\")\n",
    "        outputs = model(**inputs)\n",
    "        logits = outputs.get(\"logits\")\n",
    "        loss_fct = nn.CrossEntropyLoss(weight=self.class_weights)\n",
    "        loss = loss_fct(logits, labels)\n",
    "        return (loss, outputs) if return_outputs else loss\n"
   ]
  },
  {
   "cell_type": "code",
   "execution_count": 75,
   "id": "15679f86",
   "metadata": {},
   "outputs": [],
   "source": [
    "device = torch.device(\"cuda\" if torch.cuda.is_available() else \"cpu\")\n",
    "weights = torch.tensor([0.328, 0.672]).to(device)"
   ]
  },
  {
   "cell_type": "code",
   "execution_count": null,
   "id": "149caba9",
   "metadata": {},
   "outputs": [
    {
     "name": "stderr",
     "output_type": "stream",
     "text": [
      "/tmp/ipykernel_1409/1784220465.py:4: FutureWarning: `tokenizer` is deprecated and will be removed in version 5.0.0 for `WeightedTrainer.__init__`. Use `processing_class` instead.\n",
      "  super().__init__(*args, **kwargs)\n"
     ]
    },
    {
     "data": {
      "text/html": [
       "\n",
       "    <div>\n",
       "      \n",
       "      <progress value='2244' max='2244' style='width:300px; height:20px; vertical-align: middle;'></progress>\n",
       "      [2244/2244 02:58, Epoch 6/6]\n",
       "    </div>\n",
       "    <table border=\"1\" class=\"dataframe\">\n",
       "  <thead>\n",
       " <tr style=\"text-align: left;\">\n",
       "      <th>Epoch</th>\n",
       "      <th>Training Loss</th>\n",
       "      <th>Validation Loss</th>\n",
       "      <th>Accuracy</th>\n",
       "      <th>Precision</th>\n",
       "      <th>Recall</th>\n",
       "      <th>F1</th>\n",
       "    </tr>\n",
       "  </thead>\n",
       "  <tbody>\n",
       "    <tr>\n",
       "      <td>1</td>\n",
       "      <td>0.701500</td>\n",
       "      <td>0.691203</td>\n",
       "      <td>0.672387</td>\n",
       "      <td>0.586463</td>\n",
       "      <td>0.501221</td>\n",
       "      <td>0.406586</td>\n",
       "    </tr>\n",
       "    <tr>\n",
       "      <td>2</td>\n",
       "      <td>0.681700</td>\n",
       "      <td>0.670324</td>\n",
       "      <td>0.677067</td>\n",
       "      <td>0.688866</td>\n",
       "      <td>0.713468</td>\n",
       "      <td>0.670573</td>\n",
       "    </tr>\n",
       "    <tr>\n",
       "      <td>3</td>\n",
       "      <td>0.645100</td>\n",
       "      <td>0.595671</td>\n",
       "      <td>0.698908</td>\n",
       "      <td>0.687275</td>\n",
       "      <td>0.711397</td>\n",
       "      <td>0.685149</td>\n",
       "    </tr>\n",
       "    <tr>\n",
       "      <td>4</td>\n",
       "      <td>0.567300</td>\n",
       "      <td>0.588402</td>\n",
       "      <td>0.723869</td>\n",
       "      <td>0.684305</td>\n",
       "      <td>0.675019</td>\n",
       "      <td>0.678848</td>\n",
       "    </tr>\n",
       "    <tr>\n",
       "      <td>5</td>\n",
       "      <td>0.497900</td>\n",
       "      <td>0.633271</td>\n",
       "      <td>0.733229</td>\n",
       "      <td>0.695247</td>\n",
       "      <td>0.674655</td>\n",
       "      <td>0.681657</td>\n",
       "    </tr>\n",
       "    <tr>\n",
       "      <td>6</td>\n",
       "      <td>0.443900</td>\n",
       "      <td>0.706066</td>\n",
       "      <td>0.720749</td>\n",
       "      <td>0.687208</td>\n",
       "      <td>0.695895</td>\n",
       "      <td>0.690631</td>\n",
       "    </tr>\n",
       "  </tbody>\n",
       "</table><p>"
      ],
      "text/plain": [
       "<IPython.core.display.HTML object>"
      ]
     },
     "metadata": {},
     "output_type": "display_data"
    },
    {
     "data": {
      "text/plain": [
       "TrainOutput(global_step=2244, training_loss=0.5895634071499694, metrics={'train_runtime': 179.8872, 'train_samples_per_second': 99.696, 'train_steps_per_second': 12.474, 'total_flos': 1179658416706560.0, 'train_loss': 0.5895634071499694, 'epoch': 6.0})"
      ]
     },
     "execution_count": 76,
     "metadata": {},
     "output_type": "execute_result"
    }
   ],
   "source": [
    "# Задаём параметры обучения\n",
    "training_args = TrainingArguments(\n",
    "    output_dir=\"xlmr_classificator\",   \n",
    "    num_train_epochs=6,                         \n",
    "    per_device_train_batch_size=8,\n",
    "    per_device_eval_batch_size=8,\n",
    "    eval_strategy=\"epoch\", \n",
    "    save_strategy=\"epoch\",                     \n",
    "    save_total_limit=1,\n",
    "    logging_strategy=\"epoch\",                  \n",
    "    learning_rate=2e-5,                        \n",
    "    load_best_model_at_end=True,               \n",
    "    metric_for_best_model=\"eval_f1\",           \n",
    "    greater_is_better=True,                    \n",
    "    seed=5\n",
    ")\n",
    "\n",
    "trainer = WeightedTrainer(\n",
    "    class_weights=weights,\n",
    "    model=model,\n",
    "    args=training_args,\n",
    "    train_dataset=train_dataset,\n",
    "    eval_dataset=val_dataset,\n",
    "    tokenizer=tokenizer,\n",
    "    data_collator=data_collator,\n",
    "    compute_metrics=compute_metrics\n",
    ")\n",
    "\n",
    "# Обучение модели\n",
    "trainer.train()"
   ]
  },
  {
   "cell_type": "markdown",
   "id": "f2ef752b",
   "metadata": {},
   "source": [
    "#### Тест модели"
   ]
  },
  {
   "cell_type": "code",
   "execution_count": 78,
   "id": "e9b9b132",
   "metadata": {},
   "outputs": [
    {
     "name": "stdout",
     "output_type": "stream",
     "text": [
      "Метрики на тестовой выборке: {'eval_loss': 0.7272384166717529, 'eval_accuracy': 0.7223088923556942, 'eval_precision': 0.6842265943012211, 'eval_recall': 0.679576766229472, 'eval_f1': 0.6816817319495592, 'eval_runtime': 1.0041, 'eval_samples_per_second': 638.382, 'eval_steps_per_second': 80.669, 'epoch': 6.0}\n",
      "\n",
      "Классификационный отчёт:\n",
      "              precision    recall  f1-score   support\n",
      "\n",
      "           0       0.79      0.80      0.80       430\n",
      "           1       0.58      0.55      0.57       211\n",
      "\n",
      "    accuracy                           0.72       641\n",
      "   macro avg       0.68      0.68      0.68       641\n",
      "weighted avg       0.72      0.72      0.72       641\n",
      "\n"
     ]
    },
    {
     "data": {
      "text/plain": [
       "<sklearn.metrics._plot.confusion_matrix.ConfusionMatrixDisplay at 0x7a6ee4049df0>"
      ]
     },
     "execution_count": 78,
     "metadata": {},
     "output_type": "execute_result"
    },
    {
     "data": {
      "image/png": "[encoded data removed]",
      "text/plain": [
       "<Figure size 640x480 with 2 Axes>"
      ]
     },
     "metadata": {},
     "output_type": "display_data"
    }
   ],
   "source": [
    "test_metrics = trainer.evaluate(test_dataset)\n",
    "print(\"Метрики на тестовой выборке:\", test_metrics)\n",
    "\n",
    "# Подробный анализ\n",
    "predictions = trainer.predict(test_dataset)\n",
    "y_pred = np.argmax(predictions.predictions, axis=1)\n",
    "y_true = predictions.label_ids\n",
    "\n",
    "print(\"\\nКлассификационный отчёт:\")\n",
    "print(classification_report(y_true, y_pred))\n",
    "\n",
    "cm = confusion_matrix(y_true, y_pred)\n",
    "disp = ConfusionMatrixDisplay(confusion_matrix=cm)\n",
    "disp.plot(cmap=\"Blues\")"
   ]
  },
  {
   "cell_type": "markdown",
   "id": "0b99480d",
   "metadata": {},
   "source": [
    "### А теперь подберем гиперпараметры оптюной"
   ]
  },
  {
   "cell_type": "code",
   "execution_count": 99,
   "id": "f5a28850",
   "metadata": {},
   "outputs": [],
   "source": [
    "# Кастомный Trainer с функцией потерь\n",
    "class WeightedTrainer(Trainer):\n",
    "    def __init__(self, class_weights, *args, **kwargs):\n",
    "        super().__init__(*args, **kwargs)\n",
    "        self.class_weights = class_weights\n",
    "\n",
    "    def compute_loss(self, model, inputs, return_outputs=False, **kwargs):\n",
    "        labels = inputs.get(\"labels\")\n",
    "        outputs = model(**inputs)\n",
    "        logits = outputs.get(\"logits\")\n",
    "        loss_fct = nn.CrossEntropyLoss(weight=self.class_weights)\n",
    "        loss = loss_fct(logits, labels)\n",
    "        return (loss, outputs) if return_outputs else loss"
   ]
  },
  {
   "cell_type": "code",
   "execution_count": 100,
   "id": "c162b54d",
   "metadata": {},
   "outputs": [],
   "source": [
    "def compute_metrics(eval_pred):\n",
    "    logits, labels = eval_pred\n",
    "    predictions = np.argmax(logits, axis=-1)\n",
    "    precision, recall, f1, _ = precision_recall_fscore_support(labels, predictions, average=\"macro\")\n",
    "    acc = accuracy_score(labels, predictions)\n",
    "    return {\"accuracy\": acc, \"precision\": precision, \"recall\": recall, \"eval_f1\": f1}"
   ]
  },
  {
   "cell_type": "code",
   "execution_count": 101,
   "id": "4ee376dd",
   "metadata": {},
   "outputs": [],
   "source": [
    "# Модель и токенизатор\n",
    "tokenizer = XLMRobertaTokenizer.from_pretrained(\"xlm-roberta-base\")"
   ]
  },
  {
   "cell_type": "code",
   "execution_count": 102,
   "id": "b63db486",
   "metadata": {},
   "outputs": [
    {
     "name": "stderr",
     "output_type": "stream",
     "text": [
      "Map: 100%|██████████| 2989/2989 [00:07<00:00, 421.80 examples/s]\n",
      "Map: 100%|██████████| 641/641 [00:01<00:00, 429.09 examples/s]\n",
      "Map: 100%|██████████| 641/641 [00:01<00:00, 436.88 examples/s]\n"
     ]
    }
   ],
   "source": [
    "def model_init():\n",
    "    return XLMRobertaForSequenceClassification.from_pretrained(\"xlm-roberta-base\", num_labels=2)\n",
    "\n",
    "# Токенизация\n",
    "def tokenize_batch(batch):\n",
    "    return tokenizer(batch[\"Текст трека\"], padding=\"max_length\", truncation=True, max_length=512)\n",
    "\n",
    "# Подготовка датасетов (train_df, val_df, test_df — уже загружены как pandas.DataFrame)\n",
    "train_dataset = Dataset.from_pandas(train_df[[\"Текст трека\", \"label\"]], preserve_index=False)\n",
    "val_dataset = Dataset.from_pandas(val_df[[\"Текст трека\", \"label\"]], preserve_index=False)\n",
    "test_dataset = Dataset.from_pandas(test_df[[\"Текст трека\", \"label\"]], preserve_index=False)\n",
    "\n",
    "train_dataset = train_dataset.map(tokenize_batch, batched=False)\n",
    "val_dataset = val_dataset.map(tokenize_batch, batched=False)\n",
    "test_dataset = test_dataset.map(tokenize_batch, batched=False)\n",
    "\n",
    "train_dataset = train_dataset.remove_columns(\"Текст трека\")\n",
    "val_dataset = val_dataset.remove_columns(\"Текст трека\")\n",
    "test_dataset = test_dataset.remove_columns(\"Текст трека\")\n",
    "\n",
    "data_collator = DataCollatorWithPadding(tokenizer=tokenizer)"
   ]
  },
  {
   "cell_type": "code",
   "execution_count": null,
   "id": "cdd7aef0",
   "metadata": {},
   "outputs": [],
   "source": [
    "# Пространство гиперпараметров\n",
    "def optuna_hp_space(trial):\n",
    "    return {\n",
    "        \"learning_rate\": trial.suggest_float(\"learning_rate\", 1e-6, 5e-5, log=True),\n",
    "        \"per_device_train_batch_size\": trial.suggest_categorical(\"per_device_train_batch_size\", [8, 16]),\n",
    "        \"num_train_epochs\": trial.suggest_int(\"num_train_epochs\", 2, 6),\n",
    "        \"weight_decay\": trial.suggest_float(\"weight_decay\", 0.0, 0.3),\n",
    "        \"warmup_ratio\": trial.suggest_float(\"warmup_ratio\", 0.0, 0.3),\n",
    "    }"
   ]
  },
  {
   "cell_type": "code",
   "execution_count": 104,
   "id": "7002fc32",
   "metadata": {},
   "outputs": [
    {
     "name": "stderr",
     "output_type": "stream",
     "text": [
      "/tmp/ipykernel_1409/1355604549.py:4: FutureWarning: `tokenizer` is deprecated and will be removed in version 5.0.0 for `WeightedTrainer.__init__`. Use `processing_class` instead.\n",
      "  super().__init__(*args, **kwargs)\n",
      "Some weights of XLMRobertaForSequenceClassification were not initialized from the model checkpoint at xlm-roberta-base and are newly initialized: ['classifier.dense.bias', 'classifier.dense.weight', 'classifier.out_proj.bias', 'classifier.out_proj.weight']\n",
      "You should probably TRAIN this model on a down-stream task to be able to use it for predictions and inference.\n"
     ]
    }
   ],
   "source": [
    "# Временный Trainer для поиска\n",
    "trainer_for_search = WeightedTrainer(\n",
    "    class_weights=weights,\n",
    "    model_init=model_init,\n",
    "    args=TrainingArguments(\n",
    "        output_dir=\"xlmr_hp_search_temp\",\n",
    "        eval_strategy=\"epoch\",\n",
    "        save_strategy=\"no\",\n",
    "        logging_strategy=\"no\",\n",
    "        report_to=\"none\",\n",
    "        disable_tqdm=True,\n",
    "        per_device_train_batch_size=8,  \n",
    "        num_train_epochs=2,             \n",
    "        seed=5\n",
    "    ),\n",
    "    train_dataset=train_dataset,\n",
    "    eval_dataset=val_dataset,\n",
    "    tokenizer=tokenizer,\n",
    "    data_collator=data_collator,\n",
    "    compute_metrics=compute_metrics\n",
    ")"
   ]
  },
  {
   "cell_type": "code",
   "execution_count": 105,
   "id": "75fbe9c5",
   "metadata": {},
   "outputs": [
    {
     "name": "stderr",
     "output_type": "stream",
     "text": [
      "[I 2025-05-20 11:44:52,374] A new study created in memory with name: no-name-6da4e764-da9b-4d4e-8011-58f1360cd38b\n",
      "Some weights of XLMRobertaForSequenceClassification were not initialized from the model checkpoint at xlm-roberta-base and are newly initialized: ['classifier.dense.bias', 'classifier.dense.weight', 'classifier.out_proj.bias', 'classifier.out_proj.weight']\n",
      "You should probably TRAIN this model on a down-stream task to be able to use it for predictions and inference.\n"
     ]
    },
    {
     "name": "stdout",
     "output_type": "stream",
     "text": [
      "{'eval_f1': 0.6541427593830604, 'eval_loss': 0.6327242255210876, 'eval_accuracy': 0.7441497659906396, 'eval_precision': 0.7348785990545768, 'eval_recall': 0.6449287371561153, 'eval_runtime': 2.5343, 'eval_samples_per_second': 252.926, 'eval_steps_per_second': 31.961, 'epoch': 1.0}\n",
      "{'eval_f1': 0.7097826765752826, 'eval_loss': 0.541680634021759, 'eval_accuracy': 0.7285491419656787, 'eval_precision': 0.7058341002760994, 'eval_recall': 0.727333996243509, 'eval_runtime': 2.551, 'eval_samples_per_second': 251.277, 'eval_steps_per_second': 31.753, 'epoch': 2.0}\n",
      "{'train_runtime': 77.0352, 'train_samples_per_second': 77.601, 'train_steps_per_second': 4.855, 'train_loss': 0.6267329333300259, 'epoch': 2.0}\n"
     ]
    },
    {
     "name": "stderr",
     "output_type": "stream",
     "text": [
      "[I 2025-05-20 11:46:11,076] Trial 0 finished with value: 0.7097826765752826 and parameters: {'learning_rate': 6.1265951084087395e-06, 'per_device_train_batch_size': 16, 'num_train_epochs': 2, 'weight_decay': 0.15560253331745622, 'warmup_ratio': 0.23528779278377157}. Best is trial 0 with value: 0.7097826765752826.\n",
      "Some weights of XLMRobertaForSequenceClassification were not initialized from the model checkpoint at xlm-roberta-base and are newly initialized: ['classifier.dense.bias', 'classifier.dense.weight', 'classifier.out_proj.bias', 'classifier.out_proj.weight']\n",
      "You should probably TRAIN this model on a down-stream task to be able to use it for predictions and inference.\n"
     ]
    },
    {
     "name": "stdout",
     "output_type": "stream",
     "text": [
      "{'eval_f1': 0.6927300857394634, 'eval_loss': 0.6349825263023376, 'eval_accuracy': 0.7394695787831513, 'eval_precision': 0.7028705260629353, 'eval_recall': 0.6866202629543696, 'eval_runtime': 2.5671, 'eval_samples_per_second': 249.695, 'eval_steps_per_second': 31.553, 'epoch': 1.0}\n",
      "{'eval_f1': 0.6727050727050727, 'eval_loss': 0.55446457862854, 'eval_accuracy': 0.6770670826833073, 'eval_precision': 0.6992839389276837, 'eval_recall': 0.7232350016572754, 'eval_runtime': 2.5719, 'eval_samples_per_second': 249.233, 'eval_steps_per_second': 31.494, 'epoch': 2.0}\n",
      "{'train_runtime': 77.392, 'train_samples_per_second': 77.243, 'train_steps_per_second': 4.833, 'train_loss': 0.6322934155795663, 'epoch': 2.0}\n"
     ]
    },
    {
     "name": "stderr",
     "output_type": "stream",
     "text": [
      "[I 2025-05-20 11:47:30,272] Trial 1 finished with value: 0.6727050727050727 and parameters: {'learning_rate': 2.253702033144951e-05, 'per_device_train_batch_size': 16, 'num_train_epochs': 2, 'weight_decay': 0.13437121480732248, 'warmup_ratio': 0.16105302665363194}. Best is trial 0 with value: 0.7097826765752826.\n",
      "Some weights of XLMRobertaForSequenceClassification were not initialized from the model checkpoint at xlm-roberta-base and are newly initialized: ['classifier.dense.bias', 'classifier.dense.weight', 'classifier.out_proj.bias', 'classifier.out_proj.weight']\n",
      "You should probably TRAIN this model on a down-stream task to be able to use it for predictions and inference.\n"
     ]
    },
    {
     "name": "stdout",
     "output_type": "stream",
     "text": [
      "{'eval_f1': 0.5993117334315945, 'eval_loss': 0.6656467914581299, 'eval_accuracy': 0.7035881435257411, 'eval_precision': 0.660274316000573, 'eval_recall': 0.5988951497072147, 'eval_runtime': 2.5475, 'eval_samples_per_second': 251.62, 'eval_steps_per_second': 31.796, 'epoch': 1.0}\n",
      "{'eval_f1': 0.6698730728335991, 'eval_loss': 0.6151717901229858, 'eval_accuracy': 0.7098283931357254, 'eval_precision': 0.6703011192041215, 'eval_recall': 0.6694619379074136, 'eval_runtime': 2.5472, 'eval_samples_per_second': 251.649, 'eval_steps_per_second': 31.8, 'epoch': 2.0}\n",
      "{'eval_f1': 0.670951902689432, 'eval_loss': 0.6033234000205994, 'eval_accuracy': 0.7129485179407177, 'eval_precision': 0.6728388100769074, 'eval_recall': 0.6693404043752071, 'eval_runtime': 2.5478, 'eval_samples_per_second': 251.592, 'eval_steps_per_second': 31.792, 'epoch': 3.0}\n",
      "{'train_runtime': 115.8636, 'train_samples_per_second': 77.393, 'train_steps_per_second': 4.842, 'train_loss': 0.6548585398736909, 'epoch': 3.0}\n"
     ]
    },
    {
     "name": "stderr",
     "output_type": "stream",
     "text": [
      "[I 2025-05-20 11:49:27,891] Trial 2 finished with value: 0.670951902689432 and parameters: {'learning_rate': 1.5793040172765316e-06, 'per_device_train_batch_size': 16, 'num_train_epochs': 3, 'weight_decay': 0.24672938573958503, 'warmup_ratio': 0.22438310525313246}. Best is trial 0 with value: 0.7097826765752826.\n",
      "Some weights of XLMRobertaForSequenceClassification were not initialized from the model checkpoint at xlm-roberta-base and are newly initialized: ['classifier.dense.bias', 'classifier.dense.weight', 'classifier.out_proj.bias', 'classifier.out_proj.weight']\n",
      "You should probably TRAIN this model on a down-stream task to be able to use it for predictions and inference.\n"
     ]
    },
    {
     "name": "stdout",
     "output_type": "stream",
     "text": [
      "{'eval_f1': 0.7030498442120199, 'eval_loss': 0.5808504223823547, 'eval_accuracy': 0.7269890795631825, 'eval_precision': 0.6984058683714449, 'eval_recall': 0.7139653077008066, 'eval_runtime': 2.5467, 'eval_samples_per_second': 251.696, 'eval_steps_per_second': 31.806, 'epoch': 1.0}\n",
      "{'eval_f1': 0.6807195863516264, 'eval_loss': 0.5597857236862183, 'eval_accuracy': 0.6926677067082684, 'eval_precision': 0.6857360198170435, 'eval_recall': 0.7104187382609657, 'eval_runtime': 2.5522, 'eval_samples_per_second': 251.154, 'eval_steps_per_second': 31.737, 'epoch': 2.0}\n",
      "{'train_runtime': 90.878, 'train_samples_per_second': 65.78, 'train_steps_per_second': 8.231, 'train_loss': 0.6066608530952331, 'epoch': 2.0}\n"
     ]
    },
    {
     "name": "stderr",
     "output_type": "stream",
     "text": [
      "[I 2025-05-20 11:51:00,467] Trial 3 finished with value: 0.6807195863516264 and parameters: {'learning_rate': 6.935352658653782e-06, 'per_device_train_batch_size': 8, 'num_train_epochs': 2, 'weight_decay': 0.12064358966993946, 'warmup_ratio': 0.030818909801582094}. Best is trial 0 with value: 0.7097826765752826.\n",
      "Some weights of XLMRobertaForSequenceClassification were not initialized from the model checkpoint at xlm-roberta-base and are newly initialized: ['classifier.dense.bias', 'classifier.dense.weight', 'classifier.out_proj.bias', 'classifier.out_proj.weight']\n",
      "You should probably TRAIN this model on a down-stream task to be able to use it for predictions and inference.\n"
     ]
    },
    {
     "name": "stdout",
     "output_type": "stream",
     "text": [
      "{'eval_f1': 0.6420397766238856, 'eval_loss': 0.5776715278625488, 'eval_accuracy': 0.6443057722308893, 'eval_precision': 0.6826023391812865, 'eval_recall': 0.7000939122748868, 'eval_runtime': 2.5414, 'eval_samples_per_second': 252.219, 'eval_steps_per_second': 31.872, 'epoch': 1.0}\n",
      "{'eval_f1': 0.62402496099844, 'eval_loss': 0.7117549777030945, 'eval_accuracy': 0.62402496099844, 'eval_precision': 0.7082090376753949, 'eval_recall': 0.7082090376753949, 'eval_runtime': 2.5462, 'eval_samples_per_second': 251.744, 'eval_steps_per_second': 31.812, 'epoch': 2.0}\n",
      "{'eval_f1': 0.713494158216327, 'eval_loss': 0.5580799579620361, 'eval_accuracy': 0.7207488299531981, 'eval_precision': 0.7254793079261164, 'eval_recall': 0.755717600265164, 'eval_runtime': 2.547, 'eval_samples_per_second': 251.666, 'eval_steps_per_second': 31.802, 'epoch': 3.0}\n",
      "{'eval_f1': 0.7529669517474396, 'eval_loss': 0.5652471780776978, 'eval_accuracy': 0.7722308892355694, 'eval_precision': 0.7466540172195699, 'eval_recall': 0.7671417522925643, 'eval_runtime': 2.5491, 'eval_samples_per_second': 251.463, 'eval_steps_per_second': 31.776, 'epoch': 4.0}\n",
      "{'eval_f1': 0.7547793732313175, 'eval_loss': 0.7125623822212219, 'eval_accuracy': 0.7722308892355694, 'eval_precision': 0.7485463355542096, 'eval_recall': 0.7720251905866755, 'eval_runtime': 2.547, 'eval_samples_per_second': 251.671, 'eval_steps_per_second': 31.802, 'epoch': 5.0}\n",
      "{'train_runtime': 193.2242, 'train_samples_per_second': 77.345, 'train_steps_per_second': 4.839, 'train_loss': 0.48311682716410426, 'epoch': 5.0}\n"
     ]
    },
    {
     "name": "stderr",
     "output_type": "stream",
     "text": [
      "[I 2025-05-20 11:54:15,347] Trial 4 finished with value: 0.7547793732313175 and parameters: {'learning_rate': 2.2309853703773973e-05, 'per_device_train_batch_size': 16, 'num_train_epochs': 5, 'weight_decay': 0.0779373242742173, 'warmup_ratio': 0.26001579543774245}. Best is trial 4 with value: 0.7547793732313175.\n",
      "Some weights of XLMRobertaForSequenceClassification were not initialized from the model checkpoint at xlm-roberta-base and are newly initialized: ['classifier.dense.bias', 'classifier.dense.weight', 'classifier.out_proj.bias', 'classifier.out_proj.weight']\n",
      "You should probably TRAIN this model on a down-stream task to be able to use it for predictions and inference.\n"
     ]
    },
    {
     "name": "stdout",
     "output_type": "stream",
     "text": [
      "{'eval_f1': 0.709616308600453, 'eval_loss': 0.6129738688468933, 'eval_accuracy': 0.7425897035881436, 'eval_precision': 0.7084288677803253, 'eval_recall': 0.710915920892719, 'eval_runtime': 2.546, 'eval_samples_per_second': 251.764, 'eval_steps_per_second': 31.814, 'epoch': 1.0}\n",
      "{'eval_f1': 0.7329980696941989, 'eval_loss': 0.5133399367332458, 'eval_accuracy': 0.7441497659906396, 'eval_precision': 0.7340811339198436, 'eval_recall': 0.7645729753618384, 'eval_runtime': 2.5504, 'eval_samples_per_second': 251.335, 'eval_steps_per_second': 31.76, 'epoch': 2.0}\n",
      "{'eval_f1': 0.7305590584279109, 'eval_loss': 0.5450060963630676, 'eval_accuracy': 0.7457098283931357, 'eval_precision': 0.7271975682686787, 'eval_recall': 0.7535244724339851, 'eval_runtime': 2.5496, 'eval_samples_per_second': 251.409, 'eval_steps_per_second': 31.769, 'epoch': 3.0}\n",
      "{'eval_f1': 0.7620482585435091, 'eval_loss': 0.6393990516662598, 'eval_accuracy': 0.7878315132605305, 'eval_precision': 0.7592690563593176, 'eval_recall': 0.7653132250580046, 'eval_runtime': 2.5594, 'eval_samples_per_second': 250.449, 'eval_steps_per_second': 31.648, 'epoch': 4.0}\n",
      "{'eval_f1': 0.7625333350849306, 'eval_loss': 0.725458562374115, 'eval_accuracy': 0.7800312012480499, 'eval_precision': 0.7559227059014266, 'eval_recall': 0.7790465141973263, 'eval_runtime': 2.5501, 'eval_samples_per_second': 251.361, 'eval_steps_per_second': 31.763, 'epoch': 5.0}\n",
      "{'train_runtime': 193.3178, 'train_samples_per_second': 77.308, 'train_steps_per_second': 4.837, 'train_loss': 0.44207711449281417, 'epoch': 5.0}\n"
     ]
    },
    {
     "name": "stderr",
     "output_type": "stream",
     "text": [
      "[I 2025-05-20 11:57:30,417] Trial 5 finished with value: 0.7625333350849306 and parameters: {'learning_rate': 1.8446393118677235e-05, 'per_device_train_batch_size': 16, 'num_train_epochs': 5, 'weight_decay': 0.059888031807521065, 'warmup_ratio': 0.17489938232385052}. Best is trial 5 with value: 0.7625333350849306.\n",
      "Some weights of XLMRobertaForSequenceClassification were not initialized from the model checkpoint at xlm-roberta-base and are newly initialized: ['classifier.dense.bias', 'classifier.dense.weight', 'classifier.out_proj.bias', 'classifier.out_proj.weight']\n",
      "You should probably TRAIN this model on a down-stream task to be able to use it for predictions and inference.\n",
      "[I 2025-05-20 11:58:10,091] Trial 6 pruned. \n"
     ]
    },
    {
     "name": "stdout",
     "output_type": "stream",
     "text": [
      "{'eval_f1': 0.6416676474049665, 'eval_loss': 0.5826276540756226, 'eval_accuracy': 0.6443057722308893, 'eval_precision': 0.6795413488558812, 'eval_recall': 0.6976521931278312, 'eval_runtime': 2.5529, 'eval_samples_per_second': 251.09, 'eval_steps_per_second': 31.729, 'epoch': 1.0}\n"
     ]
    },
    {
     "name": "stderr",
     "output_type": "stream",
     "text": [
      "Some weights of XLMRobertaForSequenceClassification were not initialized from the model checkpoint at xlm-roberta-base and are newly initialized: ['classifier.dense.bias', 'classifier.dense.weight', 'classifier.out_proj.bias', 'classifier.out_proj.weight']\n",
      "You should probably TRAIN this model on a down-stream task to be able to use it for predictions and inference.\n"
     ]
    },
    {
     "name": "stdout",
     "output_type": "stream",
     "text": [
      "{'eval_f1': 0.6892372333548804, 'eval_loss': 0.6129915118217468, 'eval_accuracy': 0.7472698907956318, 'eval_precision': 0.7160124269980532, 'eval_recall': 0.678991271682687, 'eval_runtime': 2.5536, 'eval_samples_per_second': 251.016, 'eval_steps_per_second': 31.72, 'epoch': 1.0}\n"
     ]
    },
    {
     "name": "stderr",
     "output_type": "stream",
     "text": [
      "[I 2025-05-20 11:59:41,903] Trial 7 pruned. \n"
     ]
    },
    {
     "name": "stdout",
     "output_type": "stream",
     "text": [
      "{'eval_f1': 0.7148276670953756, 'eval_loss': 0.5507509708404541, 'eval_accuracy': 0.7425897035881436, 'eval_precision': 0.7108964206525181, 'eval_recall': 0.7206827974809413, 'eval_runtime': 2.5649, 'eval_samples_per_second': 249.913, 'eval_steps_per_second': 31.58, 'epoch': 2.0}\n"
     ]
    },
    {
     "name": "stderr",
     "output_type": "stream",
     "text": [
      "Some weights of XLMRobertaForSequenceClassification were not initialized from the model checkpoint at xlm-roberta-base and are newly initialized: ['classifier.dense.bias', 'classifier.dense.weight', 'classifier.out_proj.bias', 'classifier.out_proj.weight']\n",
      "You should probably TRAIN this model on a down-stream task to be able to use it for predictions and inference.\n",
      "[I 2025-05-20 12:00:21,608] Trial 8 pruned. \n"
     ]
    },
    {
     "name": "stdout",
     "output_type": "stream",
     "text": [
      "{'eval_f1': 0.6420397766238856, 'eval_loss': 0.6638891100883484, 'eval_accuracy': 0.6443057722308893, 'eval_precision': 0.6826023391812865, 'eval_recall': 0.7000939122748868, 'eval_runtime': 2.5428, 'eval_samples_per_second': 252.083, 'eval_steps_per_second': 31.854, 'epoch': 1.0}\n"
     ]
    },
    {
     "name": "stderr",
     "output_type": "stream",
     "text": [
      "Some weights of XLMRobertaForSequenceClassification were not initialized from the model checkpoint at xlm-roberta-base and are newly initialized: ['classifier.dense.bias', 'classifier.dense.weight', 'classifier.out_proj.bias', 'classifier.out_proj.weight']\n",
      "You should probably TRAIN this model on a down-stream task to be able to use it for predictions and inference.\n",
      "[I 2025-05-20 12:01:01,260] Trial 9 pruned. \n"
     ]
    },
    {
     "name": "stdout",
     "output_type": "stream",
     "text": [
      "{'eval_f1': 0.567149950347567, 'eval_loss': 0.670482337474823, 'eval_accuracy': 0.7082683307332294, 'eval_precision': 0.6943643162393163, 'eval_recall': 0.5803999558059882, 'eval_runtime': 2.5534, 'eval_samples_per_second': 251.04, 'eval_steps_per_second': 31.723, 'epoch': 1.0}\n"
     ]
    },
    {
     "name": "stderr",
     "output_type": "stream",
     "text": [
      "Some weights of XLMRobertaForSequenceClassification were not initialized from the model checkpoint at xlm-roberta-base and are newly initialized: ['classifier.dense.bias', 'classifier.dense.weight', 'classifier.out_proj.bias', 'classifier.out_proj.weight']\n",
      "You should probably TRAIN this model on a down-stream task to be able to use it for predictions and inference.\n",
      "/root/.venv/lib/python3.12/site-packages/sklearn/metrics/_classification.py:1565: UndefinedMetricWarning: Precision is ill-defined and being set to 0.0 in labels with no predicted samples. Use `zero_division` parameter to control this behavior.\n",
      "  _warn_prf(average, modifier, f\"{metric.capitalize()} is\", len(result))\n",
      "[I 2025-05-20 12:01:47,565] Trial 10 pruned. \n"
     ]
    },
    {
     "name": "stdout",
     "output_type": "stream",
     "text": [
      "{'eval_f1': 0.40205223880597013, 'eval_loss': 0.6885488629341125, 'eval_accuracy': 0.672386895475819, 'eval_precision': 0.3361934477379095, 'eval_recall': 0.5, 'eval_runtime': 2.5462, 'eval_samples_per_second': 251.743, 'eval_steps_per_second': 31.812, 'epoch': 1.0}\n"
     ]
    },
    {
     "name": "stderr",
     "output_type": "stream",
     "text": [
      "Some weights of XLMRobertaForSequenceClassification were not initialized from the model checkpoint at xlm-roberta-base and are newly initialized: ['classifier.dense.bias', 'classifier.dense.weight', 'classifier.out_proj.bias', 'classifier.out_proj.weight']\n",
      "You should probably TRAIN this model on a down-stream task to be able to use it for predictions and inference.\n"
     ]
    },
    {
     "name": "stdout",
     "output_type": "stream",
     "text": [
      "{'eval_f1': 0.699595992243051, 'eval_loss': 0.5723097324371338, 'eval_accuracy': 0.7285491419656787, 'eval_precision': 0.6958835679959532, 'eval_recall': 0.7053585239200089, 'eval_runtime': 2.5451, 'eval_samples_per_second': 251.855, 'eval_steps_per_second': 31.826, 'epoch': 1.0}\n",
      "{'eval_f1': 0.6962016746033537, 'eval_loss': 0.5878477692604065, 'eval_accuracy': 0.7051482059282371, 'eval_precision': 0.7054176401869159, 'eval_recall': 0.7331289360291681, 'eval_runtime': 2.5471, 'eval_samples_per_second': 251.661, 'eval_steps_per_second': 31.801, 'epoch': 2.0}\n",
      "{'eval_f1': 0.7402431421446385, 'eval_loss': 0.528293251991272, 'eval_accuracy': 0.7566302652106084, 'eval_precision': 0.7353099730458221, 'eval_recall': 0.7604242625124296, 'eval_runtime': 2.5477, 'eval_samples_per_second': 251.604, 'eval_steps_per_second': 31.794, 'epoch': 3.0}\n",
      "{'eval_f1': 0.7554225000733762, 'eval_loss': 0.5878334045410156, 'eval_accuracy': 0.7769110764430577, 'eval_precision': 0.7495020746887966, 'eval_recall': 0.765738592420727, 'eval_runtime': 2.5479, 'eval_samples_per_second': 251.576, 'eval_steps_per_second': 31.79, 'epoch': 4.0}\n"
     ]
    },
    {
     "name": "stderr",
     "output_type": "stream",
     "text": [
      "[I 2025-05-20 12:05:01,707] Trial 11 pruned. \n"
     ]
    },
    {
     "name": "stdout",
     "output_type": "stream",
     "text": [
      "{'eval_f1': 0.7544160002143365, 'eval_loss': 0.6549691557884216, 'eval_accuracy': 0.7769110764430577, 'eval_precision': 0.7488929272674103, 'eval_recall': 0.7632968732736714, 'eval_runtime': 2.5528, 'eval_samples_per_second': 251.099, 'eval_steps_per_second': 31.73, 'epoch': 5.0}\n"
     ]
    },
    {
     "name": "stderr",
     "output_type": "stream",
     "text": [
      "Some weights of XLMRobertaForSequenceClassification were not initialized from the model checkpoint at xlm-roberta-base and are newly initialized: ['classifier.dense.bias', 'classifier.dense.weight', 'classifier.out_proj.bias', 'classifier.out_proj.weight']\n",
      "You should probably TRAIN this model on a down-stream task to be able to use it for predictions and inference.\n",
      "[I 2025-05-20 12:05:41,339] Trial 12 pruned. \n"
     ]
    },
    {
     "name": "stdout",
     "output_type": "stream",
     "text": [
      "{'eval_f1': 0.40658614001058013, 'eval_loss': 0.6906965374946594, 'eval_accuracy': 0.672386895475819, 'eval_precision': 0.5864632237871674, 'eval_recall': 0.5012208595735278, 'eval_runtime': 2.5467, 'eval_samples_per_second': 251.702, 'eval_steps_per_second': 31.806, 'epoch': 1.0}\n"
     ]
    },
    {
     "name": "stderr",
     "output_type": "stream",
     "text": [
      "Some weights of XLMRobertaForSequenceClassification were not initialized from the model checkpoint at xlm-roberta-base and are newly initialized: ['classifier.dense.bias', 'classifier.dense.weight', 'classifier.out_proj.bias', 'classifier.out_proj.weight']\n",
      "You should probably TRAIN this model on a down-stream task to be able to use it for predictions and inference.\n",
      "[I 2025-05-20 12:06:21,237] Trial 13 pruned. \n"
     ]
    },
    {
     "name": "stdout",
     "output_type": "stream",
     "text": [
      "{'eval_f1': 0.5190325678318307, 'eval_loss': 0.6904314160346985, 'eval_accuracy': 0.6989079563182528, 'eval_precision': 0.7078115682766846, 'eval_recall': 0.5539056457849961, 'eval_runtime': 2.5488, 'eval_samples_per_second': 251.495, 'eval_steps_per_second': 31.78, 'epoch': 1.0}\n"
     ]
    },
    {
     "name": "stderr",
     "output_type": "stream",
     "text": [
      "Some weights of XLMRobertaForSequenceClassification were not initialized from the model checkpoint at xlm-roberta-base and are newly initialized: ['classifier.dense.bias', 'classifier.dense.weight', 'classifier.out_proj.bias', 'classifier.out_proj.weight']\n",
      "You should probably TRAIN this model on a down-stream task to be able to use it for predictions and inference.\n",
      "[I 2025-05-20 12:07:07,579] Trial 14 pruned. \n"
     ]
    },
    {
     "name": "stdout",
     "output_type": "stream",
     "text": [
      "{'eval_f1': 0.679721947071766, 'eval_loss': 0.5969052314758301, 'eval_accuracy': 0.733229329173167, 'eval_precision': 0.6954041720990873, 'eval_recall': 0.672213015136449, 'eval_runtime': 2.5583, 'eval_samples_per_second': 250.553, 'eval_steps_per_second': 31.661, 'epoch': 1.0}\n"
     ]
    },
    {
     "name": "stderr",
     "output_type": "stream",
     "text": [
      "Some weights of XLMRobertaForSequenceClassification were not initialized from the model checkpoint at xlm-roberta-base and are newly initialized: ['classifier.dense.bias', 'classifier.dense.weight', 'classifier.out_proj.bias', 'classifier.out_proj.weight']\n",
      "You should probably TRAIN this model on a down-stream task to be able to use it for predictions and inference.\n",
      "[I 2025-05-20 12:07:47,664] Trial 15 pruned. \n"
     ]
    },
    {
     "name": "stdout",
     "output_type": "stream",
     "text": [
      "{'eval_f1': 0.5438620397286822, 'eval_loss': 0.6519868969917297, 'eval_accuracy': 0.7067082683307332, 'eval_precision': 0.717028527262507, 'eval_recall': 0.5682521268368136, 'eval_runtime': 2.5485, 'eval_samples_per_second': 251.523, 'eval_steps_per_second': 31.784, 'epoch': 1.0}\n"
     ]
    },
    {
     "name": "stderr",
     "output_type": "stream",
     "text": [
      "Some weights of XLMRobertaForSequenceClassification were not initialized from the model checkpoint at xlm-roberta-base and are newly initialized: ['classifier.dense.bias', 'classifier.dense.weight', 'classifier.out_proj.bias', 'classifier.out_proj.weight']\n",
      "You should probably TRAIN this model on a down-stream task to be able to use it for predictions and inference.\n"
     ]
    },
    {
     "name": "stdout",
     "output_type": "stream",
     "text": [
      "{'eval_f1': 0.6791149379255106, 'eval_loss': 0.6124852895736694, 'eval_accuracy': 0.734789391575663, 'eval_precision': 0.6977680625862863, 'eval_recall': 0.670931388796818, 'eval_runtime': 2.5539, 'eval_samples_per_second': 250.99, 'eval_steps_per_second': 31.716, 'epoch': 1.0}\n",
      "{'eval_f1': 0.7130736113625847, 'eval_loss': 0.5238550305366516, 'eval_accuracy': 0.7223088923556942, 'eval_precision': 0.7199318403115872, 'eval_recall': 0.749552535631422, 'eval_runtime': 2.5689, 'eval_samples_per_second': 249.526, 'eval_steps_per_second': 31.531, 'epoch': 2.0}\n",
      "{'eval_f1': 0.7627555946531637, 'eval_loss': 0.517543375492096, 'eval_accuracy': 0.7847113884555382, 'eval_precision': 0.7571353839715422, 'eval_recall': 0.7715390564578499, 'eval_runtime': 2.5615, 'eval_samples_per_second': 250.249, 'eval_steps_per_second': 31.623, 'epoch': 3.0}\n",
      "{'eval_f1': 0.7495860850153474, 'eval_loss': 0.5797017216682434, 'eval_accuracy': 0.7706708268330733, 'eval_precision': 0.7435786435786436, 'eval_recall': 0.7610982211910287, 'eval_runtime': 2.5511, 'eval_samples_per_second': 251.266, 'eval_steps_per_second': 31.751, 'epoch': 4.0}\n",
      "{'eval_f1': 0.7681549652373105, 'eval_loss': 0.6572800278663635, 'eval_accuracy': 0.7893915756630265, 'eval_precision': 0.762282240882316, 'eval_recall': 0.7774610540271794, 'eval_runtime': 2.5513, 'eval_samples_per_second': 251.246, 'eval_steps_per_second': 31.749, 'epoch': 5.0}\n",
      "{'train_runtime': 193.7427, 'train_samples_per_second': 77.138, 'train_steps_per_second': 4.826, 'train_loss': 0.4675138259316511, 'epoch': 5.0}\n"
     ]
    },
    {
     "name": "stderr",
     "output_type": "stream",
     "text": [
      "[I 2025-05-20 12:11:03,108] Trial 16 finished with value: 0.7681549652373105 and parameters: {'learning_rate': 2.347343956261625e-05, 'per_device_train_batch_size': 16, 'num_train_epochs': 5, 'weight_decay': 0.041958199683224895, 'warmup_ratio': 0.2715738452817218}. Best is trial 16 with value: 0.7681549652373105.\n",
      "Some weights of XLMRobertaForSequenceClassification were not initialized from the model checkpoint at xlm-roberta-base and are newly initialized: ['classifier.dense.bias', 'classifier.dense.weight', 'classifier.out_proj.bias', 'classifier.out_proj.weight']\n",
      "You should probably TRAIN this model on a down-stream task to be able to use it for predictions and inference.\n",
      "[I 2025-05-20 12:11:42,765] Trial 17 pruned. \n"
     ]
    },
    {
     "name": "stdout",
     "output_type": "stream",
     "text": [
      "{'eval_f1': 0.6624489160183049, 'eval_loss': 0.6354385614395142, 'eval_accuracy': 0.6677067082683308, 'eval_precision': 0.6857942823460065, 'eval_recall': 0.7089492873715612, 'eval_runtime': 2.5544, 'eval_samples_per_second': 250.936, 'eval_steps_per_second': 31.71, 'epoch': 1.0}\n"
     ]
    },
    {
     "name": "stderr",
     "output_type": "stream",
     "text": [
      "Some weights of XLMRobertaForSequenceClassification were not initialized from the model checkpoint at xlm-roberta-base and are newly initialized: ['classifier.dense.bias', 'classifier.dense.weight', 'classifier.out_proj.bias', 'classifier.out_proj.weight']\n",
      "You should probably TRAIN this model on a down-stream task to be able to use it for predictions and inference.\n",
      "[I 2025-05-20 12:12:29,101] Trial 18 pruned. \n"
     ]
    },
    {
     "name": "stdout",
     "output_type": "stream",
     "text": [
      "{'eval_f1': 0.6875910676090979, 'eval_loss': 0.5586360096931458, 'eval_accuracy': 0.6989079563182528, 'eval_precision': 0.6929709127773229, 'eval_recall': 0.7187216882112474, 'eval_runtime': 2.5536, 'eval_samples_per_second': 251.021, 'eval_steps_per_second': 31.72, 'epoch': 1.0}\n"
     ]
    },
    {
     "name": "stderr",
     "output_type": "stream",
     "text": [
      "Some weights of XLMRobertaForSequenceClassification were not initialized from the model checkpoint at xlm-roberta-base and are newly initialized: ['classifier.dense.bias', 'classifier.dense.weight', 'classifier.out_proj.bias', 'classifier.out_proj.weight']\n",
      "You should probably TRAIN this model on a down-stream task to be able to use it for predictions and inference.\n",
      "/root/.venv/lib/python3.12/site-packages/sklearn/metrics/_classification.py:1565: UndefinedMetricWarning: Precision is ill-defined and being set to 0.0 in labels with no predicted samples. Use `zero_division` parameter to control this behavior.\n",
      "  _warn_prf(average, modifier, f\"{metric.capitalize()} is\", len(result))\n",
      "[I 2025-05-20 12:13:08,659] Trial 19 pruned. \n"
     ]
    },
    {
     "name": "stdout",
     "output_type": "stream",
     "text": [
      "{'eval_f1': 0.24676850763807284, 'eval_loss': 0.6942149996757507, 'eval_accuracy': 0.32761310452418096, 'eval_precision': 0.16380655226209048, 'eval_recall': 0.5, 'eval_runtime': 2.526, 'eval_samples_per_second': 253.757, 'eval_steps_per_second': 32.066, 'epoch': 1.0}\n"
     ]
    },
    {
     "name": "stderr",
     "output_type": "stream",
     "text": [
      "Some weights of XLMRobertaForSequenceClassification were not initialized from the model checkpoint at xlm-roberta-base and are newly initialized: ['classifier.dense.bias', 'classifier.dense.weight', 'classifier.out_proj.bias', 'classifier.out_proj.weight']\n",
      "You should probably TRAIN this model on a down-stream task to be able to use it for predictions and inference.\n",
      "[I 2025-05-20 12:13:48,315] Trial 20 pruned. \n"
     ]
    },
    {
     "name": "stdout",
     "output_type": "stream",
     "text": [
      "{'eval_f1': 0.6187921806255381, 'eval_loss': 0.65981125831604, 'eval_accuracy': 0.6864274570982839, 'eval_precision': 0.6337668219461698, 'eval_recall': 0.6142138990166832, 'eval_runtime': 2.5577, 'eval_samples_per_second': 250.62, 'eval_steps_per_second': 31.67, 'epoch': 1.0}\n"
     ]
    },
    {
     "name": "stderr",
     "output_type": "stream",
     "text": [
      "Some weights of XLMRobertaForSequenceClassification were not initialized from the model checkpoint at xlm-roberta-base and are newly initialized: ['classifier.dense.bias', 'classifier.dense.weight', 'classifier.out_proj.bias', 'classifier.out_proj.weight']\n",
      "You should probably TRAIN this model on a down-stream task to be able to use it for predictions and inference.\n"
     ]
    },
    {
     "name": "stdout",
     "output_type": "stream",
     "text": [
      "{'eval_f1': 0.7089476495726496, 'eval_loss': 0.5620972514152527, 'eval_accuracy': 0.734789391575663, 'eval_precision': 0.7043848711554448, 'eval_recall': 0.717324052590874, 'eval_runtime': 2.5454, 'eval_samples_per_second': 251.825, 'eval_steps_per_second': 31.822, 'epoch': 1.0}\n",
      "{'eval_f1': 0.735489424184504, 'eval_loss': 0.5057821273803711, 'eval_accuracy': 0.7457098283931357, 'eval_precision': 0.7379293520686964, 'eval_recall': 0.7693956468898464, 'eval_runtime': 2.5454, 'eval_samples_per_second': 251.83, 'eval_steps_per_second': 31.822, 'epoch': 2.0}\n",
      "{'eval_f1': 0.7641367334026901, 'eval_loss': 0.5241050720214844, 'eval_accuracy': 0.7831513260530422, 'eval_precision': 0.7575096303581674, 'eval_recall': 0.777704121091592, 'eval_runtime': 2.5464, 'eval_samples_per_second': 251.727, 'eval_steps_per_second': 31.81, 'epoch': 3.0}\n",
      "{'eval_f1': 0.7495154695683417, 'eval_loss': 0.5963910818099976, 'eval_accuracy': 0.7675507020280812, 'eval_precision': 0.7434352827022984, 'eval_recall': 0.7661031930173461, 'eval_runtime': 2.5523, 'eval_samples_per_second': 251.148, 'eval_steps_per_second': 31.736, 'epoch': 4.0}\n",
      "{'eval_f1': 0.7526791148595774, 'eval_loss': 0.6957220435142517, 'eval_accuracy': 0.7784711388455539, 'eval_precision': 0.7491542480301473, 'eval_recall': 0.7571318086399292, 'eval_runtime': 2.5423, 'eval_samples_per_second': 252.13, 'eval_steps_per_second': 31.86, 'epoch': 5.0}\n",
      "{'train_runtime': 193.5501, 'train_samples_per_second': 77.215, 'train_steps_per_second': 4.831, 'train_loss': 0.46044079785678477, 'epoch': 5.0}\n"
     ]
    },
    {
     "name": "stderr",
     "output_type": "stream",
     "text": [
      "[I 2025-05-20 12:17:03,547] Trial 21 finished with value: 0.7526791148595774 and parameters: {'learning_rate': 2.1196500679199518e-05, 'per_device_train_batch_size': 16, 'num_train_epochs': 5, 'weight_decay': 0.08468907643352397, 'warmup_ratio': 0.27045723188749066}. Best is trial 16 with value: 0.7681549652373105.\n",
      "Some weights of XLMRobertaForSequenceClassification were not initialized from the model checkpoint at xlm-roberta-base and are newly initialized: ['classifier.dense.bias', 'classifier.dense.weight', 'classifier.out_proj.bias', 'classifier.out_proj.weight']\n",
      "You should probably TRAIN this model on a down-stream task to be able to use it for predictions and inference.\n"
     ]
    },
    {
     "name": "stdout",
     "output_type": "stream",
     "text": [
      "{'eval_f1': 0.6913674973801498, 'eval_loss': 0.5779919624328613, 'eval_accuracy': 0.7082683307332294, 'eval_precision': 0.6899070778964018, 'eval_recall': 0.7122527897469892, 'eval_runtime': 2.5552, 'eval_samples_per_second': 250.86, 'eval_steps_per_second': 31.7, 'epoch': 1.0}\n",
      "{'eval_f1': 0.7163370567051213, 'eval_loss': 0.5244466066360474, 'eval_accuracy': 0.7285491419656787, 'eval_precision': 0.717519126538439, 'eval_recall': 0.7456468898464258, 'eval_runtime': 2.5543, 'eval_samples_per_second': 250.945, 'eval_steps_per_second': 31.711, 'epoch': 2.0}\n",
      "{'eval_f1': 0.7404771298968221, 'eval_loss': 0.4845702052116394, 'eval_accuracy': 0.7550702028081123, 'eval_precision': 0.7367175587635398, 'eval_recall': 0.7641476079991161, 'eval_runtime': 2.5578, 'eval_samples_per_second': 250.609, 'eval_steps_per_second': 31.668, 'epoch': 3.0}\n",
      "{'eval_f1': 0.7598070611371699, 'eval_loss': 0.5257877111434937, 'eval_accuracy': 0.7800312012480499, 'eval_precision': 0.7534889713461141, 'eval_recall': 0.7717213567561596, 'eval_runtime': 2.5534, 'eval_samples_per_second': 251.041, 'eval_steps_per_second': 31.723, 'epoch': 4.0}\n",
      "{'eval_f1': 0.7578134701609855, 'eval_loss': 0.6152334213256836, 'eval_accuracy': 0.7769110764430577, 'eval_precision': 0.7513484523444682, 'eval_recall': 0.7718428902883658, 'eval_runtime': 2.562, 'eval_samples_per_second': 250.199, 'eval_steps_per_second': 31.616, 'epoch': 5.0}\n",
      "{'train_runtime': 193.6102, 'train_samples_per_second': 77.191, 'train_steps_per_second': 4.829, 'train_loss': 0.47646223262032084, 'epoch': 5.0}\n"
     ]
    },
    {
     "name": "stderr",
     "output_type": "stream",
     "text": [
      "[I 2025-05-20 12:20:18,801] Trial 22 finished with value: 0.7578134701609855 and parameters: {'learning_rate': 1.7585503224252733e-05, 'per_device_train_batch_size': 16, 'num_train_epochs': 5, 'weight_decay': 0.0858448867499794, 'warmup_ratio': 0.2699025602493239}. Best is trial 16 with value: 0.7681549652373105.\n",
      "Some weights of XLMRobertaForSequenceClassification were not initialized from the model checkpoint at xlm-roberta-base and are newly initialized: ['classifier.dense.bias', 'classifier.dense.weight', 'classifier.out_proj.bias', 'classifier.out_proj.weight']\n",
      "You should probably TRAIN this model on a down-stream task to be able to use it for predictions and inference.\n",
      "[I 2025-05-20 12:20:58,466] Trial 23 pruned. \n"
     ]
    },
    {
     "name": "stdout",
     "output_type": "stream",
     "text": [
      "{'eval_f1': 0.6451561882166864, 'eval_loss': 0.5818887948989868, 'eval_accuracy': 0.6505460218408736, 'eval_precision': 0.6691225621264549, 'eval_recall': 0.6900839686222517, 'eval_runtime': 2.5477, 'eval_samples_per_second': 251.595, 'eval_steps_per_second': 31.793, 'epoch': 1.0}\n"
     ]
    },
    {
     "name": "stderr",
     "output_type": "stream",
     "text": [
      "Some weights of XLMRobertaForSequenceClassification were not initialized from the model checkpoint at xlm-roberta-base and are newly initialized: ['classifier.dense.bias', 'classifier.dense.weight', 'classifier.out_proj.bias', 'classifier.out_proj.weight']\n",
      "You should probably TRAIN this model on a down-stream task to be able to use it for predictions and inference.\n"
     ]
    },
    {
     "name": "stdout",
     "output_type": "stream",
     "text": [
      "{'eval_f1': 0.708693111731481, 'eval_loss': 0.5911062359809875, 'eval_accuracy': 0.7379095163806553, 'eval_precision': 0.7052536001019498, 'eval_recall': 0.7135399403380842, 'eval_runtime': 2.5512, 'eval_samples_per_second': 251.252, 'eval_steps_per_second': 31.75, 'epoch': 1.0}\n",
      "{'eval_f1': 0.7141200606547141, 'eval_loss': 0.5208542346954346, 'eval_accuracy': 0.7269890795631825, 'eval_precision': 0.7146321152150485, 'eval_recall': 0.7420450778919456, 'eval_runtime': 2.5515, 'eval_samples_per_second': 251.22, 'eval_steps_per_second': 31.745, 'epoch': 2.0}\n",
      "{'eval_f1': 0.7447474531707793, 'eval_loss': 0.5382130742073059, 'eval_accuracy': 0.7644305772230889, 'eval_precision': 0.7387127663909376, 'eval_recall': 0.7588995691083859, 'eval_runtime': 2.5606, 'eval_samples_per_second': 250.33, 'eval_steps_per_second': 31.633, 'epoch': 3.0}\n",
      "{'eval_f1': 0.7522976981242429, 'eval_loss': 0.5454308986663818, 'eval_accuracy': 0.7691107644305772, 'eval_precision': 0.7463779037054898, 'eval_recall': 0.7709258645453541, 'eval_runtime': 2.5492, 'eval_samples_per_second': 251.456, 'eval_steps_per_second': 31.775, 'epoch': 4.0}\n"
     ]
    },
    {
     "name": "stderr",
     "output_type": "stream",
     "text": [
      "[I 2025-05-20 12:24:13,017] Trial 24 pruned. \n"
     ]
    },
    {
     "name": "stdout",
     "output_type": "stream",
     "text": [
      "{'eval_f1': 0.7543365043365043, 'eval_loss': 0.5817598104476929, 'eval_accuracy': 0.7722308892355694, 'eval_precision': 0.7480468354686582, 'eval_recall': 0.7708043310131478, 'eval_runtime': 2.5515, 'eval_samples_per_second': 251.221, 'eval_steps_per_second': 31.746, 'epoch': 5.0}\n"
     ]
    },
    {
     "name": "stderr",
     "output_type": "stream",
     "text": [
      "Some weights of XLMRobertaForSequenceClassification were not initialized from the model checkpoint at xlm-roberta-base and are newly initialized: ['classifier.dense.bias', 'classifier.dense.weight', 'classifier.out_proj.bias', 'classifier.out_proj.weight']\n",
      "You should probably TRAIN this model on a down-stream task to be able to use it for predictions and inference.\n",
      "[I 2025-05-20 12:24:52,720] Trial 25 pruned. \n"
     ]
    },
    {
     "name": "stdout",
     "output_type": "stream",
     "text": [
      "{'eval_f1': 0.6709192186256642, 'eval_loss': 0.603996217250824, 'eval_accuracy': 0.750390015600624, 'eval_precision': 0.7368062397372742, 'eval_recall': 0.659335984974036, 'eval_runtime': 2.5454, 'eval_samples_per_second': 251.823, 'eval_steps_per_second': 31.822, 'epoch': 1.0}\n"
     ]
    },
    {
     "name": "stderr",
     "output_type": "stream",
     "text": [
      "Some weights of XLMRobertaForSequenceClassification were not initialized from the model checkpoint at xlm-roberta-base and are newly initialized: ['classifier.dense.bias', 'classifier.dense.weight', 'classifier.out_proj.bias', 'classifier.out_proj.weight']\n",
      "You should probably TRAIN this model on a down-stream task to be able to use it for predictions and inference.\n"
     ]
    },
    {
     "name": "stdout",
     "output_type": "stream",
     "text": [
      "{'eval_f1': 0.7176756089205676, 'eval_loss': 0.6114087700843811, 'eval_accuracy': 0.7613104524180967, 'eval_precision': 0.7300418389803864, 'eval_recall': 0.7101867196994807, 'eval_runtime': 2.5535, 'eval_samples_per_second': 251.028, 'eval_steps_per_second': 31.721, 'epoch': 1.0}\n"
     ]
    },
    {
     "name": "stderr",
     "output_type": "stream",
     "text": [
      "/root/.venv/lib/python3.12/site-packages/sklearn/metrics/_classification.py:1565: UndefinedMetricWarning: Precision is ill-defined and being set to 0.0 in labels with no predicted samples. Use `zero_division` parameter to control this behavior.\n",
      "  _warn_prf(average, modifier, f\"{metric.capitalize()} is\", len(result))\n",
      "[I 2025-05-20 12:26:24,696] Trial 26 pruned. \n"
     ]
    },
    {
     "name": "stdout",
     "output_type": "stream",
     "text": [
      "{'eval_f1': 0.24676850763807284, 'eval_loss': 0.6985920667648315, 'eval_accuracy': 0.32761310452418096, 'eval_precision': 0.16380655226209048, 'eval_recall': 0.5, 'eval_runtime': 2.5406, 'eval_samples_per_second': 252.306, 'eval_steps_per_second': 31.883, 'epoch': 2.0}\n"
     ]
    },
    {
     "name": "stderr",
     "output_type": "stream",
     "text": [
      "Some weights of XLMRobertaForSequenceClassification were not initialized from the model checkpoint at xlm-roberta-base and are newly initialized: ['classifier.dense.bias', 'classifier.dense.weight', 'classifier.out_proj.bias', 'classifier.out_proj.weight']\n",
      "You should probably TRAIN this model on a down-stream task to be able to use it for predictions and inference.\n",
      "[I 2025-05-20 12:27:04,381] Trial 27 pruned. \n"
     ]
    },
    {
     "name": "stdout",
     "output_type": "stream",
     "text": [
      "{'eval_f1': 0.6409781752247505, 'eval_loss': 0.6439371109008789, 'eval_accuracy': 0.7238689547581904, 'eval_precision': 0.6896600433185799, 'eval_recall': 0.6335101093801789, 'eval_runtime': 2.558, 'eval_samples_per_second': 250.588, 'eval_steps_per_second': 31.666, 'epoch': 1.0}\n"
     ]
    },
    {
     "name": "stderr",
     "output_type": "stream",
     "text": [
      "Some weights of XLMRobertaForSequenceClassification were not initialized from the model checkpoint at xlm-roberta-base and are newly initialized: ['classifier.dense.bias', 'classifier.dense.weight', 'classifier.out_proj.bias', 'classifier.out_proj.weight']\n",
      "You should probably TRAIN this model on a down-stream task to be able to use it for predictions and inference.\n"
     ]
    },
    {
     "name": "stdout",
     "output_type": "stream",
     "text": [
      "{'eval_f1': 0.6927629471094081, 'eval_loss': 0.5801265239715576, 'eval_accuracy': 0.7082683307332294, 'eval_precision': 0.6923512273863659, 'eval_recall': 0.7159153684675726, 'eval_runtime': 2.5547, 'eval_samples_per_second': 250.911, 'eval_steps_per_second': 31.706, 'epoch': 1.0}\n"
     ]
    },
    {
     "name": "stderr",
     "output_type": "stream",
     "text": [
      "[I 2025-05-20 12:28:22,778] Trial 28 pruned. \n"
     ]
    },
    {
     "name": "stdout",
     "output_type": "stream",
     "text": [
      "{'eval_f1': 0.6750799671391865, 'eval_loss': 0.5371137261390686, 'eval_accuracy': 0.6833073322932918, 'eval_precision': 0.6880114566284778, 'eval_recall': 0.7132250580046404, 'eval_runtime': 2.5628, 'eval_samples_per_second': 250.118, 'eval_steps_per_second': 31.606, 'epoch': 2.0}\n"
     ]
    },
    {
     "name": "stderr",
     "output_type": "stream",
     "text": [
      "Some weights of XLMRobertaForSequenceClassification were not initialized from the model checkpoint at xlm-roberta-base and are newly initialized: ['classifier.dense.bias', 'classifier.dense.weight', 'classifier.out_proj.bias', 'classifier.out_proj.weight']\n",
      "You should probably TRAIN this model on a down-stream task to be able to use it for predictions and inference.\n",
      "[I 2025-05-20 12:29:02,511] Trial 29 pruned. \n"
     ]
    },
    {
     "name": "stdout",
     "output_type": "stream",
     "text": [
      "{'eval_f1': 0.6183724310426832, 'eval_loss': 0.6467342972755432, 'eval_accuracy': 0.7207488299531981, 'eval_precision': 0.6945189906444519, 'eval_recall': 0.6153187493094685, 'eval_runtime': 2.5536, 'eval_samples_per_second': 251.015, 'eval_steps_per_second': 31.72, 'epoch': 1.0}\n"
     ]
    }
   ],
   "source": [
    "# Запуск поиска гиперпараметров\n",
    "best_trial = trainer_for_search.hyperparameter_search(\n",
    "    direction=\"maximize\",\n",
    "    backend=\"optuna\",\n",
    "    hp_space=optuna_hp_space,\n",
    "    n_trials=30,\n",
    "    compute_objective=lambda metrics: metrics[\"eval_f1\"]\n",
    ")"
   ]
  },
  {
   "cell_type": "code",
   "execution_count": 106,
   "id": "bee78d4d",
   "metadata": {},
   "outputs": [
    {
     "name": "stdout",
     "output_type": "stream",
     "text": [
      "Лучшие гиперпараметры: {'learning_rate': 2.347343956261625e-05, 'per_device_train_batch_size': 16, 'num_train_epochs': 5, 'weight_decay': 0.041958199683224895, 'warmup_ratio': 0.2715738452817218}\n",
      "Лучшее значение F1: 0.7681549652373105\n"
     ]
    }
   ],
   "source": [
    "print(\"Лучшие гиперпараметры:\", best_trial.hyperparameters)\n",
    "print(\"Лучшее значение F1:\", best_trial.objective)"
   ]
  },
  {
   "cell_type": "markdown",
   "id": "dd136167",
   "metadata": {},
   "source": [
    "#### Обучим с лучшими параметрами оптюны"
   ]
  },
  {
   "cell_type": "code",
   "execution_count": 107,
   "id": "a32680bf",
   "metadata": {},
   "outputs": [],
   "source": [
    "best_params = {\n",
    "    \"learning_rate\": best_trial.hyperparameters[\"learning_rate\"],\n",
    "    \"per_device_train_batch_size\": best_trial.hyperparameters[\"per_device_train_batch_size\"],\n",
    "    \"num_train_epochs\": best_trial.hyperparameters[\"num_train_epochs\"],\n",
    "    \"weight_decay\": best_trial.hyperparameters[\"weight_decay\"],\n",
    "    \"warmup_ratio\": best_trial.hyperparameters[\"warmup_ratio\"]\n",
    "}\n"
   ]
  },
  {
   "cell_type": "code",
   "execution_count": null,
   "id": "2caa8115",
   "metadata": {},
   "outputs": [],
   "source": [
    "final_training_args = TrainingArguments(\n",
    "    output_dir=\"xlmr_final_model\",            \n",
    "    eval_strategy=\"epoch\",\n",
    "    save_strategy=\"epoch\",\n",
    "    save_total_limit=1,                        \n",
    "    load_best_model_at_end=True,\n",
    "    metric_for_best_model=\"eval_f1\",\n",
    "    greater_is_better=True,\n",
    "    logging_strategy=\"epoch\",\n",
    "    learning_rate=best_params[\"learning_rate\"],\n",
    "    per_device_train_batch_size=best_params[\"per_device_train_batch_size\"],\n",
    "    per_device_eval_batch_size=best_params[\"per_device_train_batch_size\"],\n",
    "    num_train_epochs=best_params[\"num_train_epochs\"],\n",
    "    weight_decay=best_params[\"weight_decay\"],\n",
    "    warmup_ratio=best_params[\"warmup_ratio\"],\n",
    "    report_to=\"none\",                          \n",
    "    seed=5\n",
    ")\n"
   ]
  },
  {
   "cell_type": "code",
   "execution_count": null,
   "id": "ea09d1f0",
   "metadata": {},
   "outputs": [
    {
     "name": "stderr",
     "output_type": "stream",
     "text": [
      "/tmp/ipykernel_1409/1355604549.py:4: FutureWarning: `tokenizer` is deprecated and will be removed in version 5.0.0 for `WeightedTrainer.__init__`. Use `processing_class` instead.\n",
      "  super().__init__(*args, **kwargs)\n",
      "Some weights of XLMRobertaForSequenceClassification were not initialized from the model checkpoint at xlm-roberta-base and are newly initialized: ['classifier.dense.bias', 'classifier.dense.weight', 'classifier.out_proj.bias', 'classifier.out_proj.weight']\n",
      "You should probably TRAIN this model on a down-stream task to be able to use it for predictions and inference.\n"
     ]
    }
   ],
   "source": [
    "final_trainer = WeightedTrainer(\n",
    "    class_weights=weights,\n",
    "    model_init=model_init,  \n",
    "    args=final_training_args,\n",
    "    train_dataset=train_dataset,\n",
    "    eval_dataset=val_dataset,\n",
    "    tokenizer=tokenizer,\n",
    "    data_collator=data_collator,\n",
    "    compute_metrics=compute_metrics\n",
    ")"
   ]
  },
  {
   "cell_type": "code",
   "execution_count": 110,
   "id": "f3fe692f",
   "metadata": {},
   "outputs": [
    {
     "name": "stderr",
     "output_type": "stream",
     "text": [
      "Some weights of XLMRobertaForSequenceClassification were not initialized from the model checkpoint at xlm-roberta-base and are newly initialized: ['classifier.dense.bias', 'classifier.dense.weight', 'classifier.out_proj.bias', 'classifier.out_proj.weight']\n",
      "You should probably TRAIN this model on a down-stream task to be able to use it for predictions and inference.\n"
     ]
    },
    {
     "data": {
      "text/html": [
       "\n",
       "    <div>\n",
       "      \n",
       "      <progress value='935' max='935' style='width:300px; height:20px; vertical-align: middle;'></progress>\n",
       "      [935/935 03:50, Epoch 5/5]\n",
       "    </div>\n",
       "    <table border=\"1\" class=\"dataframe\">\n",
       "  <thead>\n",
       " <tr style=\"text-align: left;\">\n",
       "      <th>Epoch</th>\n",
       "      <th>Training Loss</th>\n",
       "      <th>Validation Loss</th>\n",
       "      <th>F1</th>\n",
       "      <th>Accuracy</th>\n",
       "      <th>Precision</th>\n",
       "      <th>Recall</th>\n",
       "    </tr>\n",
       "  </thead>\n",
       "  <tbody>\n",
       "    <tr>\n",
       "      <td>1</td>\n",
       "      <td>0.683900</td>\n",
       "      <td>0.612438</td>\n",
       "      <td>0.679115</td>\n",
       "      <td>0.734789</td>\n",
       "      <td>0.697768</td>\n",
       "      <td>0.670931</td>\n",
       "    </tr>\n",
       "    <tr>\n",
       "      <td>2</td>\n",
       "      <td>0.598400</td>\n",
       "      <td>0.519102</td>\n",
       "      <td>0.713074</td>\n",
       "      <td>0.722309</td>\n",
       "      <td>0.719932</td>\n",
       "      <td>0.749553</td>\n",
       "    </tr>\n",
       "    <tr>\n",
       "      <td>3</td>\n",
       "      <td>0.477000</td>\n",
       "      <td>0.520622</td>\n",
       "      <td>0.762756</td>\n",
       "      <td>0.784711</td>\n",
       "      <td>0.757135</td>\n",
       "      <td>0.771539</td>\n",
       "    </tr>\n",
       "    <tr>\n",
       "      <td>4</td>\n",
       "      <td>0.341300</td>\n",
       "      <td>0.584303</td>\n",
       "      <td>0.749586</td>\n",
       "      <td>0.770671</td>\n",
       "      <td>0.743579</td>\n",
       "      <td>0.761098</td>\n",
       "    </tr>\n",
       "    <tr>\n",
       "      <td>5</td>\n",
       "      <td>0.237000</td>\n",
       "      <td>0.662555</td>\n",
       "      <td>0.768155</td>\n",
       "      <td>0.789392</td>\n",
       "      <td>0.762282</td>\n",
       "      <td>0.777461</td>\n",
       "    </tr>\n",
       "  </tbody>\n",
       "</table><p>"
      ],
      "text/plain": [
       "<IPython.core.display.HTML object>"
      ]
     },
     "metadata": {},
     "output_type": "display_data"
    },
    {
     "data": {
      "text/plain": [
       "TrainOutput(global_step=935, training_loss=0.46751402992615726, metrics={'train_runtime': 229.898, 'train_samples_per_second': 65.007, 'train_steps_per_second': 4.067, 'total_flos': 3932194722355200.0, 'train_loss': 0.46751402992615726, 'epoch': 5.0})"
      ]
     },
     "execution_count": 110,
     "metadata": {},
     "output_type": "execute_result"
    }
   ],
   "source": [
    "final_trainer.train()"
   ]
  },
  {
   "cell_type": "code",
   "execution_count": null,
   "id": "554fcb38",
   "metadata": {},
   "outputs": [
    {
     "data": {
      "text/html": [],
      "text/plain": [
       "<IPython.core.display.HTML object>"
      ]
     },
     "metadata": {},
     "output_type": "display_data"
    },
    {
     "name": "stdout",
     "output_type": "stream",
     "text": [
      "Метрики на тестовой выборке: {'eval_f1': 0.7830106844388025, 'eval_loss': 0.6468027830123901, 'eval_accuracy': 0.8003120124804992, 'eval_precision': 0.7759353741496599, 'eval_recall': 0.7968533010029759, 'eval_runtime': 2.4491, 'eval_samples_per_second': 261.728, 'eval_steps_per_second': 16.741, 'epoch': 5.0}\n",
      "\n",
      "Классификационный отчёт:\n",
      "              precision    recall  f1-score   support\n",
      "\n",
      "           0       0.89      0.81      0.84       430\n",
      "           1       0.67      0.79      0.72       211\n",
      "\n",
      "    accuracy                           0.80       641\n",
      "   macro avg       0.78      0.80      0.78       641\n",
      "weighted avg       0.81      0.80      0.80       641\n",
      "\n"
     ]
    },
    {
     "data": {
      "text/plain": [
       "<sklearn.metrics._plot.confusion_matrix.ConfusionMatrixDisplay at 0x7a6f1091bcb0>"
      ]
     },
     "execution_count": 111,
     "metadata": {},
     "output_type": "execute_result"
    },
    {
     "data": {
      "image/png": "[encoded data removed]",
      "text/plain": [
       "<Figure size 640x480 with 2 Axes>"
      ]
     },
     "metadata": {},
     "output_type": "display_data"
    }
   ],
   "source": [
    "test_metrics = final_trainer.evaluate(test_dataset)\n",
    "print(\"Метрики на тестовой выборке:\", test_metrics)\n",
    "\n",
    "# Анализ\n",
    "predictions = final_trainer.predict(test_dataset)\n",
    "y_pred = np.argmax(predictions.predictions, axis=1)\n",
    "y_true = predictions.label_ids\n",
    "\n",
    "print(\"\\nКлассификационный отчёт:\")\n",
    "print(classification_report(y_true, y_pred))\n",
    "\n",
    "cm = confusion_matrix(y_true, y_pred)\n",
    "disp = ConfusionMatrixDisplay(confusion_matrix=cm)\n",
    "disp.plot(cmap=\"Blues\")"
   ]
  },
  {
   "cell_type": "code",
   "execution_count": null,
   "id": "02fea7ab",
   "metadata": {},
   "outputs": [],
   "source": [
    "final_trainer.save_model(\"very_best_model\") "
   ]
  },
  {
   "cell_type": "markdown",
   "id": "e76c4ff1",
   "metadata": {},
   "source": [
    "### Попробуем поиграться с порогом"
   ]
  },
  {
   "cell_type": "code",
   "execution_count": null,
   "id": "2b70e6d0",
   "metadata": {},
   "outputs": [
    {
     "data": {
      "text/html": [],
      "text/plain": [
       "<IPython.core.display.HTML object>"
      ]
     },
     "metadata": {},
     "output_type": "display_data"
    },
    {
     "data": {
      "image/png": "[encoded data removed]",
      "text/plain": [
       "<Figure size 1000x600 with 1 Axes>"
      ]
     },
     "metadata": {},
     "output_type": "display_data"
    }
   ],
   "source": [
    "# Предсказания модели на тестовом наборе\n",
    "raw_preds = final_trainer.predict(test_dataset)\n",
    "logits = raw_preds.predictions\n",
    "labels = raw_preds.label_ids\n",
    "\n",
    "probs = softmax(logits, axis=1)[:, 1]  # вероятность класса 1\n",
    "\n",
    "# Вычисление метрик для разных порогов\n",
    "thresholds = np.linspace(0, 1, 100)\n",
    "precisions, recalls, f1s = [], [], []\n",
    "\n",
    "for thresh in thresholds:\n",
    "    preds = (probs >= thresh).astype(int)\n",
    "    p, r, f1, _ = precision_recall_fscore_support(labels, preds, average=\"binary\", zero_division=0)\n",
    "    precisions.append(p)\n",
    "    recalls.append(r)\n",
    "    f1s.append(f1)\n",
    "\n",
    "# Строим графики\n",
    "plt.figure(figsize=(10, 6))\n",
    "plt.plot(thresholds, precisions, label=\"Precision\")\n",
    "plt.plot(thresholds, recalls, label=\"Recall\")\n",
    "plt.plot(thresholds, f1s, label=\"F1 Score\")\n",
    "plt.xlabel(\"Threshold\")\n",
    "plt.ylabel(\"Metric Value\")\n",
    "plt.title(\"Метрики vs Порог классификации\")\n",
    "plt.legend()\n",
    "plt.grid(True)\n",
    "plt.show()\n"
   ]
  },
  {
   "cell_type": "code",
   "execution_count": 114,
   "id": "96c277f4",
   "metadata": {},
   "outputs": [
    {
     "data": {
      "image/png": "[encoded data removed]",
      "text/plain": [
       "<Figure size 800x600 with 1 Axes>"
      ]
     },
     "metadata": {},
     "output_type": "display_data"
    }
   ],
   "source": [
    "fpr, tpr, roc_thresholds = roc_curve(labels, probs)\n",
    "roc_auc = auc(fpr, tpr)\n",
    "\n",
    "plt.figure(figsize=(8, 6))\n",
    "plt.plot(fpr, tpr, label=f\"ROC-кривая (AUC = {roc_auc:.3f})\")\n",
    "plt.plot([0, 1], [0, 1], linestyle=\"--\", color=\"gray\")\n",
    "plt.xlabel(\"False Positive Rate\")\n",
    "plt.ylabel(\"True Positive Rate\")\n",
    "plt.title(\"ROC-кривая\")\n",
    "plt.legend()\n",
    "plt.grid(True)\n",
    "plt.show()\n"
   ]
  },
  {
   "cell_type": "code",
   "execution_count": null,
   "id": "0d88236e",
   "metadata": {},
   "outputs": [],
   "source": [
    "# Найдём порог с максимальным F1\n",
    "best_idx = np.argmax(f1s)\n",
    "best_threshold = thresholds[best_idx]\n",
    "print(f\" Оптимальный порог по F1: {best_threshold:.3f}\")"
   ]
  },
  {
   "cell_type": "code",
   "execution_count": null,
   "id": "a35c1424",
   "metadata": {},
   "outputs": [
    {
     "name": "stdout",
     "output_type": "stream",
     "text": [
      "\n",
      "Classification Report при пороге 0.515:\n",
      "              precision    recall  f1-score   support\n",
      "\n",
      "           0     0.8858    0.8116    0.8471       430\n",
      "           1     0.6721    0.7867    0.7249       211\n",
      "\n",
      "    accuracy                         0.8034       641\n",
      "   macro avg     0.7789    0.7992    0.7860       641\n",
      "weighted avg     0.8154    0.8034    0.8069       641\n",
      "\n"
     ]
    },
    {
     "data": {
      "image/png": "[encoded data removed]",
      "text/plain": [
       "<Figure size 600x500 with 2 Axes>"
      ]
     },
     "metadata": {},
     "output_type": "display_data"
    }
   ],
   "source": [
    "# Предсказания с оптимальным порогом\n",
    "final_preds = (probs >= best_threshold).astype(int)\n",
    "\n",
    "# Classification report\n",
    "print(\"\\nClassification Report при пороге 0.515:\")\n",
    "print(classification_report(labels, final_preds, digits=4))\n",
    "\n",
    "# Confusion matrix\n",
    "cm = confusion_matrix(labels, final_preds)\n",
    "\n",
    "plt.figure(figsize=(6, 5))\n",
    "sns.heatmap(cm, annot=True, fmt=\"d\", cmap=\"Blues\", xticklabels=[\"Pred 0\", \"Pred 1\"], yticklabels=[\"True 0\", \"True 1\"])\n",
    "plt.xlabel(\"Предсказание\")\n",
    "plt.ylabel(\"Истинная метка\")\n",
    "plt.title(f\"Confusion Matrix (threshold={best_threshold:.3f})\")\n",
    "plt.tight_layout()\n",
    "plt.show()"
   ]
  },
  {
   "cell_type": "markdown",
   "id": "b98ad1f5",
   "metadata": {},
   "source": [
    "### Разметим"
   ]
  },
  {
   "cell_type": "code",
   "execution_count": 3,
   "id": "0f9468d1",
   "metadata": {},
   "outputs": [],
   "source": [
    "# Загрузка модели\n",
    "model = XLMRobertaForSequenceClassification.from_pretrained('/root/my project ver 2/very_final_model')\n",
    "\n",
    "# Загрузка токенизатора\n",
    "tokenizer = XLMRobertaTokenizer.from_pretrained(\"xlm-roberta-base\")"
   ]
  },
  {
   "cell_type": "code",
   "execution_count": 5,
   "id": "383569bf",
   "metadata": {},
   "outputs": [
    {
     "data": {
      "text/html": [
       "<div>\n",
       "<style scoped>\n",
       "    .dataframe tbody tr th:only-of-type {\n",
       "        vertical-align: middle;\n",
       "    }\n",
       "\n",
       "    .dataframe tbody tr th {\n",
       "        vertical-align: top;\n",
       "    }\n",
       "\n",
       "    .dataframe thead th {\n",
       "        text-align: right;\n",
       "    }\n",
       "</style>\n",
       "<table border=\"1\" class=\"dataframe\">\n",
       "  <thead>\n",
       "    <tr style=\"text-align: right;\">\n",
       "      <th></th>\n",
       "      <th>Исполнитель</th>\n",
       "      <th>Трек</th>\n",
       "      <th>Собран</th>\n",
       "      <th>Жанр</th>\n",
       "      <th>Доп. информация</th>\n",
       "      <th>Фит</th>\n",
       "      <th>Совместный релиз</th>\n",
       "      <th>Альбом</th>\n",
       "      <th>Год выхода</th>\n",
       "      <th>Текст трека</th>\n",
       "      <th>Языки в тексте</th>\n",
       "      <th>Части текста</th>\n",
       "      <th>Обработанные части</th>\n",
       "      <th>Очищенные леммы</th>\n",
       "    </tr>\n",
       "    <tr>\n",
       "      <th>original_index</th>\n",
       "      <th></th>\n",
       "      <th></th>\n",
       "      <th></th>\n",
       "      <th></th>\n",
       "      <th></th>\n",
       "      <th></th>\n",
       "      <th></th>\n",
       "      <th></th>\n",
       "      <th></th>\n",
       "      <th></th>\n",
       "      <th></th>\n",
       "      <th></th>\n",
       "      <th></th>\n",
       "      <th></th>\n",
       "    </tr>\n",
       "  </thead>\n",
       "  <tbody>\n",
       "    <tr>\n",
       "      <th>https://music.yandex.ru/album/17778130/track/53360237</th>\n",
       "      <td>Pavel Kempel</td>\n",
       "      <td>Русская весна</td>\n",
       "      <td>1.0</td>\n",
       "      <td>русский рэп</td>\n",
       "      <td>Нет</td>\n",
       "      <td>Нет</td>\n",
       "      <td>Несовместный релиз</td>\n",
       "      <td>Буква</td>\n",
       "      <td>2019.0</td>\n",
       "      <td>Серые тучи, серые люди\\nСерые кучи, серые будн...</td>\n",
       "      <td>[ru]</td>\n",
       "      <td>[Серые тучи, серые люди\\nСерые кучи, серые буд...</td>\n",
       "      <td>[[серый, туча, ,, серый, человек, серый, куча,...</td>\n",
       "      <td>[[серый, туча, серый, человек, серый, куча, се...</td>\n",
       "    </tr>\n",
       "    <tr>\n",
       "      <th>https://music.yandex.ru/album/6931563/track/50255124</th>\n",
       "      <td>The Simba</td>\n",
       "      <td>Карусель</td>\n",
       "      <td>1.0</td>\n",
       "      <td>танцевальная музыка</td>\n",
       "      <td>The Simba Remix</td>\n",
       "      <td>Нет</td>\n",
       "      <td>M'Dee</td>\n",
       "      <td>Сингл</td>\n",
       "      <td>2019.0</td>\n",
       "      <td>Ты поздно поняла, поняла, поняла — я не такой\\...</td>\n",
       "      <td>[ru]</td>\n",
       "      <td>[Ты поздно поняла, поняла, поняла — я не такой...</td>\n",
       "      <td>[[ты, поздно, понять, ,, понять, ,, понять, —,...</td>\n",
       "      <td>[[поздно, понять, понять, понять, лгать, ждать...</td>\n",
       "    </tr>\n",
       "    <tr>\n",
       "      <th>https://music.yandex.ru/album/9521959/track/61168371</th>\n",
       "      <td>Кузьма</td>\n",
       "      <td>Балдёж</td>\n",
       "      <td>1.0</td>\n",
       "      <td>русский рэп</td>\n",
       "      <td>Нет</td>\n",
       "      <td>Нет</td>\n",
       "      <td>Несовместный релиз</td>\n",
       "      <td>Сингл</td>\n",
       "      <td>2019.0</td>\n",
       "      <td>День и ночь балдеж, Россию не поймешь\\nТанцуй ...</td>\n",
       "      <td>[ru, bg]</td>\n",
       "      <td>[День и ночь балдеж, Россию не поймешь\\nТанцуй...</td>\n",
       "      <td>[[день, и, ночь, балдеж, ,, Россия, не, понять...</td>\n",
       "      <td>[[день, ночь, балдеж, Россия, понять, таныть, ...</td>\n",
       "    </tr>\n",
       "  </tbody>\n",
       "</table>\n",
       "</div>"
      ],
      "text/plain": [
       "                                                     Исполнитель  ...                                    Очищенные леммы\n",
       "original_index                                                    ...                                                   \n",
       "https://music.yandex.ru/album/17778130/track/53...  Pavel Kempel  ...  [[серый, туча, серый, человек, серый, куча, се...\n",
       "https://music.yandex.ru/album/6931563/track/502...     The Simba  ...  [[поздно, понять, понять, понять, лгать, ждать...\n",
       "https://music.yandex.ru/album/9521959/track/611...        Кузьма  ...  [[день, ночь, балдеж, Россия, понять, таныть, ...\n",
       "\n",
       "[3 rows x 14 columns]"
      ]
     },
     "execution_count": 5,
     "metadata": {},
     "output_type": "execute_result"
    }
   ],
   "source": [
    "df_for_markup=pd.read_parquet('/root/my project ver 2/df_final_lemmatized.parquet')\n",
    "df_for_markup.head(3)"
   ]
  },
  {
   "cell_type": "code",
   "execution_count": 6,
   "id": "fe0ef6ac",
   "metadata": {},
   "outputs": [],
   "source": [
    "# Создаём Dataset\n",
    "dataset_to_predict = Dataset.from_pandas(df_for_markup[[\"Текст трека\"]], preserve_index=False)"
   ]
  },
  {
   "cell_type": "code",
   "execution_count": 9,
   "id": "74728cec",
   "metadata": {},
   "outputs": [
    {
     "name": "stderr",
     "output_type": "stream",
     "text": [
      "Map: 100%|██████████| 42614/42614 [01:47<00:00, 398.04 examples/s]\n"
     ]
    }
   ],
   "source": [
    "def preprocess(example):\n",
    "    return tokenizer(example[\"Текст трека\"], truncation=True, padding=True)\n",
    "\n",
    "tokenized_dataset = dataset_to_predict.map(preprocess, batched=False)"
   ]
  },
  {
   "cell_type": "code",
   "execution_count": null,
   "id": "cd989ee0",
   "metadata": {},
   "outputs": [
    {
     "name": "stderr",
     "output_type": "stream",
     "text": [
      "/tmp/ipykernel_1182/1189794818.py:4: FutureWarning: `tokenizer` is deprecated and will be removed in version 5.0.0 for `Trainer.__init__`. Use `processing_class` instead.\n",
      "  trainer = Trainer(\n"
     ]
    }
   ],
   "source": [
    "data_collator = DataCollatorWithPadding(tokenizer=tokenizer)\n",
    "\n",
    "trainer = Trainer(\n",
    "    model=model,\n",
    "    tokenizer=tokenizer,\n",
    "    data_collator=data_collator\n",
    ")"
   ]
  },
  {
   "cell_type": "code",
   "execution_count": null,
   "id": "f634604a",
   "metadata": {},
   "outputs": [
    {
     "data": {
      "text/html": [
       "<div>\n",
       "<style scoped>\n",
       "    .dataframe tbody tr th:only-of-type {\n",
       "        vertical-align: middle;\n",
       "    }\n",
       "\n",
       "    .dataframe tbody tr th {\n",
       "        vertical-align: top;\n",
       "    }\n",
       "\n",
       "    .dataframe thead th {\n",
       "        text-align: right;\n",
       "    }\n",
       "</style>\n",
       "<table border=\"1\" class=\"dataframe\">\n",
       "  <thead>\n",
       "    <tr style=\"text-align: right;\">\n",
       "      <th></th>\n",
       "      <th>Исполнитель</th>\n",
       "      <th>Трек</th>\n",
       "      <th>Собран</th>\n",
       "      <th>Жанр</th>\n",
       "      <th>Доп. информация</th>\n",
       "      <th>Фит</th>\n",
       "      <th>Совместный релиз</th>\n",
       "      <th>Альбом</th>\n",
       "      <th>Год выхода</th>\n",
       "      <th>Текст трека</th>\n",
       "      <th>Языки в тексте</th>\n",
       "      <th>Части текста</th>\n",
       "      <th>Обработанные части</th>\n",
       "      <th>Очищенные леммы</th>\n",
       "      <th>predicted_label</th>\n",
       "      <th>confidence</th>\n",
       "      <th>prob_class_1</th>\n",
       "    </tr>\n",
       "    <tr>\n",
       "      <th>original_index</th>\n",
       "      <th></th>\n",
       "      <th></th>\n",
       "      <th></th>\n",
       "      <th></th>\n",
       "      <th></th>\n",
       "      <th></th>\n",
       "      <th></th>\n",
       "      <th></th>\n",
       "      <th></th>\n",
       "      <th></th>\n",
       "      <th></th>\n",
       "      <th></th>\n",
       "      <th></th>\n",
       "      <th></th>\n",
       "      <th></th>\n",
       "      <th></th>\n",
       "      <th></th>\n",
       "    </tr>\n",
       "  </thead>\n",
       "  <tbody>\n",
       "    <tr>\n",
       "      <th>https://music.yandex.ru/album/17778130/track/53360237</th>\n",
       "      <td>Pavel Kempel</td>\n",
       "      <td>Русская весна</td>\n",
       "      <td>1.0</td>\n",
       "      <td>русский рэп</td>\n",
       "      <td>Нет</td>\n",
       "      <td>Нет</td>\n",
       "      <td>Несовместный релиз</td>\n",
       "      <td>Буква</td>\n",
       "      <td>2019.0</td>\n",
       "      <td>Серые тучи, серые люди\\nСерые кучи, серые будн...</td>\n",
       "      <td>[ru]</td>\n",
       "      <td>[Серые тучи, серые люди\\nСерые кучи, серые буд...</td>\n",
       "      <td>[[серый, туча, ,, серый, человек, серый, куча,...</td>\n",
       "      <td>[[серый, туча, серый, человек, серый, куча, се...</td>\n",
       "      <td>0</td>\n",
       "      <td>0.988285</td>\n",
       "      <td>0.011715</td>\n",
       "    </tr>\n",
       "    <tr>\n",
       "      <th>https://music.yandex.ru/album/6931563/track/50255124</th>\n",
       "      <td>The Simba</td>\n",
       "      <td>Карусель</td>\n",
       "      <td>1.0</td>\n",
       "      <td>танцевальная музыка</td>\n",
       "      <td>The Simba Remix</td>\n",
       "      <td>Нет</td>\n",
       "      <td>M'Dee</td>\n",
       "      <td>Сингл</td>\n",
       "      <td>2019.0</td>\n",
       "      <td>Ты поздно поняла, поняла, поняла — я не такой\\...</td>\n",
       "      <td>[ru]</td>\n",
       "      <td>[Ты поздно поняла, поняла, поняла — я не такой...</td>\n",
       "      <td>[[ты, поздно, понять, ,, понять, ,, понять, —,...</td>\n",
       "      <td>[[поздно, понять, понять, понять, лгать, ждать...</td>\n",
       "      <td>0</td>\n",
       "      <td>0.986954</td>\n",
       "      <td>0.013046</td>\n",
       "    </tr>\n",
       "    <tr>\n",
       "      <th>https://music.yandex.ru/album/9521959/track/61168371</th>\n",
       "      <td>Кузьма</td>\n",
       "      <td>Балдёж</td>\n",
       "      <td>1.0</td>\n",
       "      <td>русский рэп</td>\n",
       "      <td>Нет</td>\n",
       "      <td>Нет</td>\n",
       "      <td>Несовместный релиз</td>\n",
       "      <td>Сингл</td>\n",
       "      <td>2019.0</td>\n",
       "      <td>День и ночь балдеж, Россию не поймешь\\nТанцуй ...</td>\n",
       "      <td>[ru, bg]</td>\n",
       "      <td>[День и ночь балдеж, Россию не поймешь\\nТанцуй...</td>\n",
       "      <td>[[день, и, ночь, балдеж, ,, Россия, не, понять...</td>\n",
       "      <td>[[день, ночь, балдеж, Россия, понять, таныть, ...</td>\n",
       "      <td>0</td>\n",
       "      <td>0.987971</td>\n",
       "      <td>0.012029</td>\n",
       "    </tr>\n",
       "  </tbody>\n",
       "</table>\n",
       "</div>"
      ],
      "text/plain": [
       "                                                     Исполнитель  ... prob_class_1\n",
       "original_index                                                    ...             \n",
       "https://music.yandex.ru/album/17778130/track/53...  Pavel Kempel  ...     0.011715\n",
       "https://music.yandex.ru/album/6931563/track/502...     The Simba  ...     0.013046\n",
       "https://music.yandex.ru/album/9521959/track/611...        Кузьма  ...     0.012029\n",
       "\n",
       "[3 rows x 17 columns]"
      ]
     },
     "execution_count": 16,
     "metadata": {},
     "output_type": "execute_result"
    }
   ],
   "source": [
    "# Получение логитов модели\n",
    "raw_predictions = trainer.predict(tokenized_dataset)\n",
    "logits = raw_predictions.predictions  \n",
    "\n",
    "# Перевод логитов в вероятности\n",
    "probabilities = softmax(torch.tensor(logits), dim=1).numpy()\n",
    "\n",
    "# Извлечение класса и его вероятности\n",
    "predicted_classes = np.argmax(probabilities, axis=1)\n",
    "probs_class_1 = probabilities[:, 1]\n",
    "\n",
    "# Грузим в дф\n",
    "df_for_markup[\"predicted_label\"] = predicted_classes\n",
    "df_for_markup[\"prob_class_1\"] = probs_class_1\n",
    "df_for_markup.head(3)"
   ]
  },
  {
   "cell_type": "markdown",
   "id": "e26435db",
   "metadata": {},
   "source": [
    "Посмотрим что там у нас получилось"
   ]
  },
  {
   "cell_type": "code",
   "execution_count": 23,
   "id": "470f9d60",
   "metadata": {},
   "outputs": [
    {
     "data": {
      "text/html": [
       "<div>\n",
       "<style scoped>\n",
       "    .dataframe tbody tr th:only-of-type {\n",
       "        vertical-align: middle;\n",
       "    }\n",
       "\n",
       "    .dataframe tbody tr th {\n",
       "        vertical-align: top;\n",
       "    }\n",
       "\n",
       "    .dataframe thead th {\n",
       "        text-align: right;\n",
       "    }\n",
       "</style>\n",
       "<table border=\"1\" class=\"dataframe\">\n",
       "  <thead>\n",
       "    <tr style=\"text-align: right;\">\n",
       "      <th></th>\n",
       "      <th>Исполнитель</th>\n",
       "      <th>Трек</th>\n",
       "      <th>Собран</th>\n",
       "      <th>Жанр</th>\n",
       "      <th>Доп. информация</th>\n",
       "      <th>Фит</th>\n",
       "      <th>Совместный релиз</th>\n",
       "      <th>Альбом</th>\n",
       "      <th>Год выхода</th>\n",
       "      <th>Текст трека</th>\n",
       "      <th>Языки в тексте</th>\n",
       "      <th>Части текста</th>\n",
       "      <th>Обработанные части</th>\n",
       "      <th>Очищенные леммы</th>\n",
       "      <th>predicted_label</th>\n",
       "      <th>confidence</th>\n",
       "      <th>prob_class_1</th>\n",
       "    </tr>\n",
       "    <tr>\n",
       "      <th>original_index</th>\n",
       "      <th></th>\n",
       "      <th></th>\n",
       "      <th></th>\n",
       "      <th></th>\n",
       "      <th></th>\n",
       "      <th></th>\n",
       "      <th></th>\n",
       "      <th></th>\n",
       "      <th></th>\n",
       "      <th></th>\n",
       "      <th></th>\n",
       "      <th></th>\n",
       "      <th></th>\n",
       "      <th></th>\n",
       "      <th></th>\n",
       "      <th></th>\n",
       "      <th></th>\n",
       "    </tr>\n",
       "  </thead>\n",
       "  <tbody>\n",
       "    <tr>\n",
       "      <th>https://music.yandex.ru/album/17778130/track/53360237</th>\n",
       "      <td>Pavel Kempel</td>\n",
       "      <td>Русская весна</td>\n",
       "      <td>1.0</td>\n",
       "      <td>русский рэп</td>\n",
       "      <td>Нет</td>\n",
       "      <td>Нет</td>\n",
       "      <td>Несовместный релиз</td>\n",
       "      <td>Буква</td>\n",
       "      <td>2019.0</td>\n",
       "      <td>Серые тучи, серые люди\\nСерые кучи, серые будн...</td>\n",
       "      <td>[ru]</td>\n",
       "      <td>[Серые тучи, серые люди\\nСерые кучи, серые буд...</td>\n",
       "      <td>[[серый, туча, ,, серый, человек, серый, куча,...</td>\n",
       "      <td>[[серый, туча, серый, человек, серый, куча, се...</td>\n",
       "      <td>0</td>\n",
       "      <td>0.988285</td>\n",
       "      <td>0.011715</td>\n",
       "    </tr>\n",
       "    <tr>\n",
       "      <th>https://music.yandex.ru/album/6931563/track/50255124</th>\n",
       "      <td>The Simba</td>\n",
       "      <td>Карусель</td>\n",
       "      <td>1.0</td>\n",
       "      <td>танцевальная музыка</td>\n",
       "      <td>The Simba Remix</td>\n",
       "      <td>Нет</td>\n",
       "      <td>M'Dee</td>\n",
       "      <td>Сингл</td>\n",
       "      <td>2019.0</td>\n",
       "      <td>Ты поздно поняла, поняла, поняла — я не такой\\...</td>\n",
       "      <td>[ru]</td>\n",
       "      <td>[Ты поздно поняла, поняла, поняла — я не такой...</td>\n",
       "      <td>[[ты, поздно, понять, ,, понять, ,, понять, —,...</td>\n",
       "      <td>[[поздно, понять, понять, понять, лгать, ждать...</td>\n",
       "      <td>0</td>\n",
       "      <td>0.986954</td>\n",
       "      <td>0.013046</td>\n",
       "    </tr>\n",
       "    <tr>\n",
       "      <th>https://music.yandex.ru/album/9521959/track/61168371</th>\n",
       "      <td>Кузьма</td>\n",
       "      <td>Балдёж</td>\n",
       "      <td>1.0</td>\n",
       "      <td>русский рэп</td>\n",
       "      <td>Нет</td>\n",
       "      <td>Нет</td>\n",
       "      <td>Несовместный релиз</td>\n",
       "      <td>Сингл</td>\n",
       "      <td>2019.0</td>\n",
       "      <td>День и ночь балдеж, Россию не поймешь\\nТанцуй ...</td>\n",
       "      <td>[ru, bg]</td>\n",
       "      <td>[День и ночь балдеж, Россию не поймешь\\nТанцуй...</td>\n",
       "      <td>[[день, и, ночь, балдеж, ,, Россия, не, понять...</td>\n",
       "      <td>[[день, ночь, балдеж, Россия, понять, таныть, ...</td>\n",
       "      <td>0</td>\n",
       "      <td>0.987971</td>\n",
       "      <td>0.012029</td>\n",
       "    </tr>\n",
       "    <tr>\n",
       "      <th>https://music.yandex.ru/album/21509188/track/101776286</th>\n",
       "      <td>SaNni</td>\n",
       "      <td>Ламбада - Румба</td>\n",
       "      <td>1.0</td>\n",
       "      <td>русский рэп</td>\n",
       "      <td>Нет</td>\n",
       "      <td>Нет</td>\n",
       "      <td>Несовместный релиз</td>\n",
       "      <td>Сингл</td>\n",
       "      <td>2019.0</td>\n",
       "      <td>Ламбада, румба, крути панорама\\nМама хасла, пр...</td>\n",
       "      <td>[ru]</td>\n",
       "      <td>[Ламбада, румба, крути панорама\\nМама хасла, п...</td>\n",
       "      <td>[[ламбада, ,, румба, ,, крутить, панорама, мам...</td>\n",
       "      <td>[[ламбада, румба, крутить, панорама, мама, хас...</td>\n",
       "      <td>0</td>\n",
       "      <td>0.885082</td>\n",
       "      <td>0.114918</td>\n",
       "    </tr>\n",
       "    <tr>\n",
       "      <th>https://music.yandex.ru/album/30947715/track/125364879</th>\n",
       "      <td>SaNni</td>\n",
       "      <td>Мой магнит</td>\n",
       "      <td>1.0</td>\n",
       "      <td>русский рэп</td>\n",
       "      <td>Нет</td>\n",
       "      <td>Нет</td>\n",
       "      <td>Несовместный релиз</td>\n",
       "      <td>Сингл</td>\n",
       "      <td>2024.0</td>\n",
       "      <td>Облака мне напомнят густой дым, я хочу вдыхать...</td>\n",
       "      <td>[ru]</td>\n",
       "      <td>[Облака мне напомнят густой дым, я хочу вдыхат...</td>\n",
       "      <td>[[облако, я, напомнить, густой, дым, ,, я, хот...</td>\n",
       "      <td>[[облако, напомнить, густой, дым, хотеть, вдых...</td>\n",
       "      <td>0</td>\n",
       "      <td>0.985334</td>\n",
       "      <td>0.014666</td>\n",
       "    </tr>\n",
       "    <tr>\n",
       "      <th>...</th>\n",
       "      <td>...</td>\n",
       "      <td>...</td>\n",
       "      <td>...</td>\n",
       "      <td>...</td>\n",
       "      <td>...</td>\n",
       "      <td>...</td>\n",
       "      <td>...</td>\n",
       "      <td>...</td>\n",
       "      <td>...</td>\n",
       "      <td>...</td>\n",
       "      <td>...</td>\n",
       "      <td>...</td>\n",
       "      <td>...</td>\n",
       "      <td>...</td>\n",
       "      <td>...</td>\n",
       "      <td>...</td>\n",
       "      <td>...</td>\n",
       "    </tr>\n",
       "    <tr>\n",
       "      <th>https://music.yandex.ru/album/28241508/track/117972354</th>\n",
       "      <td>Meep</td>\n",
       "      <td>Десятилетие</td>\n",
       "      <td>1.0</td>\n",
       "      <td>русский рэп</td>\n",
       "      <td>Нет</td>\n",
       "      <td>Нет</td>\n",
       "      <td>VELIAL SQUAD</td>\n",
       "      <td>CREEPSHOW</td>\n",
       "      <td>2023.0</td>\n",
       "      <td>Я, а\\n\\nДа, я русский, скажи, есть ли со мной ...</td>\n",
       "      <td>[ru]</td>\n",
       "      <td>[Я, а, Да, я русский, скажи, есть ли со мной Б...</td>\n",
       "      <td>[[я, ,, а], [да, ,, я, русский, ,, сказать, ,,...</td>\n",
       "      <td>[[], [русский, сказать, Бог, сказать, стать, н...</td>\n",
       "      <td>0</td>\n",
       "      <td>0.973675</td>\n",
       "      <td>0.026325</td>\n",
       "    </tr>\n",
       "    <tr>\n",
       "      <th>https://music.yandex.ru/album/22776021/track/105293921</th>\n",
       "      <td>SAPA13</td>\n",
       "      <td>Svet</td>\n",
       "      <td>1.0</td>\n",
       "      <td>русский рэп</td>\n",
       "      <td>Нет</td>\n",
       "      <td>Нет</td>\n",
       "      <td>Ralfkon</td>\n",
       "      <td>Kendama Bae</td>\n",
       "      <td>2022.0</td>\n",
       "      <td>Я, я не синоптик, но\\nЯ точно знаю погоду в до...</td>\n",
       "      <td>[ru]</td>\n",
       "      <td>[Я, я не синоптик, но\\nЯ точно знаю погоду в д...</td>\n",
       "      <td>[[я, ,, я, не, синоптика, ,, но, я, точно, зна...</td>\n",
       "      <td>[[синоптика, точно, знать, погода, дом, дом, -...</td>\n",
       "      <td>0</td>\n",
       "      <td>0.986913</td>\n",
       "      <td>0.013087</td>\n",
       "    </tr>\n",
       "    <tr>\n",
       "      <th>https://music.yandex.ru/album/9414961/track/60721279</th>\n",
       "      <td>Say Mo</td>\n",
       "      <td>Я — Ра</td>\n",
       "      <td>1.0</td>\n",
       "      <td>русский рэп</td>\n",
       "      <td>Нет</td>\n",
       "      <td>Нет</td>\n",
       "      <td>Несовместный релиз</td>\n",
       "      <td>Я пот бит</td>\n",
       "      <td>2019.0</td>\n",
       "      <td>Я, я, эй-эй\\nЯ, я, эй\\nЯ, я, я\\n\\nБудьте готов...</td>\n",
       "      <td>[ru, de, uk]</td>\n",
       "      <td>[Я, я, эй-эй\\nЯ, я, эй\\nЯ, я, я, Будьте готовы...</td>\n",
       "      <td>[[я, ,, я, ,, эй-эй, я, ,, я, ,, эй, я, ,, я, ...</td>\n",
       "      <td>[[эй-эй, эй], [готовый, связь, Номад, готовый,...</td>\n",
       "      <td>0</td>\n",
       "      <td>0.987173</td>\n",
       "      <td>0.012827</td>\n",
       "    </tr>\n",
       "    <tr>\n",
       "      <th>https://music.yandex.ru/album/34612910/track/134415673</th>\n",
       "      <td>dayerteq</td>\n",
       "      <td>КОНТРА ТИТИ</td>\n",
       "      <td>1.0</td>\n",
       "      <td>русский рэп</td>\n",
       "      <td>Нет</td>\n",
       "      <td>Нет</td>\n",
       "      <td>Несовместный релиз</td>\n",
       "      <td>Сингл</td>\n",
       "      <td>2024.0</td>\n",
       "      <td>дрожь по телу я дебил\\nскорострел и чайлдфри\\n...</td>\n",
       "      <td>[ru, bg]</td>\n",
       "      <td>[дрожь по телу я дебил\\nскорострел и чайлдфри\\...</td>\n",
       "      <td>[[дрожь, по, тело, я, дебил, скорострел, и, ча...</td>\n",
       "      <td>[[дрожь, тело, дебил, скорострел, чайлдфа, уме...</td>\n",
       "      <td>0</td>\n",
       "      <td>0.739590</td>\n",
       "      <td>0.260410</td>\n",
       "    </tr>\n",
       "    <tr>\n",
       "      <th>https://music.yandex.ru/album/26427675/track/115081086</th>\n",
       "      <td>Baguvix</td>\n",
       "      <td>КТО</td>\n",
       "      <td>1.0</td>\n",
       "      <td>рэп и хип-хоп</td>\n",
       "      <td>Нет</td>\n",
       "      <td>Нет</td>\n",
       "      <td>Destroy Sunset</td>\n",
       "      <td>ПОСТПРОЕКТ</td>\n",
       "      <td>2023.0</td>\n",
       "      <td>я убегаю снова\\nбегу от своих мыслей\\nне знаю ...</td>\n",
       "      <td>[ru]</td>\n",
       "      <td>[я убегаю снова\\nбегу от своих мыслей\\nне знаю...</td>\n",
       "      <td>[[я, убегать, снова, бег, от, свой, мысль, не,...</td>\n",
       "      <td>[[убегать, снова, бег, свой, мысль, знать, гот...</td>\n",
       "      <td>0</td>\n",
       "      <td>0.959105</td>\n",
       "      <td>0.040895</td>\n",
       "    </tr>\n",
       "  </tbody>\n",
       "</table>\n",
       "<p>26599 rows × 17 columns</p>\n",
       "</div>"
      ],
      "text/plain": [
       "                                                     Исполнитель  ... prob_class_1\n",
       "original_index                                                    ...             \n",
       "https://music.yandex.ru/album/17778130/track/53...  Pavel Kempel  ...     0.011715\n",
       "https://music.yandex.ru/album/6931563/track/502...     The Simba  ...     0.013046\n",
       "https://music.yandex.ru/album/9521959/track/611...        Кузьма  ...     0.012029\n",
       "https://music.yandex.ru/album/21509188/track/10...         SaNni  ...     0.114918\n",
       "https://music.yandex.ru/album/30947715/track/12...         SaNni  ...     0.014666\n",
       "...                                                          ...  ...          ...\n",
       "https://music.yandex.ru/album/28241508/track/11...          Meep  ...     0.026325\n",
       "https://music.yandex.ru/album/22776021/track/10...        SAPA13  ...     0.013087\n",
       "https://music.yandex.ru/album/9414961/track/607...        Say Mo  ...     0.012827\n",
       "https://music.yandex.ru/album/34612910/track/13...      dayerteq  ...     0.260410\n",
       "https://music.yandex.ru/album/26427675/track/11...       Baguvix  ...     0.040895\n",
       "\n",
       "[26599 rows x 17 columns]"
      ]
     },
     "execution_count": 23,
     "metadata": {},
     "output_type": "execute_result"
    }
   ],
   "source": [
    "df_for_markup[df_for_markup['predicted_label']==0]"
   ]
  },
  {
   "cell_type": "code",
   "execution_count": 24,
   "id": "6adab935",
   "metadata": {},
   "outputs": [],
   "source": [
    "df_for_markup.to_parquet('full_size_markuped_df_hq.parquet')"
   ]
  }
 ],
 "metadata": {
  "kernelspec": {
   "display_name": ".venv",
   "language": "python",
   "name": "python3"
  },
  "language_info": {
   "codemirror_mode": {
    "name": "ipython",
    "version": 3
   },
   "file_extension": ".py",
   "mimetype": "text/x-python",
   "name": "python",
   "nbconvert_exporter": "python",
   "pygments_lexer": "ipython3",
   "version": "3.11.12"
  }
 },
 "nbformat": 4,
 "nbformat_minor": 5
}
