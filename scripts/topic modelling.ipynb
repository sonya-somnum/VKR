{
 "cells": [
  {
   "cell_type": "markdown",
   "metadata": {},
   "source": [
    "### Этот ноутбук создан для топик моделлинга"
   ]
  },
  {
   "cell_type": "markdown",
   "metadata": {},
   "source": [
    "### Попробуем сделать BERTOPIC"
   ]
  },
  {
   "cell_type": "code",
   "execution_count": 1,
   "metadata": {},
   "outputs": [
    {
     "name": "stderr",
     "output_type": "stream",
     "text": [
      "/root/.venv/lib/python3.11/site-packages/tqdm/auto.py:21: TqdmWarning: IProgress not found. Please update jupyter and ipywidgets. See https://ipywidgets.readthedocs.io/en/stable/user_install.html\n",
      "  from .autonotebook import tqdm as notebook_tqdm\n",
      "[nltk_data] Downloading package stopwords to /root/nltk_data...\n",
      "[nltk_data]   Package stopwords is already up-to-date!\n"
     ]
    },
    {
     "data": {
      "text/plain": [
       "True"
      ]
     },
     "execution_count": 1,
     "metadata": {},
     "output_type": "execute_result"
    }
   ],
   "source": [
    "import pandas as pd\n",
    "import numpy as np\n",
    "import nltk\n",
    "import matplotlib.pyplot as plt\n",
    "import seaborn as sns\n",
    "import os\n",
    "from nltk.corpus import stopwords\n",
    "from sklearn.manifold import TSNE\n",
    "from sklearn.feature_extraction.text import CountVectorizer\n",
    "from tqdm import tqdm\n",
    "\n",
    "import torch\n",
    "\n",
    "from umap import UMAP\n",
    "from hdbscan import HDBSCAN\n",
    "from bertopic import BERTopic\n",
    "from sentence_transformers import SentenceTransformer\n",
    "\n",
    "nltk.download('stopwords')"
   ]
  },
  {
   "cell_type": "code",
   "execution_count": 2,
   "metadata": {},
   "outputs": [],
   "source": [
    "df_with_txts=pd.read_parquet('/root/my project ver 2/full_size_markuped_df_hq.parquet')\n",
    "df=df_with_txts[df_with_txts['predicted_label']==1]\n",
    "\n",
    "documents = df[\"Текст трека\"].astype(str).to_list()"
   ]
  },
  {
   "cell_type": "code",
   "execution_count": 10,
   "metadata": {},
   "outputs": [
    {
     "name": "stderr",
     "output_type": "stream",
     "text": [
      "2025-05-22 14:17:57,640 - BERTopic - Embedding - Transforming documents to embeddings.\n",
      "Batches: 100%|██████████| 501/501 [00:14<00:00, 33.71it/s]\n",
      "2025-05-22 14:18:18,468 - BERTopic - Embedding - Completed ✓\n",
      "2025-05-22 14:18:18,470 - BERTopic - Dimensionality - Fitting the dimensionality reduction algorithm\n",
      "2025-05-22 14:18:24,941 - BERTopic - Dimensionality - Completed ✓\n",
      "2025-05-22 14:18:24,943 - BERTopic - Cluster - Start clustering the reduced embeddings\n",
      "2025-05-22 14:18:25,974 - BERTopic - Cluster - Completed ✓\n",
      "2025-05-22 14:18:25,976 - BERTopic - Representation - Extracting topics using c-TF-IDF for topic reduction.\n",
      "2025-05-22 14:18:29,839 - BERTopic - Representation - Completed ✓\n",
      "2025-05-22 14:18:29,849 - BERTopic - Topic reduction - Reducing number of topics\n",
      "2025-05-22 14:18:29,850 - BERTopic - Topic reduction - Number of topics (150) is equal or higher than the clustered topics(20).\n",
      "2025-05-22 14:18:29,851 - BERTopic - Representation - Fine-tuning topics using representation models.\n",
      "2025-05-22 14:18:33,895 - BERTopic - Representation - Completed ✓\n"
     ]
    }
   ],
   "source": [
    "umap_model = UMAP(n_neighbors=12, n_components=5, metric='cosine', low_memory=False)\n",
    "vectorizer_model = CountVectorizer(stop_words=stopwords.words('russian') + stopwords.words('english')+['это', 'ха', 'ya', 'ла', 'la', 'та'])\n",
    "hdbscan_model = HDBSCAN(min_cluster_size=35, min_samples=15, metric='euclidean', prediction_data=True)\n",
    "#embedding_model = SentenceTransformer(\"sentence-transformers/LaBSE\")\n",
    "\n",
    "topic_model = BERTopic(umap_model=umap_model,\n",
    "                       vectorizer_model=vectorizer_model, \n",
    "                       hdbscan_model=hdbscan_model,\n",
    "                       n_gram_range=(1,3),\n",
    "#                       embedding_model=embedding_model,\n",
    "                       nr_topics=150, top_n_words=10, language='multilingual', verbose=True).fit(documents)"
   ]
  },
  {
   "cell_type": "code",
   "execution_count": 11,
   "metadata": {},
   "outputs": [
    {
     "data": {
      "text/html": [
       "<div>\n",
       "<style scoped>\n",
       "    .dataframe tbody tr th:only-of-type {\n",
       "        vertical-align: middle;\n",
       "    }\n",
       "\n",
       "    .dataframe tbody tr th {\n",
       "        vertical-align: top;\n",
       "    }\n",
       "\n",
       "    .dataframe thead th {\n",
       "        text-align: right;\n",
       "    }\n",
       "</style>\n",
       "<table border=\"1\" class=\"dataframe\">\n",
       "  <thead>\n",
       "    <tr style=\"text-align: right;\">\n",
       "      <th></th>\n",
       "      <th>Topic</th>\n",
       "      <th>Count</th>\n",
       "      <th>Name</th>\n",
       "      <th>Representation</th>\n",
       "      <th>Representative_Docs</th>\n",
       "    </tr>\n",
       "  </thead>\n",
       "  <tbody>\n",
       "    <tr>\n",
       "      <th>0</th>\n",
       "      <td>-1</td>\n",
       "      <td>12011</td>\n",
       "      <td>-1_всё_тебе_эй_сука</td>\n",
       "      <td>[всё, тебе, эй, сука, хочу, просто, мои, снова...</td>\n",
       "      <td>[Скорее бы весна, я тебя обниму\\nПрижму к себе...</td>\n",
       "    </tr>\n",
       "    <tr>\n",
       "      <th>1</th>\n",
       "      <td>0</td>\n",
       "      <td>69</td>\n",
       "      <td>0_дым_курю_shmouk_никотин</td>\n",
       "      <td>[дым, курю, shmouk, никотин, курим, покурить, ...</td>\n",
       "      <td>[А я буду как дым, буду как дым,\\nбуду как дым...</td>\n",
       "    </tr>\n",
       "    <tr>\n",
       "      <th>2</th>\n",
       "      <td>1</td>\n",
       "      <td>98</td>\n",
       "      <td>1_око_черепа_crew_dead</td>\n",
       "      <td>[око, черепа, crew, dead, демоны, моей, plug, ...</td>\n",
       "      <td>[Снова жажда крови на клинке, да, я готовый уб...</td>\n",
       "    </tr>\n",
       "    <tr>\n",
       "      <th>3</th>\n",
       "      <td>2</td>\n",
       "      <td>303</td>\n",
       "      <td>2_всё_нам_мир_тебе</td>\n",
       "      <td>[всё, нам, мир, тебе, лишь, жизнь, свет, небо,...</td>\n",
       "      <td>[Эй\\nЭй, yeah, yeah, uh, uh, yeah, yeah\\n\\nЛиш...</td>\n",
       "    </tr>\n",
       "    <tr>\n",
       "      <th>4</th>\n",
       "      <td>3</td>\n",
       "      <td>82</td>\n",
       "      <td>3_ремонту_жако_дойчланд_эй</td>\n",
       "      <td>[ремонту, жако, дойчланд, эй, tag, па, всё, те...</td>\n",
       "      <td>[Давай крути, крути его, прямо до отсечки\\n\\nП...</td>\n",
       "    </tr>\n",
       "    <tr>\n",
       "      <th>5</th>\n",
       "      <td>4</td>\n",
       "      <td>127</td>\n",
       "      <td>4_нам_всё_эй_жизнь</td>\n",
       "      <td>[нам, всё, эй, жизнь, героиновый, ебано, время...</td>\n",
       "      <td>[алло, чё трубки не берёшь, гасишься?\\nВосточн...</td>\n",
       "    </tr>\n",
       "    <tr>\n",
       "      <th>6</th>\n",
       "      <td>5</td>\n",
       "      <td>558</td>\n",
       "      <td>5_её_хочет_хочу_сука</td>\n",
       "      <td>[её, хочет, хочу, сука, мной, любит, всё, секс...</td>\n",
       "      <td>[Ты её потерял, телефон выключен, где она?\\nВо...</td>\n",
       "    </tr>\n",
       "    <tr>\n",
       "      <th>7</th>\n",
       "      <td>6</td>\n",
       "      <td>38</td>\n",
       "      <td>6_времена_рухнет_тап_всё</td>\n",
       "      <td>[времена, рухнет, тап, всё, сошел, наглухо, пр...</td>\n",
       "      <td>[Буду незрим, когда дождь смоет грим\\nРухнет к...</td>\n",
       "    </tr>\n",
       "    <tr>\n",
       "      <th>8</th>\n",
       "      <td>7</td>\n",
       "      <td>39</td>\n",
       "      <td>7_пены_витамины_воду_drugs</td>\n",
       "      <td>[пены, витамины, воду, drugs, папа, pill, фарм...</td>\n",
       "      <td>[Я начинаю свой день с хапки и хавки\\nПапа на ...</td>\n",
       "    </tr>\n",
       "    <tr>\n",
       "      <th>9</th>\n",
       "      <td>8</td>\n",
       "      <td>90</td>\n",
       "      <td>8_outsider_тебе_снова_хочу</td>\n",
       "      <td>[outsider, тебе, снова, хочу, тобой, коноплюху...</td>\n",
       "      <td>[И он снова пропал, так будешь ждать\\nОказалас...</td>\n",
       "    </tr>\n",
       "    <tr>\n",
       "      <th>10</th>\n",
       "      <td>9</td>\n",
       "      <td>255</td>\n",
       "      <td>9_деньги_money_cash_мои</td>\n",
       "      <td>[деньги, money, cash, мои, денег, всё, сука, к...</td>\n",
       "      <td>[Деньги, деньги, деньги, деньги\\nДеньги, деньг...</td>\n",
       "    </tr>\n",
       "    <tr>\n",
       "      <th>11</th>\n",
       "      <td>10</td>\n",
       "      <td>84</td>\n",
       "      <td>10_gang_сука_эй_bitch</td>\n",
       "      <td>[gang, сука, эй, bitch, skittles, кха, silk, т...</td>\n",
       "      <td>[Milian 'bout to go platinum\\n\\nTime of my lif...</td>\n",
       "    </tr>\n",
       "    <tr>\n",
       "      <th>12</th>\n",
       "      <td>11</td>\n",
       "      <td>292</td>\n",
       "      <td>11_эй_рэп_yeah_сука</td>\n",
       "      <td>[эй, рэп, yeah, сука, всё, мои, деньги, dj, тв...</td>\n",
       "      <td>[Oh shit, this is KOOKY\\nЭто HOOD2HOOD MGMT пр...</td>\n",
       "    </tr>\n",
       "    <tr>\n",
       "      <th>13</th>\n",
       "      <td>12</td>\n",
       "      <td>324</td>\n",
       "      <td>12_москва_русский_эй_всё</td>\n",
       "      <td>[москва, русский, эй, всё, нам, москве, нахуй,...</td>\n",
       "      <td>[Этот самый вот, с дредами, да, которого мы об...</td>\n",
       "    </tr>\n",
       "    <tr>\n",
       "      <th>14</th>\n",
       "      <td>13</td>\n",
       "      <td>115</td>\n",
       "      <td>13_сука_gang_эй_ling</td>\n",
       "      <td>[сука, gang, эй, ling, yeah, go, чё, pow, gucc...</td>\n",
       "      <td>[Кого вы там знаете? Из какого дома?\\nЧто знач...</td>\n",
       "    </tr>\n",
       "    <tr>\n",
       "      <th>15</th>\n",
       "      <td>14</td>\n",
       "      <td>45</td>\n",
       "      <td>14_дым_снова_ночи_день</td>\n",
       "      <td>[дым, снова, ночи, день, сон, каждый, белые, c...</td>\n",
       "      <td>[Не знаю, где ты, так долго ищу\\nПроблемы — до...</td>\n",
       "    </tr>\n",
       "    <tr>\n",
       "      <th>16</th>\n",
       "      <td>15</td>\n",
       "      <td>1111</td>\n",
       "      <td>15_тебе_снова_нам_сука</td>\n",
       "      <td>[тебе, снова, нам, сука, любовь, нахуй, мои, п...</td>\n",
       "      <td>[На часах полночь\\nЗаберу ее из дома снова\\nСм...</td>\n",
       "    </tr>\n",
       "    <tr>\n",
       "      <th>17</th>\n",
       "      <td>16</td>\n",
       "      <td>124</td>\n",
       "      <td>16_всё_просто_боль_потребляй</td>\n",
       "      <td>[всё, просто, боль, потребляй, снова, жизнь, х...</td>\n",
       "      <td>[Хочу забыть эту боль\\nНазад не могу найти дор...</td>\n",
       "    </tr>\n",
       "    <tr>\n",
       "      <th>18</th>\n",
       "      <td>17</td>\n",
       "      <td>120</td>\n",
       "      <td>17_почему_любовь_снова_всё</td>\n",
       "      <td>[почему, любовь, снова, всё, тебе, тобой, люби...</td>\n",
       "      <td>[Меня бесит всё, что связано с тобой\\nТвоё лиц...</td>\n",
       "    </tr>\n",
       "    <tr>\n",
       "      <th>19</th>\n",
       "      <td>18</td>\n",
       "      <td>130</td>\n",
       "      <td>18_буду_сердце_боль_тебе</td>\n",
       "      <td>[буду, сердце, боль, тебе, напоследок, любовь,...</td>\n",
       "      <td>[Напоследок буду жить, напоследок буду пить\\nН...</td>\n",
       "    </tr>\n",
       "  </tbody>\n",
       "</table>\n",
       "</div>"
      ],
      "text/plain": [
       "    Topic  Count                          Name  \\\n",
       "0      -1  12011           -1_всё_тебе_эй_сука   \n",
       "1       0     69     0_дым_курю_shmouk_никотин   \n",
       "2       1     98        1_око_черепа_crew_dead   \n",
       "3       2    303            2_всё_нам_мир_тебе   \n",
       "4       3     82    3_ремонту_жако_дойчланд_эй   \n",
       "5       4    127            4_нам_всё_эй_жизнь   \n",
       "6       5    558          5_её_хочет_хочу_сука   \n",
       "7       6     38      6_времена_рухнет_тап_всё   \n",
       "8       7     39    7_пены_витамины_воду_drugs   \n",
       "9       8     90    8_outsider_тебе_снова_хочу   \n",
       "10      9    255       9_деньги_money_cash_мои   \n",
       "11     10     84         10_gang_сука_эй_bitch   \n",
       "12     11    292           11_эй_рэп_yeah_сука   \n",
       "13     12    324      12_москва_русский_эй_всё   \n",
       "14     13    115          13_сука_gang_эй_ling   \n",
       "15     14     45        14_дым_снова_ночи_день   \n",
       "16     15   1111        15_тебе_снова_нам_сука   \n",
       "17     16    124  16_всё_просто_боль_потребляй   \n",
       "18     17    120    17_почему_любовь_снова_всё   \n",
       "19     18    130      18_буду_сердце_боль_тебе   \n",
       "\n",
       "                                       Representation  \\\n",
       "0   [всё, тебе, эй, сука, хочу, просто, мои, снова...   \n",
       "1   [дым, курю, shmouk, никотин, курим, покурить, ...   \n",
       "2   [око, черепа, crew, dead, демоны, моей, plug, ...   \n",
       "3   [всё, нам, мир, тебе, лишь, жизнь, свет, небо,...   \n",
       "4   [ремонту, жако, дойчланд, эй, tag, па, всё, те...   \n",
       "5   [нам, всё, эй, жизнь, героиновый, ебано, время...   \n",
       "6   [её, хочет, хочу, сука, мной, любит, всё, секс...   \n",
       "7   [времена, рухнет, тап, всё, сошел, наглухо, пр...   \n",
       "8   [пены, витамины, воду, drugs, папа, pill, фарм...   \n",
       "9   [outsider, тебе, снова, хочу, тобой, коноплюху...   \n",
       "10  [деньги, money, cash, мои, денег, всё, сука, к...   \n",
       "11  [gang, сука, эй, bitch, skittles, кха, silk, т...   \n",
       "12  [эй, рэп, yeah, сука, всё, мои, деньги, dj, тв...   \n",
       "13  [москва, русский, эй, всё, нам, москве, нахуй,...   \n",
       "14  [сука, gang, эй, ling, yeah, go, чё, pow, gucc...   \n",
       "15  [дым, снова, ночи, день, сон, каждый, белые, c...   \n",
       "16  [тебе, снова, нам, сука, любовь, нахуй, мои, п...   \n",
       "17  [всё, просто, боль, потребляй, снова, жизнь, х...   \n",
       "18  [почему, любовь, снова, всё, тебе, тобой, люби...   \n",
       "19  [буду, сердце, боль, тебе, напоследок, любовь,...   \n",
       "\n",
       "                                  Representative_Docs  \n",
       "0   [Скорее бы весна, я тебя обниму\\nПрижму к себе...  \n",
       "1   [А я буду как дым, буду как дым,\\nбуду как дым...  \n",
       "2   [Снова жажда крови на клинке, да, я готовый уб...  \n",
       "3   [Эй\\nЭй, yeah, yeah, uh, uh, yeah, yeah\\n\\nЛиш...  \n",
       "4   [Давай крути, крути его, прямо до отсечки\\n\\nП...  \n",
       "5   [алло, чё трубки не берёшь, гасишься?\\nВосточн...  \n",
       "6   [Ты её потерял, телефон выключен, где она?\\nВо...  \n",
       "7   [Буду незрим, когда дождь смоет грим\\nРухнет к...  \n",
       "8   [Я начинаю свой день с хапки и хавки\\nПапа на ...  \n",
       "9   [И он снова пропал, так будешь ждать\\nОказалас...  \n",
       "10  [Деньги, деньги, деньги, деньги\\nДеньги, деньг...  \n",
       "11  [Milian 'bout to go platinum\\n\\nTime of my lif...  \n",
       "12  [Oh shit, this is KOOKY\\nЭто HOOD2HOOD MGMT пр...  \n",
       "13  [Этот самый вот, с дредами, да, которого мы об...  \n",
       "14  [Кого вы там знаете? Из какого дома?\\nЧто знач...  \n",
       "15  [Не знаю, где ты, так долго ищу\\nПроблемы — до...  \n",
       "16  [На часах полночь\\nЗаберу ее из дома снова\\nСм...  \n",
       "17  [Хочу забыть эту боль\\nНазад не могу найти дор...  \n",
       "18  [Меня бесит всё, что связано с тобой\\nТвоё лиц...  \n",
       "19  [Напоследок буду жить, напоследок буду пить\\nН...  "
      ]
     },
     "execution_count": 11,
     "metadata": {},
     "output_type": "execute_result"
    }
   ],
   "source": [
    "topic_model.get_topic_info()"
   ]
  },
  {
   "cell_type": "code",
   "execution_count": null,
   "metadata": {},
   "outputs": [
    {
     "data": {
      "application/vnd.plotly.v1+json": {
       "config": {
        "plotlyServerURL": "https://plot.ly"
       },
       "data": [
        {
         "hoverinfo": "text",
         "marker": {
          "color": "rgb(61,153,112)"
         },
         "mode": "lines",
         "type": "scatter",
         "x": {
          "bdata": "AAAAAAAAAACO9JibvfvdP470mJu9+90/AAAAAAAAAAA=",
          "dtype": "f8"
         },
         "xaxis": "x",
         "y": {
          "bdata": "AAAAAAAAOcAAAAAAAAA5wAAAAAAAgEHAAAAAAACAQcA=",
          "dtype": "f8"
         },
         "yaxis": "y"
        },
        {
         "hoverinfo": "text",
         "marker": {
          "color": "rgb(61,153,112)"
         },
         "mode": "lines",
         "type": "scatter",
         "x": {
          "bdata": "AAAAAAAAAAAaKfArYAPcPxop8CtgA9w/AAAAAAAAAAA=",
          "dtype": "f8"
         },
         "xaxis": "x",
         "y": {
          "bdata": "AAAAAACARsAAAAAAAIBGwAAAAAAAgEvAAAAAAACAS8A=",
          "dtype": "f8"
         },
         "yaxis": "y"
        },
        {
         "hoverinfo": "text",
         "marker": {
          "color": "rgb(61,153,112)"
         },
         "mode": "lines",
         "type": "scatter",
         "x": {
          "bdata": "jvSYm7373T8YXt6GNVXgPxhe3oY1VeA/GinwK2AD3D8=",
          "dtype": "f8"
         },
         "xaxis": "x",
         "y": {
          "bdata": "AAAAAAAAPsAAAAAAAAA+wAAAAAAAAEnAAAAAAAAAScA=",
          "dtype": "f8"
         },
         "yaxis": "y"
        },
        {
         "hoverinfo": "text",
         "marker": {
          "color": "rgb(61,153,112)"
         },
         "mode": "lines",
         "type": "scatter",
         "x": {
          "bdata": "AAAAAAAAAADzDw3WbnHiP/MPDdZuceI/GF7ehjVV4D8=",
          "dtype": "f8"
         },
         "xaxis": "x",
         "y": {
          "bdata": "AAAAAAAALsAAAAAAAAAuwAAAAAAAAETAAAAAAAAARMA=",
          "dtype": "f8"
         },
         "yaxis": "y"
        },
        {
         "hoverinfo": "text",
         "marker": {
          "color": "rgb(61,153,112)"
         },
         "mode": "lines",
         "type": "scatter",
         "x": {
          "bdata": "8w8N1m5x4j/hlqi6kAvlP+GWqLqQC+U/AAAAAAAAAAA=",
          "dtype": "f8"
         },
         "xaxis": "x",
         "y": {
          "bdata": "AAAAAACAO8AAAAAAAIA7wAAAAAAAQFDAAAAAAABAUMA=",
          "dtype": "f8"
         },
         "yaxis": "y"
        },
        {
         "hoverinfo": "text",
         "marker": {
          "color": "rgb(61,153,112)"
         },
         "mode": "lines",
         "type": "scatter",
         "x": {
          "bdata": "AAAAAAAAAAD2Wn9SL6boP/Zaf1Ivpug/4ZaoupAL5T8=",
          "dtype": "f8"
         },
         "xaxis": "x",
         "y": {
          "bdata": "AAAAAAAAFMAAAAAAAAAUwAAAAAAAIEfAAAAAAAAgR8A=",
          "dtype": "f8"
         },
         "yaxis": "y"
        },
        {
         "hoverinfo": "text",
         "marker": {
          "color": "rgb(61,153,112)"
         },
         "mode": "lines",
         "type": "scatter",
         "x": {
          "bdata": "AAAAAAAAAACUdKUVGJTUP5R0pRUYlNQ/AAAAAAAAAAA=",
          "dtype": "f8"
         },
         "xaxis": "x",
         "y": {
          "bdata": "AAAAAADAXMAAAAAAAMBcwAAAAAAAQF/AAAAAAABAX8A=",
          "dtype": "f8"
         },
         "yaxis": "y"
        },
        {
         "hoverinfo": "text",
         "marker": {
          "color": "rgb(61,153,112)"
         },
         "mode": "lines",
         "type": "scatter",
         "x": {
          "bdata": "lHSlFRiU1D9fkPsgIkLYP1+Q+yAiQtg/AAAAAAAAAAA=",
          "dtype": "f8"
         },
         "xaxis": "x",
         "y": {
          "bdata": "AAAAAAAAXsAAAAAAAABewAAAAAAA4GDAAAAAAADgYMA=",
          "dtype": "f8"
         },
         "yaxis": "y"
        },
        {
         "hoverinfo": "text",
         "marker": {
          "color": "rgb(61,153,112)"
         },
         "mode": "lines",
         "type": "scatter",
         "x": {
          "bdata": "AAAAAAAAAABLF5Mkq3LaP0sXkySrcto/X5D7ICJC2D8=",
          "dtype": "f8"
         },
         "xaxis": "x",
         "y": {
          "bdata": "AAAAAABAWsAAAAAAAEBawAAAAAAA4F/AAAAAAADgX8A=",
          "dtype": "f8"
         },
         "yaxis": "y"
        },
        {
         "hoverinfo": "text",
         "marker": {
          "color": "rgb(61,153,112)"
         },
         "mode": "lines",
         "type": "scatter",
         "x": {
          "bdata": "SxeTJKty2j9cqINhIIDeP1yog2EggN4/AAAAAAAAAAA=",
          "dtype": "f8"
         },
         "xaxis": "x",
         "y": {
          "bdata": "AAAAAAAQXcAAAAAAABBdwAAAAAAAIGLAAAAAAAAgYsA=",
          "dtype": "f8"
         },
         "yaxis": "y"
        },
        {
         "hoverinfo": "text",
         "marker": {
          "color": "rgb(61,153,112)"
         },
         "mode": "lines",
         "type": "scatter",
         "x": {
          "bdata": "AAAAAAAAAABST+dq60XjP1JP52rrReM/XKiDYSCA3j8=",
          "dtype": "f8"
         },
         "xaxis": "x",
         "y": {
          "bdata": "AAAAAADAV8AAAAAAAMBXwAAAAAAAVGDAAAAAAABUYMA=",
          "dtype": "f8"
         },
         "yaxis": "y"
        },
        {
         "hoverinfo": "text",
         "marker": {
          "color": "rgb(61,153,112)"
         },
         "mode": "lines",
         "type": "scatter",
         "x": {
          "bdata": "Uk/nautF4z/rHh5npE3kP+seHmekTeQ/AAAAAAAAAAA=",
          "dtype": "f8"
         },
         "xaxis": "x",
         "y": {
          "bdata": "AAAAAAA0XMAAAAAAADRcwAAAAAAAYGPAAAAAAABgY8A=",
          "dtype": "f8"
         },
         "yaxis": "y"
        },
        {
         "hoverinfo": "text",
         "marker": {
          "color": "rgb(61,153,112)"
         },
         "mode": "lines",
         "type": "scatter",
         "x": {
          "bdata": "AAAAAAAAAACXWzAvXdPlP5dbMC9d0+U/6x4eZ6RN5D8=",
          "dtype": "f8"
         },
         "xaxis": "x",
         "y": {
          "bdata": "AAAAAABAVcAAAAAAAEBVwAAAAAAAvWDAAAAAAAC9YMA=",
          "dtype": "f8"
         },
         "yaxis": "y"
        },
        {
         "hoverinfo": "text",
         "marker": {
          "color": "rgb(61,153,112)"
         },
         "mode": "lines",
         "type": "scatter",
         "x": {
          "bdata": "AAAAAAAAAABqFs3ono3hP2oWzeiejeE/AAAAAAAAAAA=",
          "dtype": "f8"
         },
         "xaxis": "x",
         "y": {
          "bdata": "AAAAAACgZMAAAAAAAKBkwAAAAAAA4GXAAAAAAADgZcA=",
          "dtype": "f8"
         },
         "yaxis": "y"
        },
        {
         "hoverinfo": "text",
         "marker": {
          "color": "rgb(61,153,112)"
         },
         "mode": "lines",
         "type": "scatter",
         "x": {
          "bdata": "l1swL13T5T8eyGF2a87mPx7IYXZrzuY/ahbN6J6N4T8=",
          "dtype": "f8"
         },
         "xaxis": "x",
         "y": {
          "bdata": "AAAAAABdW8AAAAAAAF1bwAAAAAAAQGXAAAAAAABAZcA=",
          "dtype": "f8"
         },
         "yaxis": "y"
        },
        {
         "hoverinfo": "text",
         "marker": {
          "color": "rgb(61,153,112)"
         },
         "mode": "lines",
         "type": "scatter",
         "x": {
          "bdata": "AAAAAAAAAAAqQ0FdXhzpPypDQV1eHOk/HshhdmvO5j8=",
          "dtype": "f8"
         },
         "xaxis": "x",
         "y": {
          "bdata": "AAAAAADAUsAAAAAAAMBSwAAAAABAd2HAAAAAAEB3YcA=",
          "dtype": "f8"
         },
         "yaxis": "y"
        },
        {
         "hoverinfo": "text",
         "marker": {
          "color": "rgb(61,153,112)"
         },
         "mode": "lines",
         "type": "scatter",
         "x": {
          "bdata": "KkNBXV4c6T+VJilYWPnqP5UmKVhY+eo/AAAAAAAAAAA=",
          "dtype": "f8"
         },
         "xaxis": "x",
         "y": {
          "bdata": "AAAAAEDXWsAAAAAAQNdawAAAAAAAIGfAAAAAAAAgZ8A=",
          "dtype": "f8"
         },
         "yaxis": "y"
        },
        {
         "hoverinfo": "text",
         "marker": {
          "color": "rgb(61,153,112)"
         },
         "mode": "lines",
         "type": "scatter",
         "x": {
          "bdata": "9lp/Ui+m6D9+0p173yPvP37SnXvfI+8/lSYpWFj56j8=",
          "dtype": "f8"
         },
         "xaxis": "x",
         "y": {
          "bdata": "AAAAAACgOcAAAAAAAKA5wAAAAADQRWLAAAAAANBFYsA=",
          "dtype": "f8"
         },
         "yaxis": "y"
        }
       ],
       "layout": {
        "autosize": false,
        "height": 485,
        "hoverlabel": {
         "bgcolor": "white",
         "font": {
          "family": "Rockwell",
          "size": 16
         }
        },
        "hovermode": "closest",
        "plot_bgcolor": "#ECEFF1",
        "showlegend": false,
        "template": {
         "data": {
          "bar": [
           {
            "error_x": {
             "color": "#2a3f5f"
            },
            "error_y": {
             "color": "#2a3f5f"
            },
            "marker": {
             "line": {
              "color": "white",
              "width": 0.5
             },
             "pattern": {
              "fillmode": "overlay",
              "size": 10,
              "solidity": 0.2
             }
            },
            "type": "bar"
           }
          ],
          "barpolar": [
           {
            "marker": {
             "line": {
              "color": "white",
              "width": 0.5
             },
             "pattern": {
              "fillmode": "overlay",
              "size": 10,
              "solidity": 0.2
             }
            },
            "type": "barpolar"
           }
          ],
          "carpet": [
           {
            "aaxis": {
             "endlinecolor": "#2a3f5f",
             "gridcolor": "#C8D4E3",
             "linecolor": "#C8D4E3",
             "minorgridcolor": "#C8D4E3",
             "startlinecolor": "#2a3f5f"
            },
            "baxis": {
             "endlinecolor": "#2a3f5f",
             "gridcolor": "#C8D4E3",
             "linecolor": "#C8D4E3",
             "minorgridcolor": "#C8D4E3",
             "startlinecolor": "#2a3f5f"
            },
            "type": "carpet"
           }
          ],
          "choropleth": [
           {
            "colorbar": {
             "outlinewidth": 0,
             "ticks": ""
            },
            "type": "choropleth"
           }
          ],
          "contour": [
           {
            "colorbar": {
             "outlinewidth": 0,
             "ticks": ""
            },
            "colorscale": [
             [
              0,
              "#0d0887"
             ],
             [
              0.1111111111111111,
              "#46039f"
             ],
             [
              0.2222222222222222,
              "#7201a8"
             ],
             [
              0.3333333333333333,
              "#9c179e"
             ],
             [
              0.4444444444444444,
              "#bd3786"
             ],
             [
              0.5555555555555556,
              "#d8576b"
             ],
             [
              0.6666666666666666,
              "#ed7953"
             ],
             [
              0.7777777777777778,
              "#fb9f3a"
             ],
             [
              0.8888888888888888,
              "#fdca26"
             ],
             [
              1,
              "#f0f921"
             ]
            ],
            "type": "contour"
           }
          ],
          "contourcarpet": [
           {
            "colorbar": {
             "outlinewidth": 0,
             "ticks": ""
            },
            "type": "contourcarpet"
           }
          ],
          "heatmap": [
           {
            "colorbar": {
             "outlinewidth": 0,
             "ticks": ""
            },
            "colorscale": [
             [
              0,
              "#0d0887"
             ],
             [
              0.1111111111111111,
              "#46039f"
             ],
             [
              0.2222222222222222,
              "#7201a8"
             ],
             [
              0.3333333333333333,
              "#9c179e"
             ],
             [
              0.4444444444444444,
              "#bd3786"
             ],
             [
              0.5555555555555556,
              "#d8576b"
             ],
             [
              0.6666666666666666,
              "#ed7953"
             ],
             [
              0.7777777777777778,
              "#fb9f3a"
             ],
             [
              0.8888888888888888,
              "#fdca26"
             ],
             [
              1,
              "#f0f921"
             ]
            ],
            "type": "heatmap"
           }
          ],
          "histogram": [
           {
            "marker": {
             "pattern": {
              "fillmode": "overlay",
              "size": 10,
              "solidity": 0.2
             }
            },
            "type": "histogram"
           }
          ],
          "histogram2d": [
           {
            "colorbar": {
             "outlinewidth": 0,
             "ticks": ""
            },
            "colorscale": [
             [
              0,
              "#0d0887"
             ],
             [
              0.1111111111111111,
              "#46039f"
             ],
             [
              0.2222222222222222,
              "#7201a8"
             ],
             [
              0.3333333333333333,
              "#9c179e"
             ],
             [
              0.4444444444444444,
              "#bd3786"
             ],
             [
              0.5555555555555556,
              "#d8576b"
             ],
             [
              0.6666666666666666,
              "#ed7953"
             ],
             [
              0.7777777777777778,
              "#fb9f3a"
             ],
             [
              0.8888888888888888,
              "#fdca26"
             ],
             [
              1,
              "#f0f921"
             ]
            ],
            "type": "histogram2d"
           }
          ],
          "histogram2dcontour": [
           {
            "colorbar": {
             "outlinewidth": 0,
             "ticks": ""
            },
            "colorscale": [
             [
              0,
              "#0d0887"
             ],
             [
              0.1111111111111111,
              "#46039f"
             ],
             [
              0.2222222222222222,
              "#7201a8"
             ],
             [
              0.3333333333333333,
              "#9c179e"
             ],
             [
              0.4444444444444444,
              "#bd3786"
             ],
             [
              0.5555555555555556,
              "#d8576b"
             ],
             [
              0.6666666666666666,
              "#ed7953"
             ],
             [
              0.7777777777777778,
              "#fb9f3a"
             ],
             [
              0.8888888888888888,
              "#fdca26"
             ],
             [
              1,
              "#f0f921"
             ]
            ],
            "type": "histogram2dcontour"
           }
          ],
          "mesh3d": [
           {
            "colorbar": {
             "outlinewidth": 0,
             "ticks": ""
            },
            "type": "mesh3d"
           }
          ],
          "parcoords": [
           {
            "line": {
             "colorbar": {
              "outlinewidth": 0,
              "ticks": ""
             }
            },
            "type": "parcoords"
           }
          ],
          "pie": [
           {
            "automargin": true,
            "type": "pie"
           }
          ],
          "scatter": [
           {
            "fillpattern": {
             "fillmode": "overlay",
             "size": 10,
             "solidity": 0.2
            },
            "type": "scatter"
           }
          ],
          "scatter3d": [
           {
            "line": {
             "colorbar": {
              "outlinewidth": 0,
              "ticks": ""
             }
            },
            "marker": {
             "colorbar": {
              "outlinewidth": 0,
              "ticks": ""
             }
            },
            "type": "scatter3d"
           }
          ],
          "scattercarpet": [
           {
            "marker": {
             "colorbar": {
              "outlinewidth": 0,
              "ticks": ""
             }
            },
            "type": "scattercarpet"
           }
          ],
          "scattergeo": [
           {
            "marker": {
             "colorbar": {
              "outlinewidth": 0,
              "ticks": ""
             }
            },
            "type": "scattergeo"
           }
          ],
          "scattergl": [
           {
            "marker": {
             "colorbar": {
              "outlinewidth": 0,
              "ticks": ""
             }
            },
            "type": "scattergl"
           }
          ],
          "scattermap": [
           {
            "marker": {
             "colorbar": {
              "outlinewidth": 0,
              "ticks": ""
             }
            },
            "type": "scattermap"
           }
          ],
          "scattermapbox": [
           {
            "marker": {
             "colorbar": {
              "outlinewidth": 0,
              "ticks": ""
             }
            },
            "type": "scattermapbox"
           }
          ],
          "scatterpolar": [
           {
            "marker": {
             "colorbar": {
              "outlinewidth": 0,
              "ticks": ""
             }
            },
            "type": "scatterpolar"
           }
          ],
          "scatterpolargl": [
           {
            "marker": {
             "colorbar": {
              "outlinewidth": 0,
              "ticks": ""
             }
            },
            "type": "scatterpolargl"
           }
          ],
          "scatterternary": [
           {
            "marker": {
             "colorbar": {
              "outlinewidth": 0,
              "ticks": ""
             }
            },
            "type": "scatterternary"
           }
          ],
          "surface": [
           {
            "colorbar": {
             "outlinewidth": 0,
             "ticks": ""
            },
            "colorscale": [
             [
              0,
              "#0d0887"
             ],
             [
              0.1111111111111111,
              "#46039f"
             ],
             [
              0.2222222222222222,
              "#7201a8"
             ],
             [
              0.3333333333333333,
              "#9c179e"
             ],
             [
              0.4444444444444444,
              "#bd3786"
             ],
             [
              0.5555555555555556,
              "#d8576b"
             ],
             [
              0.6666666666666666,
              "#ed7953"
             ],
             [
              0.7777777777777778,
              "#fb9f3a"
             ],
             [
              0.8888888888888888,
              "#fdca26"
             ],
             [
              1,
              "#f0f921"
             ]
            ],
            "type": "surface"
           }
          ],
          "table": [
           {
            "cells": {
             "fill": {
              "color": "#EBF0F8"
             },
             "line": {
              "color": "white"
             }
            },
            "header": {
             "fill": {
              "color": "#C8D4E3"
             },
             "line": {
              "color": "white"
             }
            },
            "type": "table"
           }
          ]
         },
         "layout": {
          "annotationdefaults": {
           "arrowcolor": "#2a3f5f",
           "arrowhead": 0,
           "arrowwidth": 1
          },
          "autotypenumbers": "strict",
          "coloraxis": {
           "colorbar": {
            "outlinewidth": 0,
            "ticks": ""
           }
          },
          "colorscale": {
           "diverging": [
            [
             0,
             "#8e0152"
            ],
            [
             0.1,
             "#c51b7d"
            ],
            [
             0.2,
             "#de77ae"
            ],
            [
             0.3,
             "#f1b6da"
            ],
            [
             0.4,
             "#fde0ef"
            ],
            [
             0.5,
             "#f7f7f7"
            ],
            [
             0.6,
             "#e6f5d0"
            ],
            [
             0.7,
             "#b8e186"
            ],
            [
             0.8,
             "#7fbc41"
            ],
            [
             0.9,
             "#4d9221"
            ],
            [
             1,
             "#276419"
            ]
           ],
           "sequential": [
            [
             0,
             "#0d0887"
            ],
            [
             0.1111111111111111,
             "#46039f"
            ],
            [
             0.2222222222222222,
             "#7201a8"
            ],
            [
             0.3333333333333333,
             "#9c179e"
            ],
            [
             0.4444444444444444,
             "#bd3786"
            ],
            [
             0.5555555555555556,
             "#d8576b"
            ],
            [
             0.6666666666666666,
             "#ed7953"
            ],
            [
             0.7777777777777778,
             "#fb9f3a"
            ],
            [
             0.8888888888888888,
             "#fdca26"
            ],
            [
             1,
             "#f0f921"
            ]
           ],
           "sequentialminus": [
            [
             0,
             "#0d0887"
            ],
            [
             0.1111111111111111,
             "#46039f"
            ],
            [
             0.2222222222222222,
             "#7201a8"
            ],
            [
             0.3333333333333333,
             "#9c179e"
            ],
            [
             0.4444444444444444,
             "#bd3786"
            ],
            [
             0.5555555555555556,
             "#d8576b"
            ],
            [
             0.6666666666666666,
             "#ed7953"
            ],
            [
             0.7777777777777778,
             "#fb9f3a"
            ],
            [
             0.8888888888888888,
             "#fdca26"
            ],
            [
             1,
             "#f0f921"
            ]
           ]
          },
          "colorway": [
           "#636efa",
           "#EF553B",
           "#00cc96",
           "#ab63fa",
           "#FFA15A",
           "#19d3f3",
           "#FF6692",
           "#B6E880",
           "#FF97FF",
           "#FECB52"
          ],
          "font": {
           "color": "#2a3f5f"
          },
          "geo": {
           "bgcolor": "white",
           "lakecolor": "white",
           "landcolor": "white",
           "showlakes": true,
           "showland": true,
           "subunitcolor": "#C8D4E3"
          },
          "hoverlabel": {
           "align": "left"
          },
          "hovermode": "closest",
          "mapbox": {
           "style": "light"
          },
          "paper_bgcolor": "white",
          "plot_bgcolor": "white",
          "polar": {
           "angularaxis": {
            "gridcolor": "#EBF0F8",
            "linecolor": "#EBF0F8",
            "ticks": ""
           },
           "bgcolor": "white",
           "radialaxis": {
            "gridcolor": "#EBF0F8",
            "linecolor": "#EBF0F8",
            "ticks": ""
           }
          },
          "scene": {
           "xaxis": {
            "backgroundcolor": "white",
            "gridcolor": "#DFE8F3",
            "gridwidth": 2,
            "linecolor": "#EBF0F8",
            "showbackground": true,
            "ticks": "",
            "zerolinecolor": "#EBF0F8"
           },
           "yaxis": {
            "backgroundcolor": "white",
            "gridcolor": "#DFE8F3",
            "gridwidth": 2,
            "linecolor": "#EBF0F8",
            "showbackground": true,
            "ticks": "",
            "zerolinecolor": "#EBF0F8"
           },
           "zaxis": {
            "backgroundcolor": "white",
            "gridcolor": "#DFE8F3",
            "gridwidth": 2,
            "linecolor": "#EBF0F8",
            "showbackground": true,
            "ticks": "",
            "zerolinecolor": "#EBF0F8"
           }
          },
          "shapedefaults": {
           "line": {
            "color": "#2a3f5f"
           }
          },
          "ternary": {
           "aaxis": {
            "gridcolor": "#DFE8F3",
            "linecolor": "#A2B1C6",
            "ticks": ""
           },
           "baxis": {
            "gridcolor": "#DFE8F3",
            "linecolor": "#A2B1C6",
            "ticks": ""
           },
           "bgcolor": "white",
           "caxis": {
            "gridcolor": "#DFE8F3",
            "linecolor": "#A2B1C6",
            "ticks": ""
           }
          },
          "title": {
           "x": 0.05
          },
          "xaxis": {
           "automargin": true,
           "gridcolor": "#EBF0F8",
           "linecolor": "#EBF0F8",
           "ticks": "",
           "title": {
            "standoff": 15
           },
           "zerolinecolor": "#EBF0F8",
           "zerolinewidth": 2
          },
          "yaxis": {
           "automargin": true,
           "gridcolor": "#EBF0F8",
           "linecolor": "#EBF0F8",
           "ticks": "",
           "title": {
            "standoff": 15
           },
           "zerolinecolor": "#EBF0F8",
           "zerolinewidth": 2
          }
         }
        },
        "title": {
         "font": {
          "color": "Black",
          "size": 22
         },
         "text": "<b>Hierarchical Clustering</b>",
         "x": 0.5,
         "xanchor": "center",
         "yanchor": "top"
        },
        "width": 1000,
        "xaxis": {
         "mirror": "allticks",
         "rangemode": "tozero",
         "showgrid": false,
         "showline": true,
         "showticklabels": true,
         "ticks": "outside",
         "type": "linear",
         "zeroline": false
        },
        "yaxis": {
         "mirror": "allticks",
         "range": [
          -190,
          0
         ],
         "rangemode": "tozero",
         "showgrid": false,
         "showline": true,
         "showticklabels": true,
         "tickmode": "array",
         "ticks": "outside",
         "ticktext": [
          "6_времена_рухнет_тап",
          "8_outsider_тебе_снова",
          "17_почему_любовь_снова",
          "18_буду_сердце_боль",
          "2_всё_нам_мир",
          "16_всё_просто_боль",
          "14_дым_снова_ночи",
          "0_дым_курю_shmouk",
          "1_око_черепа_crew",
          "4_нам_всё_эй",
          "12_москва_русский_эй",
          "5_её_хочет_хочу",
          "15_тебе_снова_нам",
          "11_эй_рэп_yeah",
          "9_деньги_money_cash",
          "3_ремонту_жако_дойчланд",
          "10_gang_сука_эй",
          "13_сука_gang_эй",
          "7_пены_витамины_воду"
         ],
         "tickvals": [
          -5,
          -15,
          -25,
          -35,
          -45,
          -55,
          -65,
          -75,
          -85,
          -95,
          -105,
          -115,
          -125,
          -135,
          -145,
          -155,
          -165,
          -175,
          -185
         ],
         "type": "linear",
         "zeroline": false
        }
       }
      }
     },
     "metadata": {},
     "output_type": "display_data"
    }
   ],
   "source": [
    "topic_model.visualize_hierarchy() # посмотрим на иерархии, если они вдруг есть"
   ]
  },
  {
   "cell_type": "code",
   "execution_count": null,
   "metadata": {},
   "outputs": [
    {
     "data": {
      "application/vnd.plotly.v1+json": {
       "config": {
        "plotlyServerURL": "https://plot.ly"
       },
       "data": [
        {
         "customdata": [
          [
           0,
           "дым | курю | shmouk | никотин | курим",
           69
          ],
          [
           1,
           "око | черепа | crew | dead | демоны",
           98
          ],
          [
           2,
           "всё | нам | мир | тебе | лишь",
           303
          ],
          [
           3,
           "ремонту | жако | дойчланд | эй | tag",
           82
          ],
          [
           4,
           "нам | всё | эй | жизнь | героиновый",
           127
          ],
          [
           5,
           "её | хочет | хочу | сука | мной",
           558
          ],
          [
           6,
           "времена | рухнет | тап | всё | сошел",
           38
          ],
          [
           7,
           "пены | витамины | воду | drugs | папа",
           39
          ],
          [
           8,
           "outsider | тебе | снова | хочу | тобой",
           90
          ],
          [
           9,
           "деньги | money | cash | мои | денег",
           255
          ],
          [
           10,
           "gang | сука | эй | bitch | skittles",
           84
          ],
          [
           11,
           "эй | рэп | yeah | сука | всё",
           292
          ],
          [
           12,
           "москва | русский | эй | всё | нам",
           324
          ],
          [
           13,
           "сука | gang | эй | ling | yeah",
           115
          ],
          [
           14,
           "дым | снова | ночи | день | сон",
           45
          ],
          [
           15,
           "тебе | снова | нам | сука | любовь",
           1111
          ],
          [
           16,
           "всё | просто | боль | потребляй | снова",
           124
          ],
          [
           17,
           "почему | любовь | снова | всё | тебе",
           120
          ],
          [
           18,
           "буду | сердце | боль | тебе | напоследок",
           130
          ]
         ],
         "hovertemplate": "<b>Topic %{customdata[0]}</b><br>%{customdata[1]}<br>Size: %{customdata[2]}",
         "legendgroup": "",
         "marker": {
          "color": "#B0BEC5",
          "line": {
           "color": "DarkSlateGrey",
           "width": 2
          },
          "size": {
           "bdata": "RQBiAC8BUgB/AC4CJgAnAFoA/wBUACQBRAFzAC0AVwR8AHgAggA=",
           "dtype": "i2"
          },
          "sizemode": "area",
          "sizeref": 0.694375,
          "symbol": "circle"
         },
         "mode": "markers",
         "name": "",
         "orientation": "v",
         "showlegend": false,
         "type": "scatter",
         "x": {
          "bdata": "WMtSQSMY/kC0UllBxGP4QNhhV0ELq9pAa1VfQc5XUUGTn8xAlCPsQHQ8lEC0bONAdxeiQIldm0DucldBgJDQQP3RhsB+F9VAEw1+wA==",
          "dtype": "f4"
         },
         "xaxis": "x",
         "y": {
          "bdata": "HfR3QLSjuEHtmKBAAn23Qclxk0ByY65BLQiXQPVXnECWpa9BBhuzQSKiQEE5abVBb4xHQWIuREGxfIVAxzuxQeO4UMDDI6tB/iFBwA==",
          "dtype": "f4"
         },
         "yaxis": "y"
        }
       ],
       "layout": {
        "annotations": [
         {
          "showarrow": false,
          "text": "D1",
          "x": -4.8451032638549805,
          "y": 11.395723342895508,
          "yshift": 10
         },
         {
          "showarrow": false,
          "text": "D2",
          "x": 5.603501796722412,
          "xshift": 10,
          "y": 26.54192352294922
         }
        ],
        "height": 650,
        "hoverlabel": {
         "bgcolor": "white",
         "font": {
          "family": "Rockwell",
          "size": 16
         }
        },
        "legend": {
         "itemsizing": "constant",
         "tracegroupgap": 0
        },
        "margin": {
         "t": 60
        },
        "shapes": [
         {
          "line": {
           "color": "#CFD8DC",
           "width": 2
          },
          "type": "line",
          "x0": 5.603501796722412,
          "x1": 5.603501796722412,
          "y0": -3.7504773139953613,
          "y1": 26.54192352294922
         },
         {
          "line": {
           "color": "#9E9E9E",
           "width": 2
          },
          "type": "line",
          "x0": -4.8451032638549805,
          "x1": 16.052106857299805,
          "y0": 11.395723342895508,
          "y1": 11.395723342895508
         }
        ],
        "sliders": [
         {
          "active": 0,
          "pad": {
           "t": 50
          },
          "steps": [
           {
            "args": [
             {
              "marker.color": [
               [
                "red",
                "#B0BEC5",
                "#B0BEC5",
                "#B0BEC5",
                "#B0BEC5",
                "#B0BEC5",
                "#B0BEC5",
                "#B0BEC5",
                "#B0BEC5",
                "#B0BEC5",
                "#B0BEC5",
                "#B0BEC5",
                "#B0BEC5",
                "#B0BEC5",
                "#B0BEC5",
                "#B0BEC5",
                "#B0BEC5",
                "#B0BEC5",
                "#B0BEC5"
               ]
              ]
             }
            ],
            "label": "Topic 0",
            "method": "update"
           },
           {
            "args": [
             {
              "marker.color": [
               [
                "#B0BEC5",
                "red",
                "#B0BEC5",
                "#B0BEC5",
                "#B0BEC5",
                "#B0BEC5",
                "#B0BEC5",
                "#B0BEC5",
                "#B0BEC5",
                "#B0BEC5",
                "#B0BEC5",
                "#B0BEC5",
                "#B0BEC5",
                "#B0BEC5",
                "#B0BEC5",
                "#B0BEC5",
                "#B0BEC5",
                "#B0BEC5",
                "#B0BEC5"
               ]
              ]
             }
            ],
            "label": "Topic 1",
            "method": "update"
           },
           {
            "args": [
             {
              "marker.color": [
               [
                "#B0BEC5",
                "#B0BEC5",
                "red",
                "#B0BEC5",
                "#B0BEC5",
                "#B0BEC5",
                "#B0BEC5",
                "#B0BEC5",
                "#B0BEC5",
                "#B0BEC5",
                "#B0BEC5",
                "#B0BEC5",
                "#B0BEC5",
                "#B0BEC5",
                "#B0BEC5",
                "#B0BEC5",
                "#B0BEC5",
                "#B0BEC5",
                "#B0BEC5"
               ]
              ]
             }
            ],
            "label": "Topic 2",
            "method": "update"
           },
           {
            "args": [
             {
              "marker.color": [
               [
                "#B0BEC5",
                "#B0BEC5",
                "#B0BEC5",
                "red",
                "#B0BEC5",
                "#B0BEC5",
                "#B0BEC5",
                "#B0BEC5",
                "#B0BEC5",
                "#B0BEC5",
                "#B0BEC5",
                "#B0BEC5",
                "#B0BEC5",
                "#B0BEC5",
                "#B0BEC5",
                "#B0BEC5",
                "#B0BEC5",
                "#B0BEC5",
                "#B0BEC5"
               ]
              ]
             }
            ],
            "label": "Topic 3",
            "method": "update"
           },
           {
            "args": [
             {
              "marker.color": [
               [
                "#B0BEC5",
                "#B0BEC5",
                "#B0BEC5",
                "#B0BEC5",
                "red",
                "#B0BEC5",
                "#B0BEC5",
                "#B0BEC5",
                "#B0BEC5",
                "#B0BEC5",
                "#B0BEC5",
                "#B0BEC5",
                "#B0BEC5",
                "#B0BEC5",
                "#B0BEC5",
                "#B0BEC5",
                "#B0BEC5",
                "#B0BEC5",
                "#B0BEC5"
               ]
              ]
             }
            ],
            "label": "Topic 4",
            "method": "update"
           },
           {
            "args": [
             {
              "marker.color": [
               [
                "#B0BEC5",
                "#B0BEC5",
                "#B0BEC5",
                "#B0BEC5",
                "#B0BEC5",
                "red",
                "#B0BEC5",
                "#B0BEC5",
                "#B0BEC5",
                "#B0BEC5",
                "#B0BEC5",
                "#B0BEC5",
                "#B0BEC5",
                "#B0BEC5",
                "#B0BEC5",
                "#B0BEC5",
                "#B0BEC5",
                "#B0BEC5",
                "#B0BEC5"
               ]
              ]
             }
            ],
            "label": "Topic 5",
            "method": "update"
           },
           {
            "args": [
             {
              "marker.color": [
               [
                "#B0BEC5",
                "#B0BEC5",
                "#B0BEC5",
                "#B0BEC5",
                "#B0BEC5",
                "#B0BEC5",
                "red",
                "#B0BEC5",
                "#B0BEC5",
                "#B0BEC5",
                "#B0BEC5",
                "#B0BEC5",
                "#B0BEC5",
                "#B0BEC5",
                "#B0BEC5",
                "#B0BEC5",
                "#B0BEC5",
                "#B0BEC5",
                "#B0BEC5"
               ]
              ]
             }
            ],
            "label": "Topic 6",
            "method": "update"
           },
           {
            "args": [
             {
              "marker.color": [
               [
                "#B0BEC5",
                "#B0BEC5",
                "#B0BEC5",
                "#B0BEC5",
                "#B0BEC5",
                "#B0BEC5",
                "#B0BEC5",
                "red",
                "#B0BEC5",
                "#B0BEC5",
                "#B0BEC5",
                "#B0BEC5",
                "#B0BEC5",
                "#B0BEC5",
                "#B0BEC5",
                "#B0BEC5",
                "#B0BEC5",
                "#B0BEC5",
                "#B0BEC5"
               ]
              ]
             }
            ],
            "label": "Topic 7",
            "method": "update"
           },
           {
            "args": [
             {
              "marker.color": [
               [
                "#B0BEC5",
                "#B0BEC5",
                "#B0BEC5",
                "#B0BEC5",
                "#B0BEC5",
                "#B0BEC5",
                "#B0BEC5",
                "#B0BEC5",
                "red",
                "#B0BEC5",
                "#B0BEC5",
                "#B0BEC5",
                "#B0BEC5",
                "#B0BEC5",
                "#B0BEC5",
                "#B0BEC5",
                "#B0BEC5",
                "#B0BEC5",
                "#B0BEC5"
               ]
              ]
             }
            ],
            "label": "Topic 8",
            "method": "update"
           },
           {
            "args": [
             {
              "marker.color": [
               [
                "#B0BEC5",
                "#B0BEC5",
                "#B0BEC5",
                "#B0BEC5",
                "#B0BEC5",
                "#B0BEC5",
                "#B0BEC5",
                "#B0BEC5",
                "#B0BEC5",
                "red",
                "#B0BEC5",
                "#B0BEC5",
                "#B0BEC5",
                "#B0BEC5",
                "#B0BEC5",
                "#B0BEC5",
                "#B0BEC5",
                "#B0BEC5",
                "#B0BEC5"
               ]
              ]
             }
            ],
            "label": "Topic 9",
            "method": "update"
           },
           {
            "args": [
             {
              "marker.color": [
               [
                "#B0BEC5",
                "#B0BEC5",
                "#B0BEC5",
                "#B0BEC5",
                "#B0BEC5",
                "#B0BEC5",
                "#B0BEC5",
                "#B0BEC5",
                "#B0BEC5",
                "#B0BEC5",
                "red",
                "#B0BEC5",
                "#B0BEC5",
                "#B0BEC5",
                "#B0BEC5",
                "#B0BEC5",
                "#B0BEC5",
                "#B0BEC5",
                "#B0BEC5"
               ]
              ]
             }
            ],
            "label": "Topic 10",
            "method": "update"
           },
           {
            "args": [
             {
              "marker.color": [
               [
                "#B0BEC5",
                "#B0BEC5",
                "#B0BEC5",
                "#B0BEC5",
                "#B0BEC5",
                "#B0BEC5",
                "#B0BEC5",
                "#B0BEC5",
                "#B0BEC5",
                "#B0BEC5",
                "#B0BEC5",
                "red",
                "#B0BEC5",
                "#B0BEC5",
                "#B0BEC5",
                "#B0BEC5",
                "#B0BEC5",
                "#B0BEC5",
                "#B0BEC5"
               ]
              ]
             }
            ],
            "label": "Topic 11",
            "method": "update"
           },
           {
            "args": [
             {
              "marker.color": [
               [
                "#B0BEC5",
                "#B0BEC5",
                "#B0BEC5",
                "#B0BEC5",
                "#B0BEC5",
                "#B0BEC5",
                "#B0BEC5",
                "#B0BEC5",
                "#B0BEC5",
                "#B0BEC5",
                "#B0BEC5",
                "#B0BEC5",
                "red",
                "#B0BEC5",
                "#B0BEC5",
                "#B0BEC5",
                "#B0BEC5",
                "#B0BEC5",
                "#B0BEC5"
               ]
              ]
             }
            ],
            "label": "Topic 12",
            "method": "update"
           },
           {
            "args": [
             {
              "marker.color": [
               [
                "#B0BEC5",
                "#B0BEC5",
                "#B0BEC5",
                "#B0BEC5",
                "#B0BEC5",
                "#B0BEC5",
                "#B0BEC5",
                "#B0BEC5",
                "#B0BEC5",
                "#B0BEC5",
                "#B0BEC5",
                "#B0BEC5",
                "#B0BEC5",
                "red",
                "#B0BEC5",
                "#B0BEC5",
                "#B0BEC5",
                "#B0BEC5",
                "#B0BEC5"
               ]
              ]
             }
            ],
            "label": "Topic 13",
            "method": "update"
           },
           {
            "args": [
             {
              "marker.color": [
               [
                "#B0BEC5",
                "#B0BEC5",
                "#B0BEC5",
                "#B0BEC5",
                "#B0BEC5",
                "#B0BEC5",
                "#B0BEC5",
                "#B0BEC5",
                "#B0BEC5",
                "#B0BEC5",
                "#B0BEC5",
                "#B0BEC5",
                "#B0BEC5",
                "#B0BEC5",
                "red",
                "#B0BEC5",
                "#B0BEC5",
                "#B0BEC5",
                "#B0BEC5"
               ]
              ]
             }
            ],
            "label": "Topic 14",
            "method": "update"
           },
           {
            "args": [
             {
              "marker.color": [
               [
                "#B0BEC5",
                "#B0BEC5",
                "#B0BEC5",
                "#B0BEC5",
                "#B0BEC5",
                "#B0BEC5",
                "#B0BEC5",
                "#B0BEC5",
                "#B0BEC5",
                "#B0BEC5",
                "#B0BEC5",
                "#B0BEC5",
                "#B0BEC5",
                "#B0BEC5",
                "#B0BEC5",
                "red",
                "#B0BEC5",
                "#B0BEC5",
                "#B0BEC5"
               ]
              ]
             }
            ],
            "label": "Topic 15",
            "method": "update"
           },
           {
            "args": [
             {
              "marker.color": [
               [
                "#B0BEC5",
                "#B0BEC5",
                "#B0BEC5",
                "#B0BEC5",
                "#B0BEC5",
                "#B0BEC5",
                "#B0BEC5",
                "#B0BEC5",
                "#B0BEC5",
                "#B0BEC5",
                "#B0BEC5",
                "#B0BEC5",
                "#B0BEC5",
                "#B0BEC5",
                "#B0BEC5",
                "#B0BEC5",
                "red",
                "#B0BEC5",
                "#B0BEC5"
               ]
              ]
             }
            ],
            "label": "Topic 16",
            "method": "update"
           },
           {
            "args": [
             {
              "marker.color": [
               [
                "#B0BEC5",
                "#B0BEC5",
                "#B0BEC5",
                "#B0BEC5",
                "#B0BEC5",
                "#B0BEC5",
                "#B0BEC5",
                "#B0BEC5",
                "#B0BEC5",
                "#B0BEC5",
                "#B0BEC5",
                "#B0BEC5",
                "#B0BEC5",
                "#B0BEC5",
                "#B0BEC5",
                "#B0BEC5",
                "#B0BEC5",
                "red",
                "#B0BEC5"
               ]
              ]
             }
            ],
            "label": "Topic 17",
            "method": "update"
           },
           {
            "args": [
             {
              "marker.color": [
               [
                "#B0BEC5",
                "#B0BEC5",
                "#B0BEC5",
                "#B0BEC5",
                "#B0BEC5",
                "#B0BEC5",
                "#B0BEC5",
                "#B0BEC5",
                "#B0BEC5",
                "#B0BEC5",
                "#B0BEC5",
                "#B0BEC5",
                "#B0BEC5",
                "#B0BEC5",
                "#B0BEC5",
                "#B0BEC5",
                "#B0BEC5",
                "#B0BEC5",
                "red"
               ]
              ]
             }
            ],
            "label": "Topic 18",
            "method": "update"
           }
          ]
         }
        ],
        "template": {
         "data": {
          "bar": [
           {
            "error_x": {
             "color": "rgb(36,36,36)"
            },
            "error_y": {
             "color": "rgb(36,36,36)"
            },
            "marker": {
             "line": {
              "color": "white",
              "width": 0.5
             },
             "pattern": {
              "fillmode": "overlay",
              "size": 10,
              "solidity": 0.2
             }
            },
            "type": "bar"
           }
          ],
          "barpolar": [
           {
            "marker": {
             "line": {
              "color": "white",
              "width": 0.5
             },
             "pattern": {
              "fillmode": "overlay",
              "size": 10,
              "solidity": 0.2
             }
            },
            "type": "barpolar"
           }
          ],
          "carpet": [
           {
            "aaxis": {
             "endlinecolor": "rgb(36,36,36)",
             "gridcolor": "white",
             "linecolor": "white",
             "minorgridcolor": "white",
             "startlinecolor": "rgb(36,36,36)"
            },
            "baxis": {
             "endlinecolor": "rgb(36,36,36)",
             "gridcolor": "white",
             "linecolor": "white",
             "minorgridcolor": "white",
             "startlinecolor": "rgb(36,36,36)"
            },
            "type": "carpet"
           }
          ],
          "choropleth": [
           {
            "colorbar": {
             "outlinewidth": 1,
             "tickcolor": "rgb(36,36,36)",
             "ticks": "outside"
            },
            "type": "choropleth"
           }
          ],
          "contour": [
           {
            "colorbar": {
             "outlinewidth": 1,
             "tickcolor": "rgb(36,36,36)",
             "ticks": "outside"
            },
            "colorscale": [
             [
              0,
              "#440154"
             ],
             [
              0.1111111111111111,
              "#482878"
             ],
             [
              0.2222222222222222,
              "#3e4989"
             ],
             [
              0.3333333333333333,
              "#31688e"
             ],
             [
              0.4444444444444444,
              "#26828e"
             ],
             [
              0.5555555555555556,
              "#1f9e89"
             ],
             [
              0.6666666666666666,
              "#35b779"
             ],
             [
              0.7777777777777778,
              "#6ece58"
             ],
             [
              0.8888888888888888,
              "#b5de2b"
             ],
             [
              1,
              "#fde725"
             ]
            ],
            "type": "contour"
           }
          ],
          "contourcarpet": [
           {
            "colorbar": {
             "outlinewidth": 1,
             "tickcolor": "rgb(36,36,36)",
             "ticks": "outside"
            },
            "type": "contourcarpet"
           }
          ],
          "heatmap": [
           {
            "colorbar": {
             "outlinewidth": 1,
             "tickcolor": "rgb(36,36,36)",
             "ticks": "outside"
            },
            "colorscale": [
             [
              0,
              "#440154"
             ],
             [
              0.1111111111111111,
              "#482878"
             ],
             [
              0.2222222222222222,
              "#3e4989"
             ],
             [
              0.3333333333333333,
              "#31688e"
             ],
             [
              0.4444444444444444,
              "#26828e"
             ],
             [
              0.5555555555555556,
              "#1f9e89"
             ],
             [
              0.6666666666666666,
              "#35b779"
             ],
             [
              0.7777777777777778,
              "#6ece58"
             ],
             [
              0.8888888888888888,
              "#b5de2b"
             ],
             [
              1,
              "#fde725"
             ]
            ],
            "type": "heatmap"
           }
          ],
          "histogram": [
           {
            "marker": {
             "line": {
              "color": "white",
              "width": 0.6
             }
            },
            "type": "histogram"
           }
          ],
          "histogram2d": [
           {
            "colorbar": {
             "outlinewidth": 1,
             "tickcolor": "rgb(36,36,36)",
             "ticks": "outside"
            },
            "colorscale": [
             [
              0,
              "#440154"
             ],
             [
              0.1111111111111111,
              "#482878"
             ],
             [
              0.2222222222222222,
              "#3e4989"
             ],
             [
              0.3333333333333333,
              "#31688e"
             ],
             [
              0.4444444444444444,
              "#26828e"
             ],
             [
              0.5555555555555556,
              "#1f9e89"
             ],
             [
              0.6666666666666666,
              "#35b779"
             ],
             [
              0.7777777777777778,
              "#6ece58"
             ],
             [
              0.8888888888888888,
              "#b5de2b"
             ],
             [
              1,
              "#fde725"
             ]
            ],
            "type": "histogram2d"
           }
          ],
          "histogram2dcontour": [
           {
            "colorbar": {
             "outlinewidth": 1,
             "tickcolor": "rgb(36,36,36)",
             "ticks": "outside"
            },
            "colorscale": [
             [
              0,
              "#440154"
             ],
             [
              0.1111111111111111,
              "#482878"
             ],
             [
              0.2222222222222222,
              "#3e4989"
             ],
             [
              0.3333333333333333,
              "#31688e"
             ],
             [
              0.4444444444444444,
              "#26828e"
             ],
             [
              0.5555555555555556,
              "#1f9e89"
             ],
             [
              0.6666666666666666,
              "#35b779"
             ],
             [
              0.7777777777777778,
              "#6ece58"
             ],
             [
              0.8888888888888888,
              "#b5de2b"
             ],
             [
              1,
              "#fde725"
             ]
            ],
            "type": "histogram2dcontour"
           }
          ],
          "mesh3d": [
           {
            "colorbar": {
             "outlinewidth": 1,
             "tickcolor": "rgb(36,36,36)",
             "ticks": "outside"
            },
            "type": "mesh3d"
           }
          ],
          "parcoords": [
           {
            "line": {
             "colorbar": {
              "outlinewidth": 1,
              "tickcolor": "rgb(36,36,36)",
              "ticks": "outside"
             }
            },
            "type": "parcoords"
           }
          ],
          "pie": [
           {
            "automargin": true,
            "type": "pie"
           }
          ],
          "scatter": [
           {
            "fillpattern": {
             "fillmode": "overlay",
             "size": 10,
             "solidity": 0.2
            },
            "type": "scatter"
           }
          ],
          "scatter3d": [
           {
            "line": {
             "colorbar": {
              "outlinewidth": 1,
              "tickcolor": "rgb(36,36,36)",
              "ticks": "outside"
             }
            },
            "marker": {
             "colorbar": {
              "outlinewidth": 1,
              "tickcolor": "rgb(36,36,36)",
              "ticks": "outside"
             }
            },
            "type": "scatter3d"
           }
          ],
          "scattercarpet": [
           {
            "marker": {
             "colorbar": {
              "outlinewidth": 1,
              "tickcolor": "rgb(36,36,36)",
              "ticks": "outside"
             }
            },
            "type": "scattercarpet"
           }
          ],
          "scattergeo": [
           {
            "marker": {
             "colorbar": {
              "outlinewidth": 1,
              "tickcolor": "rgb(36,36,36)",
              "ticks": "outside"
             }
            },
            "type": "scattergeo"
           }
          ],
          "scattergl": [
           {
            "marker": {
             "colorbar": {
              "outlinewidth": 1,
              "tickcolor": "rgb(36,36,36)",
              "ticks": "outside"
             }
            },
            "type": "scattergl"
           }
          ],
          "scattermap": [
           {
            "marker": {
             "colorbar": {
              "outlinewidth": 1,
              "tickcolor": "rgb(36,36,36)",
              "ticks": "outside"
             }
            },
            "type": "scattermap"
           }
          ],
          "scattermapbox": [
           {
            "marker": {
             "colorbar": {
              "outlinewidth": 1,
              "tickcolor": "rgb(36,36,36)",
              "ticks": "outside"
             }
            },
            "type": "scattermapbox"
           }
          ],
          "scatterpolar": [
           {
            "marker": {
             "colorbar": {
              "outlinewidth": 1,
              "tickcolor": "rgb(36,36,36)",
              "ticks": "outside"
             }
            },
            "type": "scatterpolar"
           }
          ],
          "scatterpolargl": [
           {
            "marker": {
             "colorbar": {
              "outlinewidth": 1,
              "tickcolor": "rgb(36,36,36)",
              "ticks": "outside"
             }
            },
            "type": "scatterpolargl"
           }
          ],
          "scatterternary": [
           {
            "marker": {
             "colorbar": {
              "outlinewidth": 1,
              "tickcolor": "rgb(36,36,36)",
              "ticks": "outside"
             }
            },
            "type": "scatterternary"
           }
          ],
          "surface": [
           {
            "colorbar": {
             "outlinewidth": 1,
             "tickcolor": "rgb(36,36,36)",
             "ticks": "outside"
            },
            "colorscale": [
             [
              0,
              "#440154"
             ],
             [
              0.1111111111111111,
              "#482878"
             ],
             [
              0.2222222222222222,
              "#3e4989"
             ],
             [
              0.3333333333333333,
              "#31688e"
             ],
             [
              0.4444444444444444,
              "#26828e"
             ],
             [
              0.5555555555555556,
              "#1f9e89"
             ],
             [
              0.6666666666666666,
              "#35b779"
             ],
             [
              0.7777777777777778,
              "#6ece58"
             ],
             [
              0.8888888888888888,
              "#b5de2b"
             ],
             [
              1,
              "#fde725"
             ]
            ],
            "type": "surface"
           }
          ],
          "table": [
           {
            "cells": {
             "fill": {
              "color": "rgb(237,237,237)"
             },
             "line": {
              "color": "white"
             }
            },
            "header": {
             "fill": {
              "color": "rgb(217,217,217)"
             },
             "line": {
              "color": "white"
             }
            },
            "type": "table"
           }
          ]
         },
         "layout": {
          "annotationdefaults": {
           "arrowhead": 0,
           "arrowwidth": 1
          },
          "autotypenumbers": "strict",
          "coloraxis": {
           "colorbar": {
            "outlinewidth": 1,
            "tickcolor": "rgb(36,36,36)",
            "ticks": "outside"
           }
          },
          "colorscale": {
           "diverging": [
            [
             0,
             "rgb(103,0,31)"
            ],
            [
             0.1,
             "rgb(178,24,43)"
            ],
            [
             0.2,
             "rgb(214,96,77)"
            ],
            [
             0.3,
             "rgb(244,165,130)"
            ],
            [
             0.4,
             "rgb(253,219,199)"
            ],
            [
             0.5,
             "rgb(247,247,247)"
            ],
            [
             0.6,
             "rgb(209,229,240)"
            ],
            [
             0.7,
             "rgb(146,197,222)"
            ],
            [
             0.8,
             "rgb(67,147,195)"
            ],
            [
             0.9,
             "rgb(33,102,172)"
            ],
            [
             1,
             "rgb(5,48,97)"
            ]
           ],
           "sequential": [
            [
             0,
             "#440154"
            ],
            [
             0.1111111111111111,
             "#482878"
            ],
            [
             0.2222222222222222,
             "#3e4989"
            ],
            [
             0.3333333333333333,
             "#31688e"
            ],
            [
             0.4444444444444444,
             "#26828e"
            ],
            [
             0.5555555555555556,
             "#1f9e89"
            ],
            [
             0.6666666666666666,
             "#35b779"
            ],
            [
             0.7777777777777778,
             "#6ece58"
            ],
            [
             0.8888888888888888,
             "#b5de2b"
            ],
            [
             1,
             "#fde725"
            ]
           ],
           "sequentialminus": [
            [
             0,
             "#440154"
            ],
            [
             0.1111111111111111,
             "#482878"
            ],
            [
             0.2222222222222222,
             "#3e4989"
            ],
            [
             0.3333333333333333,
             "#31688e"
            ],
            [
             0.4444444444444444,
             "#26828e"
            ],
            [
             0.5555555555555556,
             "#1f9e89"
            ],
            [
             0.6666666666666666,
             "#35b779"
            ],
            [
             0.7777777777777778,
             "#6ece58"
            ],
            [
             0.8888888888888888,
             "#b5de2b"
            ],
            [
             1,
             "#fde725"
            ]
           ]
          },
          "colorway": [
           "#1F77B4",
           "#FF7F0E",
           "#2CA02C",
           "#D62728",
           "#9467BD",
           "#8C564B",
           "#E377C2",
           "#7F7F7F",
           "#BCBD22",
           "#17BECF"
          ],
          "font": {
           "color": "rgb(36,36,36)"
          },
          "geo": {
           "bgcolor": "white",
           "lakecolor": "white",
           "landcolor": "white",
           "showlakes": true,
           "showland": true,
           "subunitcolor": "white"
          },
          "hoverlabel": {
           "align": "left"
          },
          "hovermode": "closest",
          "mapbox": {
           "style": "light"
          },
          "paper_bgcolor": "white",
          "plot_bgcolor": "white",
          "polar": {
           "angularaxis": {
            "gridcolor": "rgb(232,232,232)",
            "linecolor": "rgb(36,36,36)",
            "showgrid": false,
            "showline": true,
            "ticks": "outside"
           },
           "bgcolor": "white",
           "radialaxis": {
            "gridcolor": "rgb(232,232,232)",
            "linecolor": "rgb(36,36,36)",
            "showgrid": false,
            "showline": true,
            "ticks": "outside"
           }
          },
          "scene": {
           "xaxis": {
            "backgroundcolor": "white",
            "gridcolor": "rgb(232,232,232)",
            "gridwidth": 2,
            "linecolor": "rgb(36,36,36)",
            "showbackground": true,
            "showgrid": false,
            "showline": true,
            "ticks": "outside",
            "zeroline": false,
            "zerolinecolor": "rgb(36,36,36)"
           },
           "yaxis": {
            "backgroundcolor": "white",
            "gridcolor": "rgb(232,232,232)",
            "gridwidth": 2,
            "linecolor": "rgb(36,36,36)",
            "showbackground": true,
            "showgrid": false,
            "showline": true,
            "ticks": "outside",
            "zeroline": false,
            "zerolinecolor": "rgb(36,36,36)"
           },
           "zaxis": {
            "backgroundcolor": "white",
            "gridcolor": "rgb(232,232,232)",
            "gridwidth": 2,
            "linecolor": "rgb(36,36,36)",
            "showbackground": true,
            "showgrid": false,
            "showline": true,
            "ticks": "outside",
            "zeroline": false,
            "zerolinecolor": "rgb(36,36,36)"
           }
          },
          "shapedefaults": {
           "fillcolor": "black",
           "line": {
            "width": 0
           },
           "opacity": 0.3
          },
          "ternary": {
           "aaxis": {
            "gridcolor": "rgb(232,232,232)",
            "linecolor": "rgb(36,36,36)",
            "showgrid": false,
            "showline": true,
            "ticks": "outside"
           },
           "baxis": {
            "gridcolor": "rgb(232,232,232)",
            "linecolor": "rgb(36,36,36)",
            "showgrid": false,
            "showline": true,
            "ticks": "outside"
           },
           "bgcolor": "white",
           "caxis": {
            "gridcolor": "rgb(232,232,232)",
            "linecolor": "rgb(36,36,36)",
            "showgrid": false,
            "showline": true,
            "ticks": "outside"
           }
          },
          "title": {
           "x": 0.05
          },
          "xaxis": {
           "automargin": true,
           "gridcolor": "rgb(232,232,232)",
           "linecolor": "rgb(36,36,36)",
           "showgrid": false,
           "showline": true,
           "ticks": "outside",
           "title": {
            "standoff": 15
           },
           "zeroline": false,
           "zerolinecolor": "rgb(36,36,36)"
          },
          "yaxis": {
           "automargin": true,
           "gridcolor": "rgb(232,232,232)",
           "linecolor": "rgb(36,36,36)",
           "showgrid": false,
           "showline": true,
           "ticks": "outside",
           "title": {
            "standoff": 15
           },
           "zeroline": false,
           "zerolinecolor": "rgb(36,36,36)"
          }
         }
        },
        "title": {
         "font": {
          "color": "Black",
          "size": 22
         },
         "text": "<b>Intertopic Distance Map</b>",
         "x": 0.5,
         "xanchor": "center",
         "y": 0.95,
         "yanchor": "top"
        },
        "width": 650,
        "xaxis": {
         "anchor": "y",
         "domain": [
          0,
          1
         ],
         "range": [
          -4.8451032638549805,
          16.052106857299805
         ],
         "title": {
          "text": ""
         },
         "visible": false
        },
        "yaxis": {
         "anchor": "x",
         "domain": [
          0,
          1
         ],
         "range": [
          -3.7504773139953613,
          26.54192352294922
         ],
         "title": {
          "text": ""
         },
         "visible": false
        }
       }
      }
     },
     "metadata": {},
     "output_type": "display_data"
    }
   ],
   "source": [
    "topic_model.visualize_topics() # визуализация топиков"
   ]
  },
  {
   "cell_type": "code",
   "execution_count": 14,
   "metadata": {},
   "outputs": [
    {
     "name": "stderr",
     "output_type": "stream",
     "text": [
      "Batches: 100%|██████████| 501/501 [00:15<00:00, 31.54it/s]\n",
      "2025-05-22 14:20:31,852 - BERTopic - Dimensionality - Reducing dimensionality of input embeddings.\n",
      "2025-05-22 14:20:31,896 - BERTopic - Dimensionality - Completed ✓\n",
      "2025-05-22 14:20:31,897 - BERTopic - Clustering - Approximating new points with `hdbscan_model`\n",
      "2025-05-22 14:20:32,621 - BERTopic - Cluster - Completed ✓\n"
     ]
    }
   ],
   "source": [
    "topics, probs = topic_model.transform(df['Текст трека'])"
   ]
  },
  {
   "cell_type": "markdown",
   "metadata": {},
   "source": [
    "Разметим темами и ключевыми словами сами треки в датафрейме"
   ]
  },
  {
   "cell_type": "code",
   "execution_count": 15,
   "metadata": {},
   "outputs": [
    {
     "data": {
      "text/html": [
       "<div>\n",
       "<style scoped>\n",
       "    .dataframe tbody tr th:only-of-type {\n",
       "        vertical-align: middle;\n",
       "    }\n",
       "\n",
       "    .dataframe tbody tr th {\n",
       "        vertical-align: top;\n",
       "    }\n",
       "\n",
       "    .dataframe thead th {\n",
       "        text-align: right;\n",
       "    }\n",
       "</style>\n",
       "<table border=\"1\" class=\"dataframe\">\n",
       "  <thead>\n",
       "    <tr style=\"text-align: right;\">\n",
       "      <th></th>\n",
       "      <th>Исполнитель</th>\n",
       "      <th>Трек</th>\n",
       "      <th>Собран</th>\n",
       "      <th>Жанр</th>\n",
       "      <th>Доп. информация</th>\n",
       "      <th>Фит</th>\n",
       "      <th>Совместный релиз</th>\n",
       "      <th>Альбом</th>\n",
       "      <th>Год выхода</th>\n",
       "      <th>Текст трека</th>\n",
       "      <th>Языки в тексте</th>\n",
       "      <th>Части текста</th>\n",
       "      <th>Обработанные части</th>\n",
       "      <th>Очищенные леммы</th>\n",
       "      <th>predicted_label</th>\n",
       "      <th>confidence</th>\n",
       "      <th>prob_class_1</th>\n",
       "      <th>topic</th>\n",
       "      <th>topic_keywords</th>\n",
       "      <th>topic_probability</th>\n",
       "    </tr>\n",
       "    <tr>\n",
       "      <th>original_index</th>\n",
       "      <th></th>\n",
       "      <th></th>\n",
       "      <th></th>\n",
       "      <th></th>\n",
       "      <th></th>\n",
       "      <th></th>\n",
       "      <th></th>\n",
       "      <th></th>\n",
       "      <th></th>\n",
       "      <th></th>\n",
       "      <th></th>\n",
       "      <th></th>\n",
       "      <th></th>\n",
       "      <th></th>\n",
       "      <th></th>\n",
       "      <th></th>\n",
       "      <th></th>\n",
       "      <th></th>\n",
       "      <th></th>\n",
       "      <th></th>\n",
       "    </tr>\n",
       "  </thead>\n",
       "  <tbody>\n",
       "    <tr>\n",
       "      <th>https://music.yandex.ru/album/21509172/track/101776208</th>\n",
       "      <td>SaNni</td>\n",
       "      <td>Где бывают боги</td>\n",
       "      <td>1.0</td>\n",
       "      <td>русский рэп</td>\n",
       "      <td>Нет</td>\n",
       "      <td>Нет</td>\n",
       "      <td>Несовместный релиз</td>\n",
       "      <td>Сингл</td>\n",
       "      <td>2019.0</td>\n",
       "      <td>Это зачем?\\nЧтоб боялись\\nКого боятся, тот и г...</td>\n",
       "      <td>[ru, es, sr]</td>\n",
       "      <td>[Это зачем?\\nЧтоб боялись\\nКого боятся, тот и ...</td>\n",
       "      <td>[[это, зачем, ?, чтобы, бояться, кто, бояться,...</td>\n",
       "      <td>[[это, бояться, бояться, главний, слушать, схо...</td>\n",
       "      <td>1</td>\n",
       "      <td>0.983454</td>\n",
       "      <td>0.983454</td>\n",
       "      <td>-1</td>\n",
       "      <td>None</td>\n",
       "      <td>0.0</td>\n",
       "    </tr>\n",
       "    <tr>\n",
       "      <th>https://music.yandex.ru/album/20685194/track/99172841</th>\n",
       "      <td>SaNni</td>\n",
       "      <td>Моя</td>\n",
       "      <td>1.0</td>\n",
       "      <td>русский рэп</td>\n",
       "      <td>Нет</td>\n",
       "      <td>Нет</td>\n",
       "      <td>Alett</td>\n",
       "      <td>Сингл</td>\n",
       "      <td>2022.0</td>\n",
       "      <td>Снова заберу тебя с собой, будто под водой\\nНе...</td>\n",
       "      <td>[ru]</td>\n",
       "      <td>[Снова заберу тебя с собой, будто под водой\\nН...</td>\n",
       "      <td>[[снова, забрать, ты, с, себя, ,, будто, под, ...</td>\n",
       "      <td>[[снова, забрать, вода, хватать, кислород, зна...</td>\n",
       "      <td>1</td>\n",
       "      <td>0.958730</td>\n",
       "      <td>0.958730</td>\n",
       "      <td>-1</td>\n",
       "      <td>None</td>\n",
       "      <td>0.0</td>\n",
       "    </tr>\n",
       "    <tr>\n",
       "      <th>https://music.yandex.ru/album/25088929/track/111941871</th>\n",
       "      <td>Klarko</td>\n",
       "      <td>Этому сну не стать вещим</td>\n",
       "      <td>1.0</td>\n",
       "      <td>русский рэп</td>\n",
       "      <td>Нет</td>\n",
       "      <td>Нет</td>\n",
       "      <td>Несовместный релиз</td>\n",
       "      <td>Сингл</td>\n",
       "      <td>2023.0</td>\n",
       "      <td>Пятьсот килоджоулей я сжег романтично\\nДымит d...</td>\n",
       "      <td>[ru]</td>\n",
       "      <td>[Пятьсот килоджоулей я сжег романтично\\nДымит ...</td>\n",
       "      <td>[[пятьсот, килоджоуль, я, сжечь, романтичный, ...</td>\n",
       "      <td>[[пятьсот, килоджоуль, сжечь, романтичный, Дым...</td>\n",
       "      <td>1</td>\n",
       "      <td>0.983501</td>\n",
       "      <td>0.983501</td>\n",
       "      <td>-1</td>\n",
       "      <td>None</td>\n",
       "      <td>0.0</td>\n",
       "    </tr>\n",
       "    <tr>\n",
       "      <th>https://music.yandex.ru/album/9269095/track/60155140</th>\n",
       "      <td>АЛМО</td>\n",
       "      <td>Сонный паралич</td>\n",
       "      <td>1.0</td>\n",
       "      <td>русский рэп</td>\n",
       "      <td>Нет</td>\n",
       "      <td>Нет</td>\n",
       "      <td>Несовместный релиз</td>\n",
       "      <td>Сингл</td>\n",
       "      <td>2019.0</td>\n",
       "      <td>Руки в волосах твоих пропахли керосином\\nЯ пок...</td>\n",
       "      <td>[ru]</td>\n",
       "      <td>[Руки в волосах твоих пропахли керосином\\nЯ по...</td>\n",
       "      <td>[[рука, в, волос, твой, пропахнуть, керосин, я...</td>\n",
       "      <td>[[рука, волос, твой, пропахнуть, керосин, поки...</td>\n",
       "      <td>1</td>\n",
       "      <td>0.766326</td>\n",
       "      <td>0.766326</td>\n",
       "      <td>2</td>\n",
       "      <td>всё, нам, мир, тебе, лишь, жизнь, свет, небо, ...</td>\n",
       "      <td>1.0</td>\n",
       "    </tr>\n",
       "    <tr>\n",
       "      <th>https://music.yandex.ru/album/4229094/track/34362334</th>\n",
       "      <td>ИЧИ</td>\n",
       "      <td>Обратно</td>\n",
       "      <td>1.0</td>\n",
       "      <td>русский рэп</td>\n",
       "      <td>Нет</td>\n",
       "      <td>ATL,  ИЧИ</td>\n",
       "      <td>Несовместный релиз</td>\n",
       "      <td>Лимб</td>\n",
       "      <td>2017.0</td>\n",
       "      <td>Мама, роди меня обратно\\n\\nЯ пожалел об этом т...</td>\n",
       "      <td>[ru]</td>\n",
       "      <td>[Мама, роди меня обратно, Я пожалел об этом ты...</td>\n",
       "      <td>[[мама, ,, родить, я, обратно], [я, жалеть, о,...</td>\n",
       "      <td>[[мама, родить, обратно], [жалеть, это, тысяче...</td>\n",
       "      <td>1</td>\n",
       "      <td>0.988983</td>\n",
       "      <td>0.988983</td>\n",
       "      <td>-1</td>\n",
       "      <td>None</td>\n",
       "      <td>0.0</td>\n",
       "    </tr>\n",
       "    <tr>\n",
       "      <th>...</th>\n",
       "      <td>...</td>\n",
       "      <td>...</td>\n",
       "      <td>...</td>\n",
       "      <td>...</td>\n",
       "      <td>...</td>\n",
       "      <td>...</td>\n",
       "      <td>...</td>\n",
       "      <td>...</td>\n",
       "      <td>...</td>\n",
       "      <td>...</td>\n",
       "      <td>...</td>\n",
       "      <td>...</td>\n",
       "      <td>...</td>\n",
       "      <td>...</td>\n",
       "      <td>...</td>\n",
       "      <td>...</td>\n",
       "      <td>...</td>\n",
       "      <td>...</td>\n",
       "      <td>...</td>\n",
       "      <td>...</td>\n",
       "    </tr>\n",
       "    <tr>\n",
       "      <th>https://music.yandex.ru/album/5988732/track/44620415</th>\n",
       "      <td>Слава КПСС</td>\n",
       "      <td>Скорпион</td>\n",
       "      <td>1.0</td>\n",
       "      <td>русский рэп</td>\n",
       "      <td>Нет</td>\n",
       "      <td>Нет</td>\n",
       "      <td>ЗАМАЙ</td>\n",
       "      <td>ОВЕРХАЙП 3</td>\n",
       "      <td>2018.0</td>\n",
       "      <td>Яд!\\nНаши темы — токсик, как яд\\nМы в системе ...</td>\n",
       "      <td>[mk, ru, es, uk]</td>\n",
       "      <td>[Яд!\\nНаши темы — токсик, как яд\\nМы в системе...</td>\n",
       "      <td>[[яд, !, наш, тема, —, токсик, ,, как, яд, мы,...</td>\n",
       "      <td>[[яд, наш, тема, токсик, яд, система, против, ...</td>\n",
       "      <td>1</td>\n",
       "      <td>0.989701</td>\n",
       "      <td>0.989701</td>\n",
       "      <td>3</td>\n",
       "      <td>ремонту, жако, дойчланд, эй, tag, па, всё, теб...</td>\n",
       "      <td>1.0</td>\n",
       "    </tr>\n",
       "    <tr>\n",
       "      <th>https://music.yandex.ru/album/7826259/track/54322612</th>\n",
       "      <td>LKN</td>\n",
       "      <td>яснопонятноок</td>\n",
       "      <td>1.0</td>\n",
       "      <td>русский рэп</td>\n",
       "      <td>Нет</td>\n",
       "      <td>Нет</td>\n",
       "      <td>Несовместный релиз</td>\n",
       "      <td>Сингл</td>\n",
       "      <td>2019.0</td>\n",
       "      <td>Ясно понятно, ок\\nТупая сука ведет диалог, ок\\...</td>\n",
       "      <td>[ru]</td>\n",
       "      <td>[Ясно понятно, ок\\nТупая сука ведет диалог, ок...</td>\n",
       "      <td>[[ясно, понятный, ,, ок, тупой, сука, вести, д...</td>\n",
       "      <td>[[ясно, понятный, ок, тупой, сука, вести, диал...</td>\n",
       "      <td>1</td>\n",
       "      <td>0.983381</td>\n",
       "      <td>0.983381</td>\n",
       "      <td>15</td>\n",
       "      <td>тебе, снова, нам, сука, любовь, нахуй, мои, пр...</td>\n",
       "      <td>1.0</td>\n",
       "    </tr>\n",
       "    <tr>\n",
       "      <th>https://music.yandex.ru/album/11864118/track/70310541</th>\n",
       "      <td>XANSY</td>\n",
       "      <td>Тактический дробовик</td>\n",
       "      <td>1.0</td>\n",
       "      <td>рэп и хип-хоп</td>\n",
       "      <td>Нет</td>\n",
       "      <td>Нет</td>\n",
       "      <td>Несовместный релиз</td>\n",
       "      <td>Повесть временных треп</td>\n",
       "      <td>2020.0</td>\n",
       "      <td>вроде\\n\\nон пытается быть лучше\\nтут старания ...</td>\n",
       "      <td>[ru]</td>\n",
       "      <td>[вроде, он пытается быть лучше\\nтут старания н...</td>\n",
       "      <td>[[], [он, пытаться, быть, хороший, тут, старан...</td>\n",
       "      <td>[[], [пытаться, хороший, старание, напрасный, ...</td>\n",
       "      <td>1</td>\n",
       "      <td>0.512997</td>\n",
       "      <td>0.512997</td>\n",
       "      <td>15</td>\n",
       "      <td>тебе, снова, нам, сука, любовь, нахуй, мои, пр...</td>\n",
       "      <td>1.0</td>\n",
       "    </tr>\n",
       "    <tr>\n",
       "      <th>https://music.yandex.ru/album/32260658/track/128530219</th>\n",
       "      <td>COLDAH</td>\n",
       "      <td>МИЗАНТРОП</td>\n",
       "      <td>1.0</td>\n",
       "      <td>русский рэп</td>\n",
       "      <td>Нет</td>\n",
       "      <td>COLDAH,  Supa sKKinny,  Yaprada,  АНДЕРDOGS</td>\n",
       "      <td>Несовместный релиз</td>\n",
       "      <td>ЭМОБЫДЛО</td>\n",
       "      <td>2021.0</td>\n",
       "      <td>хо-хочуспать, ща как ёбнет бас\\n\\nКидай нюдсы,...</td>\n",
       "      <td>[ru]</td>\n",
       "      <td>[хо-хочуспать, ща как ёбнет бас, Кидай нюдсы, ...</td>\n",
       "      <td>[[хо-хочуспать, ,, ща, как, быть, бас], [кидат...</td>\n",
       "      <td>[[хо-хочуспать, ща, бас], [кидать, нюдса, кида...</td>\n",
       "      <td>1</td>\n",
       "      <td>0.952265</td>\n",
       "      <td>0.952265</td>\n",
       "      <td>-1</td>\n",
       "      <td>None</td>\n",
       "      <td>0.0</td>\n",
       "    </tr>\n",
       "    <tr>\n",
       "      <th>https://music.yandex.ru/album/32260658/track/89818146</th>\n",
       "      <td>COLDAH</td>\n",
       "      <td>SHALAWA</td>\n",
       "      <td>1.0</td>\n",
       "      <td>русский рэп</td>\n",
       "      <td>Нет</td>\n",
       "      <td>COLDAH,  Supa sKKinny,  Хоуп</td>\n",
       "      <td>Несовместный релиз</td>\n",
       "      <td>ЭМОБЫДЛО</td>\n",
       "      <td>2021.0</td>\n",
       "      <td>шалава\\nэто Markiz, bitch\\n\\nя хочу ебать тех ...</td>\n",
       "      <td>[ru, bg]</td>\n",
       "      <td>[шалава\\nэто Markiz, bitch, я хочу ебать тех с...</td>\n",
       "      <td>[[], [я, хотеть, ебать, тот, сук, ,, пока, я, ...</td>\n",
       "      <td>[[], [хотеть, ебать, сук, пока, среди, молодой...</td>\n",
       "      <td>1</td>\n",
       "      <td>0.989255</td>\n",
       "      <td>0.989255</td>\n",
       "      <td>-1</td>\n",
       "      <td>None</td>\n",
       "      <td>0.0</td>\n",
       "    </tr>\n",
       "  </tbody>\n",
       "</table>\n",
       "<p>16015 rows × 20 columns</p>\n",
       "</div>"
      ],
      "text/plain": [
       "                                                   Исполнитель  \\\n",
       "original_index                                                   \n",
       "https://music.yandex.ru/album/21509172/track/10...       SaNni   \n",
       "https://music.yandex.ru/album/20685194/track/99...       SaNni   \n",
       "https://music.yandex.ru/album/25088929/track/11...      Klarko   \n",
       "https://music.yandex.ru/album/9269095/track/601...        АЛМО   \n",
       "https://music.yandex.ru/album/4229094/track/343...         ИЧИ   \n",
       "...                                                        ...   \n",
       "https://music.yandex.ru/album/5988732/track/446...  Слава КПСС   \n",
       "https://music.yandex.ru/album/7826259/track/543...         LKN   \n",
       "https://music.yandex.ru/album/11864118/track/70...       XANSY   \n",
       "https://music.yandex.ru/album/32260658/track/12...      COLDAH   \n",
       "https://music.yandex.ru/album/32260658/track/89...      COLDAH   \n",
       "\n",
       "                                                                        Трек  \\\n",
       "original_index                                                                 \n",
       "https://music.yandex.ru/album/21509172/track/10...           Где бывают боги   \n",
       "https://music.yandex.ru/album/20685194/track/99...                       Моя   \n",
       "https://music.yandex.ru/album/25088929/track/11...  Этому сну не стать вещим   \n",
       "https://music.yandex.ru/album/9269095/track/601...            Сонный паралич   \n",
       "https://music.yandex.ru/album/4229094/track/343...                   Обратно   \n",
       "...                                                                      ...   \n",
       "https://music.yandex.ru/album/5988732/track/446...                  Скорпион   \n",
       "https://music.yandex.ru/album/7826259/track/543...             яснопонятноок   \n",
       "https://music.yandex.ru/album/11864118/track/70...      Тактический дробовик   \n",
       "https://music.yandex.ru/album/32260658/track/12...                 МИЗАНТРОП   \n",
       "https://music.yandex.ru/album/32260658/track/89...                   SHALAWA   \n",
       "\n",
       "                                                    Собран           Жанр  \\\n",
       "original_index                                                              \n",
       "https://music.yandex.ru/album/21509172/track/10...     1.0    русский рэп   \n",
       "https://music.yandex.ru/album/20685194/track/99...     1.0    русский рэп   \n",
       "https://music.yandex.ru/album/25088929/track/11...     1.0    русский рэп   \n",
       "https://music.yandex.ru/album/9269095/track/601...     1.0    русский рэп   \n",
       "https://music.yandex.ru/album/4229094/track/343...     1.0    русский рэп   \n",
       "...                                                    ...            ...   \n",
       "https://music.yandex.ru/album/5988732/track/446...     1.0    русский рэп   \n",
       "https://music.yandex.ru/album/7826259/track/543...     1.0    русский рэп   \n",
       "https://music.yandex.ru/album/11864118/track/70...     1.0  рэп и хип-хоп   \n",
       "https://music.yandex.ru/album/32260658/track/12...     1.0    русский рэп   \n",
       "https://music.yandex.ru/album/32260658/track/89...     1.0    русский рэп   \n",
       "\n",
       "                                                   Доп. информация  \\\n",
       "original_index                                                       \n",
       "https://music.yandex.ru/album/21509172/track/10...             Нет   \n",
       "https://music.yandex.ru/album/20685194/track/99...             Нет   \n",
       "https://music.yandex.ru/album/25088929/track/11...             Нет   \n",
       "https://music.yandex.ru/album/9269095/track/601...             Нет   \n",
       "https://music.yandex.ru/album/4229094/track/343...             Нет   \n",
       "...                                                            ...   \n",
       "https://music.yandex.ru/album/5988732/track/446...             Нет   \n",
       "https://music.yandex.ru/album/7826259/track/543...             Нет   \n",
       "https://music.yandex.ru/album/11864118/track/70...             Нет   \n",
       "https://music.yandex.ru/album/32260658/track/12...             Нет   \n",
       "https://music.yandex.ru/album/32260658/track/89...             Нет   \n",
       "\n",
       "                                                                                            Фит  \\\n",
       "original_index                                                                                    \n",
       "https://music.yandex.ru/album/21509172/track/10...                                          Нет   \n",
       "https://music.yandex.ru/album/20685194/track/99...                                          Нет   \n",
       "https://music.yandex.ru/album/25088929/track/11...                                          Нет   \n",
       "https://music.yandex.ru/album/9269095/track/601...                                          Нет   \n",
       "https://music.yandex.ru/album/4229094/track/343...                                    ATL,  ИЧИ   \n",
       "...                                                                                         ...   \n",
       "https://music.yandex.ru/album/5988732/track/446...                                          Нет   \n",
       "https://music.yandex.ru/album/7826259/track/543...                                          Нет   \n",
       "https://music.yandex.ru/album/11864118/track/70...                                          Нет   \n",
       "https://music.yandex.ru/album/32260658/track/12...  COLDAH,  Supa sKKinny,  Yaprada,  АНДЕРDOGS   \n",
       "https://music.yandex.ru/album/32260658/track/89...                 COLDAH,  Supa sKKinny,  Хоуп   \n",
       "\n",
       "                                                      Совместный релиз  \\\n",
       "original_index                                                           \n",
       "https://music.yandex.ru/album/21509172/track/10...  Несовместный релиз   \n",
       "https://music.yandex.ru/album/20685194/track/99...               Alett   \n",
       "https://music.yandex.ru/album/25088929/track/11...  Несовместный релиз   \n",
       "https://music.yandex.ru/album/9269095/track/601...  Несовместный релиз   \n",
       "https://music.yandex.ru/album/4229094/track/343...  Несовместный релиз   \n",
       "...                                                                ...   \n",
       "https://music.yandex.ru/album/5988732/track/446...               ЗАМАЙ   \n",
       "https://music.yandex.ru/album/7826259/track/543...  Несовместный релиз   \n",
       "https://music.yandex.ru/album/11864118/track/70...  Несовместный релиз   \n",
       "https://music.yandex.ru/album/32260658/track/12...  Несовместный релиз   \n",
       "https://music.yandex.ru/album/32260658/track/89...  Несовместный релиз   \n",
       "\n",
       "                                                                    Альбом  \\\n",
       "original_index                                                               \n",
       "https://music.yandex.ru/album/21509172/track/10...                   Сингл   \n",
       "https://music.yandex.ru/album/20685194/track/99...                   Сингл   \n",
       "https://music.yandex.ru/album/25088929/track/11...                   Сингл   \n",
       "https://music.yandex.ru/album/9269095/track/601...                   Сингл   \n",
       "https://music.yandex.ru/album/4229094/track/343...                    Лимб   \n",
       "...                                                                    ...   \n",
       "https://music.yandex.ru/album/5988732/track/446...              ОВЕРХАЙП 3   \n",
       "https://music.yandex.ru/album/7826259/track/543...                   Сингл   \n",
       "https://music.yandex.ru/album/11864118/track/70...  Повесть временных треп   \n",
       "https://music.yandex.ru/album/32260658/track/12...                ЭМОБЫДЛО   \n",
       "https://music.yandex.ru/album/32260658/track/89...                ЭМОБЫДЛО   \n",
       "\n",
       "                                                    Год выхода  \\\n",
       "original_index                                                   \n",
       "https://music.yandex.ru/album/21509172/track/10...      2019.0   \n",
       "https://music.yandex.ru/album/20685194/track/99...      2022.0   \n",
       "https://music.yandex.ru/album/25088929/track/11...      2023.0   \n",
       "https://music.yandex.ru/album/9269095/track/601...      2019.0   \n",
       "https://music.yandex.ru/album/4229094/track/343...      2017.0   \n",
       "...                                                        ...   \n",
       "https://music.yandex.ru/album/5988732/track/446...      2018.0   \n",
       "https://music.yandex.ru/album/7826259/track/543...      2019.0   \n",
       "https://music.yandex.ru/album/11864118/track/70...      2020.0   \n",
       "https://music.yandex.ru/album/32260658/track/12...      2021.0   \n",
       "https://music.yandex.ru/album/32260658/track/89...      2021.0   \n",
       "\n",
       "                                                                                          Текст трека  \\\n",
       "original_index                                                                                          \n",
       "https://music.yandex.ru/album/21509172/track/10...  Это зачем?\\nЧтоб боялись\\nКого боятся, тот и г...   \n",
       "https://music.yandex.ru/album/20685194/track/99...  Снова заберу тебя с собой, будто под водой\\nНе...   \n",
       "https://music.yandex.ru/album/25088929/track/11...  Пятьсот килоджоулей я сжег романтично\\nДымит d...   \n",
       "https://music.yandex.ru/album/9269095/track/601...  Руки в волосах твоих пропахли керосином\\nЯ пок...   \n",
       "https://music.yandex.ru/album/4229094/track/343...  Мама, роди меня обратно\\n\\nЯ пожалел об этом т...   \n",
       "...                                                                                               ...   \n",
       "https://music.yandex.ru/album/5988732/track/446...  Яд!\\nНаши темы — токсик, как яд\\nМы в системе ...   \n",
       "https://music.yandex.ru/album/7826259/track/543...  Ясно понятно, ок\\nТупая сука ведет диалог, ок\\...   \n",
       "https://music.yandex.ru/album/11864118/track/70...  вроде\\n\\nон пытается быть лучше\\nтут старания ...   \n",
       "https://music.yandex.ru/album/32260658/track/12...  хо-хочуспать, ща как ёбнет бас\\n\\nКидай нюдсы,...   \n",
       "https://music.yandex.ru/album/32260658/track/89...  шалава\\nэто Markiz, bitch\\n\\nя хочу ебать тех ...   \n",
       "\n",
       "                                                      Языки в тексте  \\\n",
       "original_index                                                         \n",
       "https://music.yandex.ru/album/21509172/track/10...      [ru, es, sr]   \n",
       "https://music.yandex.ru/album/20685194/track/99...              [ru]   \n",
       "https://music.yandex.ru/album/25088929/track/11...              [ru]   \n",
       "https://music.yandex.ru/album/9269095/track/601...              [ru]   \n",
       "https://music.yandex.ru/album/4229094/track/343...              [ru]   \n",
       "...                                                              ...   \n",
       "https://music.yandex.ru/album/5988732/track/446...  [mk, ru, es, uk]   \n",
       "https://music.yandex.ru/album/7826259/track/543...              [ru]   \n",
       "https://music.yandex.ru/album/11864118/track/70...              [ru]   \n",
       "https://music.yandex.ru/album/32260658/track/12...              [ru]   \n",
       "https://music.yandex.ru/album/32260658/track/89...          [ru, bg]   \n",
       "\n",
       "                                                                                         Части текста  \\\n",
       "original_index                                                                                          \n",
       "https://music.yandex.ru/album/21509172/track/10...  [Это зачем?\\nЧтоб боялись\\nКого боятся, тот и ...   \n",
       "https://music.yandex.ru/album/20685194/track/99...  [Снова заберу тебя с собой, будто под водой\\nН...   \n",
       "https://music.yandex.ru/album/25088929/track/11...  [Пятьсот килоджоулей я сжег романтично\\nДымит ...   \n",
       "https://music.yandex.ru/album/9269095/track/601...  [Руки в волосах твоих пропахли керосином\\nЯ по...   \n",
       "https://music.yandex.ru/album/4229094/track/343...  [Мама, роди меня обратно, Я пожалел об этом ты...   \n",
       "...                                                                                               ...   \n",
       "https://music.yandex.ru/album/5988732/track/446...  [Яд!\\nНаши темы — токсик, как яд\\nМы в системе...   \n",
       "https://music.yandex.ru/album/7826259/track/543...  [Ясно понятно, ок\\nТупая сука ведет диалог, ок...   \n",
       "https://music.yandex.ru/album/11864118/track/70...  [вроде, он пытается быть лучше\\nтут старания н...   \n",
       "https://music.yandex.ru/album/32260658/track/12...  [хо-хочуспать, ща как ёбнет бас, Кидай нюдсы, ...   \n",
       "https://music.yandex.ru/album/32260658/track/89...  [шалава\\nэто Markiz, bitch, я хочу ебать тех с...   \n",
       "\n",
       "                                                                                   Обработанные части  \\\n",
       "original_index                                                                                          \n",
       "https://music.yandex.ru/album/21509172/track/10...  [[это, зачем, ?, чтобы, бояться, кто, бояться,...   \n",
       "https://music.yandex.ru/album/20685194/track/99...  [[снова, забрать, ты, с, себя, ,, будто, под, ...   \n",
       "https://music.yandex.ru/album/25088929/track/11...  [[пятьсот, килоджоуль, я, сжечь, романтичный, ...   \n",
       "https://music.yandex.ru/album/9269095/track/601...  [[рука, в, волос, твой, пропахнуть, керосин, я...   \n",
       "https://music.yandex.ru/album/4229094/track/343...  [[мама, ,, родить, я, обратно], [я, жалеть, о,...   \n",
       "...                                                                                               ...   \n",
       "https://music.yandex.ru/album/5988732/track/446...  [[яд, !, наш, тема, —, токсик, ,, как, яд, мы,...   \n",
       "https://music.yandex.ru/album/7826259/track/543...  [[ясно, понятный, ,, ок, тупой, сука, вести, д...   \n",
       "https://music.yandex.ru/album/11864118/track/70...  [[], [он, пытаться, быть, хороший, тут, старан...   \n",
       "https://music.yandex.ru/album/32260658/track/12...  [[хо-хочуспать, ,, ща, как, быть, бас], [кидат...   \n",
       "https://music.yandex.ru/album/32260658/track/89...  [[], [я, хотеть, ебать, тот, сук, ,, пока, я, ...   \n",
       "\n",
       "                                                                                      Очищенные леммы  \\\n",
       "original_index                                                                                          \n",
       "https://music.yandex.ru/album/21509172/track/10...  [[это, бояться, бояться, главний, слушать, схо...   \n",
       "https://music.yandex.ru/album/20685194/track/99...  [[снова, забрать, вода, хватать, кислород, зна...   \n",
       "https://music.yandex.ru/album/25088929/track/11...  [[пятьсот, килоджоуль, сжечь, романтичный, Дым...   \n",
       "https://music.yandex.ru/album/9269095/track/601...  [[рука, волос, твой, пропахнуть, керосин, поки...   \n",
       "https://music.yandex.ru/album/4229094/track/343...  [[мама, родить, обратно], [жалеть, это, тысяче...   \n",
       "...                                                                                               ...   \n",
       "https://music.yandex.ru/album/5988732/track/446...  [[яд, наш, тема, токсик, яд, система, против, ...   \n",
       "https://music.yandex.ru/album/7826259/track/543...  [[ясно, понятный, ок, тупой, сука, вести, диал...   \n",
       "https://music.yandex.ru/album/11864118/track/70...  [[], [пытаться, хороший, старание, напрасный, ...   \n",
       "https://music.yandex.ru/album/32260658/track/12...  [[хо-хочуспать, ща, бас], [кидать, нюдса, кида...   \n",
       "https://music.yandex.ru/album/32260658/track/89...  [[], [хотеть, ебать, сук, пока, среди, молодой...   \n",
       "\n",
       "                                                    predicted_label  \\\n",
       "original_index                                                        \n",
       "https://music.yandex.ru/album/21509172/track/10...                1   \n",
       "https://music.yandex.ru/album/20685194/track/99...                1   \n",
       "https://music.yandex.ru/album/25088929/track/11...                1   \n",
       "https://music.yandex.ru/album/9269095/track/601...                1   \n",
       "https://music.yandex.ru/album/4229094/track/343...                1   \n",
       "...                                                             ...   \n",
       "https://music.yandex.ru/album/5988732/track/446...                1   \n",
       "https://music.yandex.ru/album/7826259/track/543...                1   \n",
       "https://music.yandex.ru/album/11864118/track/70...                1   \n",
       "https://music.yandex.ru/album/32260658/track/12...                1   \n",
       "https://music.yandex.ru/album/32260658/track/89...                1   \n",
       "\n",
       "                                                    confidence  prob_class_1  \\\n",
       "original_index                                                                 \n",
       "https://music.yandex.ru/album/21509172/track/10...    0.983454      0.983454   \n",
       "https://music.yandex.ru/album/20685194/track/99...    0.958730      0.958730   \n",
       "https://music.yandex.ru/album/25088929/track/11...    0.983501      0.983501   \n",
       "https://music.yandex.ru/album/9269095/track/601...    0.766326      0.766326   \n",
       "https://music.yandex.ru/album/4229094/track/343...    0.988983      0.988983   \n",
       "...                                                        ...           ...   \n",
       "https://music.yandex.ru/album/5988732/track/446...    0.989701      0.989701   \n",
       "https://music.yandex.ru/album/7826259/track/543...    0.983381      0.983381   \n",
       "https://music.yandex.ru/album/11864118/track/70...    0.512997      0.512997   \n",
       "https://music.yandex.ru/album/32260658/track/12...    0.952265      0.952265   \n",
       "https://music.yandex.ru/album/32260658/track/89...    0.989255      0.989255   \n",
       "\n",
       "                                                    topic  \\\n",
       "original_index                                              \n",
       "https://music.yandex.ru/album/21509172/track/10...     -1   \n",
       "https://music.yandex.ru/album/20685194/track/99...     -1   \n",
       "https://music.yandex.ru/album/25088929/track/11...     -1   \n",
       "https://music.yandex.ru/album/9269095/track/601...      2   \n",
       "https://music.yandex.ru/album/4229094/track/343...     -1   \n",
       "...                                                   ...   \n",
       "https://music.yandex.ru/album/5988732/track/446...      3   \n",
       "https://music.yandex.ru/album/7826259/track/543...     15   \n",
       "https://music.yandex.ru/album/11864118/track/70...     15   \n",
       "https://music.yandex.ru/album/32260658/track/12...     -1   \n",
       "https://music.yandex.ru/album/32260658/track/89...     -1   \n",
       "\n",
       "                                                                                       topic_keywords  \\\n",
       "original_index                                                                                          \n",
       "https://music.yandex.ru/album/21509172/track/10...                                               None   \n",
       "https://music.yandex.ru/album/20685194/track/99...                                               None   \n",
       "https://music.yandex.ru/album/25088929/track/11...                                               None   \n",
       "https://music.yandex.ru/album/9269095/track/601...  всё, нам, мир, тебе, лишь, жизнь, свет, небо, ...   \n",
       "https://music.yandex.ru/album/4229094/track/343...                                               None   \n",
       "...                                                                                               ...   \n",
       "https://music.yandex.ru/album/5988732/track/446...  ремонту, жако, дойчланд, эй, tag, па, всё, теб...   \n",
       "https://music.yandex.ru/album/7826259/track/543...  тебе, снова, нам, сука, любовь, нахуй, мои, пр...   \n",
       "https://music.yandex.ru/album/11864118/track/70...  тебе, снова, нам, сука, любовь, нахуй, мои, пр...   \n",
       "https://music.yandex.ru/album/32260658/track/12...                                               None   \n",
       "https://music.yandex.ru/album/32260658/track/89...                                               None   \n",
       "\n",
       "                                                    topic_probability  \n",
       "original_index                                                         \n",
       "https://music.yandex.ru/album/21509172/track/10...                0.0  \n",
       "https://music.yandex.ru/album/20685194/track/99...                0.0  \n",
       "https://music.yandex.ru/album/25088929/track/11...                0.0  \n",
       "https://music.yandex.ru/album/9269095/track/601...                1.0  \n",
       "https://music.yandex.ru/album/4229094/track/343...                0.0  \n",
       "...                                                               ...  \n",
       "https://music.yandex.ru/album/5988732/track/446...                1.0  \n",
       "https://music.yandex.ru/album/7826259/track/543...                1.0  \n",
       "https://music.yandex.ru/album/11864118/track/70...                1.0  \n",
       "https://music.yandex.ru/album/32260658/track/12...                0.0  \n",
       "https://music.yandex.ru/album/32260658/track/89...                0.0  \n",
       "\n",
       "[16015 rows x 20 columns]"
      ]
     },
     "execution_count": 15,
     "metadata": {},
     "output_type": "execute_result"
    }
   ],
   "source": [
    "df['topic'] = topics\n",
    "df['topic_keywords'] = df['topic'].apply(\n",
    "    lambda x: \", \".join([word for word, _ in topic_model.get_topic(x)]) if x != -1 else \"None\"\n",
    ")\n",
    "df['topic_probability'] = probs\n",
    "df"
   ]
  },
  {
   "cell_type": "code",
   "execution_count": 16,
   "metadata": {},
   "outputs": [],
   "source": [
    "df.to_parquet('df_with_drugs_topic_modeled_ver2.parquet')"
   ]
  },
  {
   "cell_type": "markdown",
   "metadata": {},
   "source": []
  }
 ],
 "metadata": {
  "kernelspec": {
   "display_name": ".venv",
   "language": "python",
   "name": "python3"
  },
  "language_info": {
   "codemirror_mode": {
    "name": "ipython",
    "version": 3
   },
   "file_extension": ".py",
   "mimetype": "text/x-python",
   "name": "python",
   "nbconvert_exporter": "python",
   "pygments_lexer": "ipython3",
   "version": "3.11.12"
  }
 },
 "nbformat": 4,
 "nbformat_minor": 2
}
