{
 "cells": [
  {
   "cell_type": "markdown",
   "metadata": {},
   "source": [
    "### Импорт"
   ]
  },
  {
   "cell_type": "code",
   "execution_count": null,
   "metadata": {},
   "outputs": [],
   "source": [
    "import requests\n",
    "from bs4 import BeautifulSoup as bs\n",
    "import pandas as pd\n",
    "import time\n",
    "from selenium import webdriver\n",
    "from selenium.common.exceptions import NoSuchElementException\n",
    "from selenium.webdriver.common.by import By\n",
    "from selenium.webdriver.common.keys import Keys\n",
    "import numpy as np"
   ]
  },
  {
   "cell_type": "markdown",
   "metadata": {},
   "source": [
    "### Selenium"
   ]
  },
  {
   "cell_type": "code",
   "execution_count": null,
   "metadata": {},
   "outputs": [],
   "source": [
    "dr=webdriver.Chrome()\n",
    "dr.get('https://music.yandex.ru/genre/%D1%80%D1%83%D1%81%D1%81%D0%BA%D0%B8%D0%B9%20%D1%80%D1%8D%D0%BF/artists')"
   ]
  },
  {
   "cell_type": "code",
   "execution_count": 28,
   "metadata": {},
   "outputs": [
    {
     "name": "stdout",
     "output_type": "stream",
     "text": [
      "Сбор с первой страницы\n",
      "Конец выдачи!ицы 110\n"
     ]
    }
   ],
   "source": [
    "dr.get('https://music.yandex.ru/genre/%D1%80%D1%83%D1%81%D1%81%D0%BA%D0%B8%D0%B9%20%D1%80%D1%8D%D0%BF/artists')\n",
    "time.sleep(2)\n",
    "print(f'Сбор с первой страницы')\n",
    "# Получаем список артистов ЯМузыки\n",
    "artist_list=[x.find_element(By.CLASS_NAME, 'd-link.deco-link') for x in dr.find_elements(By.CLASS_NAME, 'artist')]\n",
    "# Получаем имена артистов\n",
    "artist_names=[y.text for y in artist_list]\n",
    "# Получаем ссылки на артистов\n",
    "artist_links=[z.get_attribute('href') for z in artist_list]\n",
    "i=1\n",
    "\n",
    "# !Важный комментарий: внизу страницы, где указаны артисты того или иного направления, находится элемент, отображающий номер страницы, на которой находится пользователь\n",
    "# Однако \"пейджер\" не показывает всех страниц с артистами, так как при попытке вручную выйти за его границы, то есть ввести в url-адрес номер страницы, которой нет в \"пейджере\", то\n",
    "# мы можем еще некоторое время двигаться дальше по страницам с артистами этого жанра.\n",
    "dr.get(f'https://music.yandex.ru/genre/%D1%80%D1%83%D1%81%D1%81%D0%BA%D0%B8%D0%B9%20%D1%80%D1%8D%D0%BF/artists?page=1')\n",
    "time.sleep(2)\n",
    "try:\n",
    "    while dr.find_element(By.CLASS_NAME, 'artist'):\n",
    "        print(f'Сбор со страницы {i+1}', end='\\r')\n",
    "        # Получаем список артистов ЯМузыки\n",
    "        artist_list_add=[x.find_element(By.CLASS_NAME, 'd-link.deco-link') for x in dr.find_elements(By.CLASS_NAME, 'artist')]\n",
    "        artist_list.extend(artist_list_add)\n",
    "\n",
    "        # Получаем имена артистов\n",
    "        artist_names_add=[y.text for y in artist_list_add]\n",
    "        artist_names.extend(artist_names_add)\n",
    "\n",
    "        # Получаем ссылки на артистов\n",
    "        artist_links_add=[z.get_attribute('href') for z in artist_list_add]\n",
    "        artist_links.extend(artist_links_add)\n",
    "        i=i+1\n",
    "        dr.get(f'https://music.yandex.ru/genre/%D1%80%D1%83%D1%81%D1%81%D0%BA%D0%B8%D0%B9%20%D1%80%D1%8D%D0%BF/artists?page={i}')\n",
    "        time.sleep(2)\n",
    "except NoSuchElementException:\n",
    "    print('Конец выдачи!')"
   ]
  },
  {
   "cell_type": "code",
   "execution_count": null,
   "metadata": {},
   "outputs": [
    {
     "name": "stdout",
     "output_type": "stream",
     "text": [
      "Сбор со страницы 4\r"
     ]
    },
    {
     "ename": "IndexError",
     "evalue": "list index out of range",
     "output_type": "error",
     "traceback": [
      "\u001b[1;31m---------------------------------------------------------------------------\u001b[0m",
      "\u001b[1;31mIndexError\u001b[0m                                Traceback (most recent call last)",
      "Cell \u001b[1;32mIn[4], line 13\u001b[0m\n\u001b[0;32m     10\u001b[0m i\u001b[38;5;241m=\u001b[39mi\u001b[38;5;241m+\u001b[39m\u001b[38;5;241m1\u001b[39m\n\u001b[0;32m     12\u001b[0m \u001b[38;5;66;03m# Цикл\u001b[39;00m\n\u001b[1;32m---> 13\u001b[0m \u001b[38;5;28;01mwhile\u001b[39;00m \u001b[38;5;28mint\u001b[39m(\u001b[43mbs\u001b[49m\u001b[43m(\u001b[49m\u001b[43mrs\u001b[49m\u001b[43m)\u001b[49m\u001b[38;5;241;43m.\u001b[39;49m\u001b[43mfind_all\u001b[49m\u001b[43m(\u001b[49m\u001b[38;5;124;43m'\u001b[39;49m\u001b[38;5;124;43ma\u001b[39;49m\u001b[38;5;124;43m'\u001b[39;49m\u001b[43m,\u001b[49m\u001b[43m \u001b[49m\u001b[43mattrs\u001b[49m\u001b[38;5;241;43m=\u001b[39;49m\u001b[43m{\u001b[49m\u001b[38;5;124;43m'\u001b[39;49m\u001b[38;5;124;43mclass\u001b[39;49m\u001b[38;5;124;43m'\u001b[39;49m\u001b[43m:\u001b[49m\u001b[38;5;124;43m'\u001b[39;49m\u001b[38;5;124;43md-button deco-button deco-button-grouped d-button_type_grouped d-button_size_M\u001b[39;49m\u001b[38;5;124;43m'\u001b[39;49m\u001b[43m}\u001b[49m\u001b[43m)\u001b[49m\u001b[43m[\u001b[49m\u001b[38;5;241;43m-\u001b[39;49m\u001b[38;5;241;43m1\u001b[39;49m\u001b[43m]\u001b[49m\u001b[38;5;241m.\u001b[39mget(\u001b[38;5;124m'\u001b[39m\u001b[38;5;124mhref\u001b[39m\u001b[38;5;124m'\u001b[39m)\u001b[38;5;241m.\u001b[39msplit(\u001b[38;5;124m'\u001b[39m\u001b[38;5;124m=\u001b[39m\u001b[38;5;124m'\u001b[39m)[\u001b[38;5;241m-\u001b[39m\u001b[38;5;241m1\u001b[39m])\u001b[38;5;241m!=\u001b[39mi:\n\u001b[0;32m     14\u001b[0m     \u001b[38;5;28mprint\u001b[39m(\u001b[38;5;124mf\u001b[39m\u001b[38;5;124m'\u001b[39m\u001b[38;5;124mСбор со страницы \u001b[39m\u001b[38;5;132;01m{\u001b[39;00mi\u001b[38;5;241m+\u001b[39m\u001b[38;5;241m1\u001b[39m\u001b[38;5;132;01m}\u001b[39;00m\u001b[38;5;124m'\u001b[39m, end\u001b[38;5;241m=\u001b[39m\u001b[38;5;124m'\u001b[39m\u001b[38;5;130;01m\\r\u001b[39;00m\u001b[38;5;124m'\u001b[39m)\n\u001b[0;32m     15\u001b[0m     rs\u001b[38;5;241m=\u001b[39mrequests\u001b[38;5;241m.\u001b[39mget(\u001b[38;5;124mf\u001b[39m\u001b[38;5;124m'\u001b[39m\u001b[38;5;124mhttps://music.yandex.ru/genre/%D1%80%D1%83%D1%81%D1%81%D0%BA%D0%B8%D0%B9%20%D1%80%D1%8D%D0%BF/artists?page=\u001b[39m\u001b[38;5;132;01m{\u001b[39;00mi\u001b[38;5;132;01m}\u001b[39;00m\u001b[38;5;124m'\u001b[39m)\u001b[38;5;241m.\u001b[39mtext\n",
      "\u001b[1;31mIndexError\u001b[0m: list index out of range"
     ]
    }
   ],
   "source": [
    "# i=0\n",
    "# params={'User-Agent':'Mozilla/5.0 (Windows NT 10.0; Win64; x64) AppleWebKit/537.36 (KHTML, like Gecko) Chrome/122.0.0.0 Safari/537.36','Cookies':'receive-cookie-deprecation=1; gdpr=0; my=YwA=; _ym_uid=16623806781000781592; _ga=GA1.2.531735746.1676236499; skid=5174343191676300547; yexp=; yandexuid=317966521662380221; yuidss=317966521662380221; ymex=1681674636.oyu.6831043551678630806#1993990806.yrts.1678630806#1993990806.yrtsi.1678630806; maps_routes_travel_mode=auto; Cookie_check=1; amcuid=6210766011704259456; _ym_d=1705507495; yashr=8062509791705595290; font_loaded=YSv1; yabs-dsp=maxima_dsp.cFB6RlVGbkFFZTJTel83UERET3dQdw==:mts_banner.V2ZkcTFudXFTQkNzb3BvTXExYkxKQQ==; receive-cookie-deprecation=1; device_id=aa84db9ebc4a0dbb96589eb5268a5ab8925c2da99; yabs-vdrf=a1-Db4m1pyfe1Ny9bdm1V7G00dLjb502-_Ou1crjb50267m00crjb501wTd41or1b4m2PJNu11aHbAG1w8000hn1bK03Jfem1RFna4m3QC000zTDa9G3ems01chza4W0OfOq1YBza4W0Z19W16QjaJm0o0m00ILzai022jcW08bXa4W29Npu1hrTa4W2Ux341fLTa4W3KAW40ybDag01LC9i1Ir1aBm1S-si1JJfaAW1QGm00UZPa4W0zbG00Fnja4W2A5IO0UnTa4W2UqR00vnHa_01fXXq0_knZ4G36l1i0OUfZCm197pq00; L=QGN3fkhXAEBeSGhGXk4FV1VkeVRkbwV3Uy0ULWQTXw08NFdDAjkhDw==.1709503625.15638.322044.36253a504faa23b36c4f85f4e09d0c3e; yandex_login=alex-zotov.zotov; yandex_gid=213; yp=1987412689.multib.1#1709667035.p_cl.1678131035#1734022732.p_sw.1702486731#1733589973.p_undefined.1702053973#2017846731.pcs.0#4294967295.skin.s#1709548962.stltp.serp_bk-map_1_1678012962#1720867207.szm.1_25%3A1536x864%3A1536x703#2024863625.udn.cDrQkNC70LXQutGB0LXQuSDQl9C%2B0YLQvtCy#1712140351.ygu.1; i=q1HPAYxNNdtrjxHSCioqokwOt25sNwET7+v4ta3v/RUzJy0VcU9iaQc28iU9bnW3+yWrLiG4DIEFfwCk2nQAXjoIGlM=; Session_id=3:1709898719.5.0.1662488000268:J8aLTw:53.1.2:1|183160955.46472685.2.2:46472685.3:1708960685|928911593.5681549.2.2:5681549|801897308.1703390.2.2:1703390|432203503.7256600.2.2:7256600|1130000064714235.-1.0.2:31617042.3:1694105042|3:10284203.394452.eFpIOj7EuG-ph3_tnvixLHk4mAs; sessar=1.1187.CiBryZjNU8x2CYfiLOsp42wTDkB-e3nYzuFkyn5XxEvM0Q.CnoxldCFcrPu_XUQaJjJiUltE_DEEQ8q-zR_CBT4ZQY; sessionid2=3:1709898719.5.0.1662488000268:J8aLTw:53.1.2:1|183160955.46472685.2.2:46472685.3:1708960685|928911593.5681549.2.2:5681549|801897308.1703390.2.2:1703390|432203503.7256600.2.2:7256600|1130000064714235.-1.0.2:31617042.3:1694105042|3:10284203.394452.fakesign0000000000000000000; bh=EkEiQ2hyb21pdW0iO3Y9IjEyMiIsICJOb3QoQTpCcmFuZCI7dj0iMjQiLCAiR29vZ2xlIENocm9tZSI7dj0iMTIyIhoFIng4NiIiDyIxMjIuMC42MjYxLjk1IioCPzAyAiIiOgkiV2luZG93cyJCCCIxMC4wLjAiSgQiNjQiUlsiQ2hyb21pdW0iO3Y9IjEyMi4wLjYyNjEuOTUiLCAiTm90KEE6QnJhbmQiO3Y9IjI0LjAuMC4wIiwgIkdvb2dsZSBDaHJvbWUiO3Y9IjEyMi4wLjYyNjEuOTUiWgI/MA==; ys=udn.cDrQkNC70LXQutGB0LXQuSDQl9C%2B0YLQvtCy#c_chck.2210872546; cycada=/Nd9YB4zD7/5I8DOmnRWixgFnXkwMTf1Pa4CmNDm99k=; is_gdpr=0; is_gdpr_b=CLKxMRC27wEoAg==; bh=Ej8iQ2hyb21pdW0iO3Y9IjEyMiIsIk5vdChBOkJyYW5kIjt2PSIyNCIsIkdvb2dsZSBDaHJvbWUiO3Y9IjEyMiIaBSJ4ODYiIhAiMTIyLjAuNjI2MS4xMTIiKgI/MDoJIldpbmRvd3MiQggiMTAuMC4wIkoEIjY0IlJcIkNocm9taXVtIjt2PSIxMjIuMC42MjYxLjExMiIsIk5vdChBOkJyYW5kIjt2PSIyNC4wLjAuMCIsIkdvb2dsZSBDaHJvbWUiO3Y9IjEyMi4wLjYyNjEuMTEyIiI=; _ym_isad=1; active-browser-timestamp=1710009115829; _yasc=GCWYQYrgytjBrmL2ywRM0Rq0QS0ytRD7Hb0H29kHOz5VB01yVnRDADUYLIWefZtpDvj/ukvpkhh/C+pl'}\n",
    "\n",
    "# # Суперусловие на счет до последней страницы\n",
    "# print(f'Сбор со страницы {i+1}', end='\\r')\n",
    "# rs=requests.get(f'https://music.yandex.ru/genre/%D1%80%D1%83%D1%81%D1%81%D0%BA%D0%B8%D0%B9%20%D1%80%D1%8D%D0%BF/artists?page={i}').text\n",
    "# artists=[a.find('a') for a in bs(rs).find_all('div', attrs={'class':'artist'})] # получение списка артистов\n",
    "# names=[b.get_text() for b in artists] # получение их имен\n",
    "# links=['https://music.yandex.ru'+c.get('href') for c in artists] # получение ссылок на их страницы\n",
    "# i=i+1\n",
    "\n",
    "# # Цикл\n",
    "# while int(bs(rs).find_all('a', attrs={'class':'d-button deco-button deco-button-grouped d-button_type_grouped d-button_size_M'})[-1].get('href').split('=')[-1])!=i:\n",
    "#     print(f'Сбор со страницы {i+1}', end='\\r')\n",
    "#     rs=requests.get(f'https://music.yandex.ru/genre/%D1%80%D1%83%D1%81%D1%81%D0%BA%D0%B8%D0%B9%20%D1%80%D1%8D%D0%BF/artists?page={i}').text\n",
    "#     artists=[a.find('a') for a in bs(rs).find_all('div', attrs={'class':'artist'})]\n",
    "    \n",
    "#     names_new=[b.get_text() for b in artists]\n",
    "#     names.extend(names_new)\n",
    "\n",
    "#     links_new=['https://music.yandex.ru'+c.get('href') for c in artists]\n",
    "#     links.extend(links_new)\n",
    "#     i=i+1\n",
    "# print('\\nКонец выдачи!')\n",
    "# print('Последняя страница: №', i)"
   ]
  },
  {
   "cell_type": "code",
   "execution_count": 31,
   "metadata": {},
   "outputs": [
    {
     "data": {
      "text/html": [
       "<div>\n",
       "<style scoped>\n",
       "    .dataframe tbody tr th:only-of-type {\n",
       "        vertical-align: middle;\n",
       "    }\n",
       "\n",
       "    .dataframe tbody tr th {\n",
       "        vertical-align: top;\n",
       "    }\n",
       "\n",
       "    .dataframe thead th {\n",
       "        text-align: right;\n",
       "    }\n",
       "</style>\n",
       "<table border=\"1\" class=\"dataframe\">\n",
       "  <thead>\n",
       "    <tr style=\"text-align: right;\">\n",
       "      <th></th>\n",
       "      <th>Наименование исполнителя</th>\n",
       "      <th>Ссылка на исполнителя</th>\n",
       "    </tr>\n",
       "  </thead>\n",
       "  <tbody>\n",
       "    <tr>\n",
       "      <th>0</th>\n",
       "      <td>Баста</td>\n",
       "      <td>https://music.yandex.ru/artist/41191</td>\n",
       "    </tr>\n",
       "    <tr>\n",
       "      <th>1</th>\n",
       "      <td>MACAN</td>\n",
       "      <td>https://music.yandex.ru/artist/3892062</td>\n",
       "    </tr>\n",
       "    <tr>\n",
       "      <th>2</th>\n",
       "      <td>Гио Пика</td>\n",
       "      <td>https://music.yandex.ru/artist/4167163</td>\n",
       "    </tr>\n",
       "    <tr>\n",
       "      <th>3</th>\n",
       "      <td>Miyagi &amp; Эндшпиль</td>\n",
       "      <td>https://music.yandex.ru/artist/4611844</td>\n",
       "    </tr>\n",
       "    <tr>\n",
       "      <th>4</th>\n",
       "      <td>pyrokinesis</td>\n",
       "      <td>https://music.yandex.ru/artist/5313769</td>\n",
       "    </tr>\n",
       "  </tbody>\n",
       "</table>\n",
       "</div>"
      ],
      "text/plain": [
       "  Наименование исполнителя                   Ссылка на исполнителя\n",
       "0                    Баста    https://music.yandex.ru/artist/41191\n",
       "1                    MACAN  https://music.yandex.ru/artist/3892062\n",
       "2                 Гио Пика  https://music.yandex.ru/artist/4167163\n",
       "3        Miyagi & Эндшпиль  https://music.yandex.ru/artist/4611844\n",
       "4              pyrokinesis  https://music.yandex.ru/artist/5313769"
      ]
     },
     "execution_count": 31,
     "metadata": {},
     "output_type": "execute_result"
    }
   ],
   "source": [
    "df_artists=pd.read_excel('Все артисты.xlsx', index_col=0)\n",
    "artist_names=df_artists['Наименование исполнителя'].to_list()\n",
    "artist_links=df_artists['Ссылка на исполнителя'].to_list()\n",
    "df_artists.head()"
   ]
  },
  {
   "cell_type": "markdown",
   "metadata": {},
   "source": [
    "### Поиск кол-ва прослушиваний у исполнителей"
   ]
  },
  {
   "cell_type": "code",
   "execution_count": 58,
   "metadata": {},
   "outputs": [
    {
     "name": "stdout",
     "output_type": "stream",
     "text": [
      "Поиск по исполнителю №11000\r"
     ]
    }
   ],
   "source": [
    "m=int(input('С какого начать?'))\n",
    "n=int(input('Каким закончить?'))\n",
    "# Использование selenium вызвано невозможностью обхода капчи через использование пакета requests\n",
    "listeners_current_month=[]\n",
    "listeners_previous_monthes=[]\n",
    "likes_current_month=[]\n",
    "likes_previous_monthes=[]\n",
    "inoagents=[]\n",
    "j=0\n",
    "for link in artist_links[m:n]:\n",
    "    print(f'Поиск по исполнителю №{m+j+1}', end='\\r')\n",
    "    dr.get(link+'/info')\n",
    "    time.sleep(2)\n",
    "\n",
    "    listeners_click=dr.find_elements(By.CLASS_NAME, 'd-icon.deco-icon.d-icon_arrow-up.artist-trends__toggle-icon.d-icon_rotate-upside-down')[0]\n",
    "    dr.execute_script(\"arguments[0].click();\", listeners_click) # жмем, чтобы раскрылся список слушателей по последним месяцам\n",
    "    list_of_listeners=[int(x.text.replace(' ', '')) for x in dr.find_elements(By.CLASS_NAME, 'typo-svg-small.graph__bar-count')]\n",
    "    dr.execute_script(\"arguments[0].click();\", listeners_click) # жмем, чтобы раскрылся список слушателей по последним месяцам\n",
    "    listeners_previous_monthes.append(list_of_listeners)\n",
    "\n",
    "    likes_click=dr.find_elements(By.CLASS_NAME, 'd-icon.deco-icon.d-icon_arrow-up.artist-trends__toggle-icon.d-icon_rotate-upside-down')[1]\n",
    "    dr.execute_script(\"arguments[0].click();\", likes_click) # жмем, чтобы раскрылся список лайков по последним месяцам\n",
    "    list_of_likes=[int(x.text.replace(' ', '')) for x in dr.find_elements(By.CLASS_NAME, 'typo-svg-small.graph__bar-count')]\n",
    "    dr.execute_script(\"arguments[0].click();\", likes_click) # жмем, чтобы раскрылся список слушателей по последним месяцам\n",
    "    likes_previous_monthes.append(list_of_likes)\n",
    "\n",
    "    # rs=dr.page_source\n",
    "    \n",
    "    count_of_listeners=dr.find_elements(By.CLASS_NAME, 'artist-trends__total-count-container')[0].text\n",
    "    count_of_listeners=int(count_of_listeners.replace(' ',''))\n",
    "    listeners_current_month.append(count_of_listeners)\n",
    "\n",
    "    count_of_likes=dr.find_elements(By.CLASS_NAME, 'artist-trends__total-count-container')[1].text\n",
    "    count_of_likes=int(count_of_likes.replace(' ',''))\n",
    "    likes_current_month.append(count_of_likes)\n",
    "\n",
    "    try:\n",
    "        inoagent_status=dr.find_element(By.CLASS_NAME, 'page-artist__agent').text\n",
    "    except NoSuchElementException:\n",
    "        inoagent_status=False\n",
    "    inoagents.append(inoagent_status)\n",
    "    j=j+1"
   ]
  },
  {
   "cell_type": "markdown",
   "metadata": {},
   "source": [
    "### СЕЙВИМ"
   ]
  },
  {
   "cell_type": "code",
   "execution_count": 59,
   "metadata": {},
   "outputs": [],
   "source": [
    "# Создаем датафрейм, состоящий из нужных нам списков\n",
    "df_rap=pd.DataFrame({'Наименование исполнителя':artist_names[m:n],'Ссылка на исполнителя':artist_links[m:n],'Кол-во прослушиваний в феврале':listeners_current_month,\n",
    "                      'Количество лайков в феврале':likes_current_month, 'Количество слушателей в предыдущие месяцы':listeners_previous_monthes,\n",
    "                        'Количество лайков в предыдущие месяцы':likes_previous_monthes, 'Является иноагентом?':inoagents})\n",
    "df_rap.to_excel(f'D://Python//course work//Yandex Music//full_data_{m}-{n}.xlsx')"
   ]
  },
  {
   "cell_type": "markdown",
   "metadata": {},
   "source": [
    "### Фильтруем и ищем названия песен"
   ]
  },
  {
   "cell_type": "code",
   "execution_count": 60,
   "metadata": {},
   "outputs": [
    {
     "data": {
      "text/html": [
       "<div>\n",
       "<style scoped>\n",
       "    .dataframe tbody tr th:only-of-type {\n",
       "        vertical-align: middle;\n",
       "    }\n",
       "\n",
       "    .dataframe tbody tr th {\n",
       "        vertical-align: top;\n",
       "    }\n",
       "\n",
       "    .dataframe thead th {\n",
       "        text-align: right;\n",
       "    }\n",
       "</style>\n",
       "<table border=\"1\" class=\"dataframe\">\n",
       "  <thead>\n",
       "    <tr style=\"text-align: right;\">\n",
       "      <th></th>\n",
       "      <th>Наименование исполнителя</th>\n",
       "      <th>Ссылка на исполнителя</th>\n",
       "      <th>Кол-во прослушиваний в феврале</th>\n",
       "      <th>Количество лайков в феврале</th>\n",
       "      <th>Количество слушателей в предыдущие месяцы</th>\n",
       "      <th>Количество лайков в предыдущие месяцы</th>\n",
       "      <th>Является иноагентом?</th>\n",
       "    </tr>\n",
       "  </thead>\n",
       "  <tbody>\n",
       "    <tr>\n",
       "      <th>0</th>\n",
       "      <td>Баста</td>\n",
       "      <td>https://music.yandex.ru/artist/41191</td>\n",
       "      <td>11454048</td>\n",
       "      <td>117703</td>\n",
       "      <td>[10074534, 10866419, 11178740, 12656630, 12490...</td>\n",
       "      <td>[167782, 127925, 113274, 133112, 117703]</td>\n",
       "      <td>False</td>\n",
       "    </tr>\n",
       "    <tr>\n",
       "      <th>1</th>\n",
       "      <td>MACAN</td>\n",
       "      <td>https://music.yandex.ru/artist/3892062</td>\n",
       "      <td>6773512</td>\n",
       "      <td>137750</td>\n",
       "      <td>[7032553, 7142563, 7471391, 8569081, 7787217]</td>\n",
       "      <td>[178025, 134490, 116560, 147945, 137750]</td>\n",
       "      <td>False</td>\n",
       "    </tr>\n",
       "    <tr>\n",
       "      <th>2</th>\n",
       "      <td>Гио Пика</td>\n",
       "      <td>https://music.yandex.ru/artist/4167163</td>\n",
       "      <td>5992248</td>\n",
       "      <td>38180</td>\n",
       "      <td>[5995832, 5978437, 6608844, 7137990, 6894616]</td>\n",
       "      <td>[59118, 43495, 37826, 43970, 38180]</td>\n",
       "      <td>False</td>\n",
       "    </tr>\n",
       "    <tr>\n",
       "      <th>3</th>\n",
       "      <td>Miyagi &amp; Эндшпиль</td>\n",
       "      <td>https://music.yandex.ru/artist/4611844</td>\n",
       "      <td>6663556</td>\n",
       "      <td>76888</td>\n",
       "      <td>[5597602, 5997403, 5535057, 7162867, 7010903]</td>\n",
       "      <td>[140146, 80972, 68495, 82887, 76888]</td>\n",
       "      <td>False</td>\n",
       "    </tr>\n",
       "    <tr>\n",
       "      <th>4</th>\n",
       "      <td>pyrokinesis</td>\n",
       "      <td>https://music.yandex.ru/artist/5313769</td>\n",
       "      <td>1678349</td>\n",
       "      <td>13009</td>\n",
       "      <td>[1489788, 1520368, 1440902, 1719679, 1541402]</td>\n",
       "      <td>[12518, 16451, 11260, 24494, 13009]</td>\n",
       "      <td>False</td>\n",
       "    </tr>\n",
       "  </tbody>\n",
       "</table>\n",
       "</div>"
      ],
      "text/plain": [
       "  Наименование исполнителя                   Ссылка на исполнителя  \\\n",
       "0                    Баста    https://music.yandex.ru/artist/41191   \n",
       "1                    MACAN  https://music.yandex.ru/artist/3892062   \n",
       "2                 Гио Пика  https://music.yandex.ru/artist/4167163   \n",
       "3        Miyagi & Эндшпиль  https://music.yandex.ru/artist/4611844   \n",
       "4              pyrokinesis  https://music.yandex.ru/artist/5313769   \n",
       "\n",
       "   Кол-во прослушиваний в феврале  Количество лайков в феврале  \\\n",
       "0                        11454048                       117703   \n",
       "1                         6773512                       137750   \n",
       "2                         5992248                        38180   \n",
       "3                         6663556                        76888   \n",
       "4                         1678349                        13009   \n",
       "\n",
       "           Количество слушателей в предыдущие месяцы  \\\n",
       "0  [10074534, 10866419, 11178740, 12656630, 12490...   \n",
       "1      [7032553, 7142563, 7471391, 8569081, 7787217]   \n",
       "2      [5995832, 5978437, 6608844, 7137990, 6894616]   \n",
       "3      [5597602, 5997403, 5535057, 7162867, 7010903]   \n",
       "4      [1489788, 1520368, 1440902, 1719679, 1541402]   \n",
       "\n",
       "      Количество лайков в предыдущие месяцы Является иноагентом?  \n",
       "0  [167782, 127925, 113274, 133112, 117703]                False  \n",
       "1  [178025, 134490, 116560, 147945, 137750]                False  \n",
       "2       [59118, 43495, 37826, 43970, 38180]                False  \n",
       "3      [140146, 80972, 68495, 82887, 76888]                False  \n",
       "4       [12518, 16451, 11260, 24494, 13009]                False  "
      ]
     },
     "execution_count": 60,
     "metadata": {},
     "output_type": "execute_result"
    }
   ],
   "source": [
    "df_rap=pd.read_excel('FULL DATA.xlsx', index_col=0)\n",
    "df_rap.head()"
   ]
  },
  {
   "cell_type": "code",
   "execution_count": 62,
   "metadata": {},
   "outputs": [
    {
     "name": "stdout",
     "output_type": "stream",
     "text": [
      "Количество исполнителей в жанре \"русский рэп\", у которых более тысячи прослушиваний в месяц: 6673\n"
     ]
    }
   ],
   "source": [
    "# Создаем новый датафрейм на основе фильтра по исходному датафрейму\n",
    "filter=df_rap[df_rap['Кол-во прослушиваний в феврале'] >= 1000]\n",
    "filter.index=range(1, len(filter)+1)\n",
    "filter.to_excel('Отфильтрованные исполнители.xlsx')\n",
    "print('Количество исполнителей в жанре \"русский рэп\", у которых более тысячи прослушиваний в месяц:',(len(filter)))"
   ]
  },
  {
   "cell_type": "markdown",
   "metadata": {},
   "source": [
    "### Доступ к датафрейму"
   ]
  },
  {
   "cell_type": "code",
   "execution_count": 2,
   "metadata": {},
   "outputs": [
    {
     "data": {
      "text/plain": [
       "6673"
      ]
     },
     "execution_count": 2,
     "metadata": {},
     "output_type": "execute_result"
    }
   ],
   "source": [
    "filter=pd.read_excel('Отфильтрованные исполнители.xlsx', index_col=0)\n",
    "len(filter)"
   ]
  },
  {
   "cell_type": "markdown",
   "metadata": {},
   "source": [
    "### Сбор данных"
   ]
  },
  {
   "cell_type": "code",
   "execution_count": 2,
   "metadata": {},
   "outputs": [],
   "source": [
    "chrome_options = webdriver.ChromeOptions()\n",
    "chrome_options.add_argument('--page-load-strategy=none')  # Устанавливаем стратегию загрузки страницы\n",
    "\n",
    "dr = webdriver.Chrome(options=chrome_options)\n",
    "dr.get('https://music.yandex.ru/')\n",
    "try:\n",
    "    cross_click=dr.find_element(By.CLASS_NAME, 'pay-promo-close-btn.js-close')\n",
    "    dr.execute_script(\"arguments[0].click();\", cross_click)\n",
    "except NoSuchElementException:\n",
    "    pass\n",
    "\n",
    "try:\n",
    "    auth_click=dr.find_element(By.CLASS_NAME, 'button-inner.deco-button-stylable')\n",
    "    dr.execute_script(\"arguments[0].click();\", auth_click)\n",
    "except NoSuchElementException:\n",
    "    pass"
   ]
  },
  {
   "cell_type": "markdown",
   "metadata": {},
   "source": [
    "### Новый сбор"
   ]
  },
  {
   "cell_type": "code",
   "execution_count": 4,
   "metadata": {},
   "outputs": [
    {
     "name": "stdout",
     "output_type": "stream",
     "text": [
      "Введите начальную границу поиска треков\n",
      "Введите конечную границу поиска треков\n",
      "Идет поиск треков по исполнителям от №0 до №1783\n",
      "Поиск по исполнителю №10\r"
     ]
    },
    {
     "ename": "StaleElementReferenceException",
     "evalue": "Message: stale element reference: stale element not found in the current frame\n  (Session info: chrome=134.0.6998.178); For documentation on this error, please visit: https://www.selenium.dev/documentation/webdriver/troubleshooting/errors#stale-element-reference-exception\nStacktrace:\n\tGetHandleVerifier [0x00007FF617A74C25+3179557]\n\t(No symbol) [0x00007FF6176D88A0]\n\t(No symbol) [0x00007FF6175691CA]\n\t(No symbol) [0x00007FF617570B98]\n\t(No symbol) [0x00007FF617573F11]\n\t(No symbol) [0x00007FF617611652]\n\t(No symbol) [0x00007FF6175E7C2A]\n\t(No symbol) [0x00007FF6176102F3]\n\t(No symbol) [0x00007FF6175E7A03]\n\t(No symbol) [0x00007FF6175B06D0]\n\t(No symbol) [0x00007FF6175B1983]\n\tGetHandleVerifier [0x00007FF617AD67CD+3579853]\n\tGetHandleVerifier [0x00007FF617AED1D2+3672530]\n\tGetHandleVerifier [0x00007FF617AE2153+3627347]\n\tGetHandleVerifier [0x00007FF61784092A+868650]\n\t(No symbol) [0x00007FF6176E2FFF]\n\t(No symbol) [0x00007FF6176DF4A4]\n\t(No symbol) [0x00007FF6176DF646]\n\t(No symbol) [0x00007FF6176CEAA9]\n\tBaseThreadInitThunk [0x00007FFD805AE8D7+23]\n\tRtlUserThreadStart [0x00007FFD81B7BF6C+44]\n",
     "output_type": "error",
     "traceback": [
      "\u001b[1;31m---------------------------------------------------------------------------\u001b[0m",
      "\u001b[1;31mStaleElementReferenceException\u001b[0m            Traceback (most recent call last)",
      "Cell \u001b[1;32mIn[4], line 219\u001b[0m\n\u001b[0;32m    217\u001b[0m \u001b[38;5;28;01mtry\u001b[39;00m:\n\u001b[0;32m    218\u001b[0m     txt_click\u001b[38;5;241m=\u001b[39mdr\u001b[38;5;241m.\u001b[39mfind_element(By\u001b[38;5;241m.\u001b[39mCLASS_NAME, \u001b[38;5;124m'\u001b[39m\u001b[38;5;124md-link.deco-link.sidebar-track__lyric-preview.typo.deco-text-overlay\u001b[39m\u001b[38;5;124m'\u001b[39m)\n\u001b[1;32m--> 219\u001b[0m     \u001b[43mdr\u001b[49m\u001b[38;5;241;43m.\u001b[39;49m\u001b[43mexecute_script\u001b[49m\u001b[43m(\u001b[49m\u001b[38;5;124;43m\"\u001b[39;49m\u001b[38;5;124;43marguments[0].click();\u001b[39;49m\u001b[38;5;124;43m\"\u001b[39;49m\u001b[43m,\u001b[49m\u001b[43m \u001b[49m\u001b[43mtxt_click\u001b[49m\u001b[43m)\u001b[49m\n\u001b[0;32m    220\u001b[0m     time\u001b[38;5;241m.\u001b[39msleep(\u001b[38;5;241m3\u001b[39m)\n\u001b[0;32m    221\u001b[0m     track_text\u001b[38;5;241m=\u001b[39mdr\u001b[38;5;241m.\u001b[39mfind_element(By\u001b[38;5;241m.\u001b[39mCLASS_NAME, \u001b[38;5;124m'\u001b[39m\u001b[38;5;124msidebar-track__lyric-text.typo\u001b[39m\u001b[38;5;124m'\u001b[39m)\u001b[38;5;241m.\u001b[39mtext\n",
      "File \u001b[1;32md:\\Python\\course work\\Yandex Music\\coursework\\Lib\\site-packages\\selenium\\webdriver\\remote\\webdriver.py:528\u001b[0m, in \u001b[0;36mWebDriver.execute_script\u001b[1;34m(self, script, *args)\u001b[0m\n\u001b[0;32m    525\u001b[0m converted_args \u001b[38;5;241m=\u001b[39m \u001b[38;5;28mlist\u001b[39m(args)\n\u001b[0;32m    526\u001b[0m command \u001b[38;5;241m=\u001b[39m Command\u001b[38;5;241m.\u001b[39mW3C_EXECUTE_SCRIPT\n\u001b[1;32m--> 528\u001b[0m \u001b[38;5;28;01mreturn\u001b[39;00m \u001b[38;5;28;43mself\u001b[39;49m\u001b[38;5;241;43m.\u001b[39;49m\u001b[43mexecute\u001b[49m\u001b[43m(\u001b[49m\u001b[43mcommand\u001b[49m\u001b[43m,\u001b[49m\u001b[43m \u001b[49m\u001b[43m{\u001b[49m\u001b[38;5;124;43m\"\u001b[39;49m\u001b[38;5;124;43mscript\u001b[39;49m\u001b[38;5;124;43m\"\u001b[39;49m\u001b[43m:\u001b[49m\u001b[43m \u001b[49m\u001b[43mscript\u001b[49m\u001b[43m,\u001b[49m\u001b[43m \u001b[49m\u001b[38;5;124;43m\"\u001b[39;49m\u001b[38;5;124;43margs\u001b[39;49m\u001b[38;5;124;43m\"\u001b[39;49m\u001b[43m:\u001b[49m\u001b[43m \u001b[49m\u001b[43mconverted_args\u001b[49m\u001b[43m}\u001b[49m\u001b[43m)\u001b[49m[\u001b[38;5;124m\"\u001b[39m\u001b[38;5;124mvalue\u001b[39m\u001b[38;5;124m\"\u001b[39m]\n",
      "File \u001b[1;32md:\\Python\\course work\\Yandex Music\\coursework\\Lib\\site-packages\\selenium\\webdriver\\remote\\webdriver.py:429\u001b[0m, in \u001b[0;36mWebDriver.execute\u001b[1;34m(self, driver_command, params)\u001b[0m\n\u001b[0;32m    427\u001b[0m response \u001b[38;5;241m=\u001b[39m \u001b[38;5;28mself\u001b[39m\u001b[38;5;241m.\u001b[39mcommand_executor\u001b[38;5;241m.\u001b[39mexecute(driver_command, params)\n\u001b[0;32m    428\u001b[0m \u001b[38;5;28;01mif\u001b[39;00m response:\n\u001b[1;32m--> 429\u001b[0m     \u001b[38;5;28;43mself\u001b[39;49m\u001b[38;5;241;43m.\u001b[39;49m\u001b[43merror_handler\u001b[49m\u001b[38;5;241;43m.\u001b[39;49m\u001b[43mcheck_response\u001b[49m\u001b[43m(\u001b[49m\u001b[43mresponse\u001b[49m\u001b[43m)\u001b[49m\n\u001b[0;32m    430\u001b[0m     response[\u001b[38;5;124m\"\u001b[39m\u001b[38;5;124mvalue\u001b[39m\u001b[38;5;124m\"\u001b[39m] \u001b[38;5;241m=\u001b[39m \u001b[38;5;28mself\u001b[39m\u001b[38;5;241m.\u001b[39m_unwrap_value(response\u001b[38;5;241m.\u001b[39mget(\u001b[38;5;124m\"\u001b[39m\u001b[38;5;124mvalue\u001b[39m\u001b[38;5;124m\"\u001b[39m, \u001b[38;5;28;01mNone\u001b[39;00m))\n\u001b[0;32m    431\u001b[0m     \u001b[38;5;28;01mreturn\u001b[39;00m response\n",
      "File \u001b[1;32md:\\Python\\course work\\Yandex Music\\coursework\\Lib\\site-packages\\selenium\\webdriver\\remote\\errorhandler.py:232\u001b[0m, in \u001b[0;36mErrorHandler.check_response\u001b[1;34m(self, response)\u001b[0m\n\u001b[0;32m    230\u001b[0m         alert_text \u001b[38;5;241m=\u001b[39m value[\u001b[38;5;124m\"\u001b[39m\u001b[38;5;124malert\u001b[39m\u001b[38;5;124m\"\u001b[39m]\u001b[38;5;241m.\u001b[39mget(\u001b[38;5;124m\"\u001b[39m\u001b[38;5;124mtext\u001b[39m\u001b[38;5;124m\"\u001b[39m)\n\u001b[0;32m    231\u001b[0m     \u001b[38;5;28;01mraise\u001b[39;00m exception_class(message, screen, stacktrace, alert_text)  \u001b[38;5;66;03m# type: ignore[call-arg]  # mypy is not smart enough here\u001b[39;00m\n\u001b[1;32m--> 232\u001b[0m \u001b[38;5;28;01mraise\u001b[39;00m exception_class(message, screen, stacktrace)\n",
      "\u001b[1;31mStaleElementReferenceException\u001b[0m: Message: stale element reference: stale element not found in the current frame\n  (Session info: chrome=134.0.6998.178); For documentation on this error, please visit: https://www.selenium.dev/documentation/webdriver/troubleshooting/errors#stale-element-reference-exception\nStacktrace:\n\tGetHandleVerifier [0x00007FF617A74C25+3179557]\n\t(No symbol) [0x00007FF6176D88A0]\n\t(No symbol) [0x00007FF6175691CA]\n\t(No symbol) [0x00007FF617570B98]\n\t(No symbol) [0x00007FF617573F11]\n\t(No symbol) [0x00007FF617611652]\n\t(No symbol) [0x00007FF6175E7C2A]\n\t(No symbol) [0x00007FF6176102F3]\n\t(No symbol) [0x00007FF6175E7A03]\n\t(No symbol) [0x00007FF6175B06D0]\n\t(No symbol) [0x00007FF6175B1983]\n\tGetHandleVerifier [0x00007FF617AD67CD+3579853]\n\tGetHandleVerifier [0x00007FF617AED1D2+3672530]\n\tGetHandleVerifier [0x00007FF617AE2153+3627347]\n\tGetHandleVerifier [0x00007FF61784092A+868650]\n\t(No symbol) [0x00007FF6176E2FFF]\n\t(No symbol) [0x00007FF6176DF4A4]\n\t(No symbol) [0x00007FF6176DF646]\n\t(No symbol) [0x00007FF6176CEAA9]\n\tBaseThreadInitThunk [0x00007FFD805AE8D7+23]\n\tRtlUserThreadStart [0x00007FFD81B7BF6C+44]\n"
     ]
    }
   ],
   "source": [
    "artist_tracklist_urls = [] # ссылка на трек\n",
    "double_track=[]\n",
    "decline=0 #итератор для обозначения недоступных треков\n",
    "df_rap0=pd.DataFrame({'Исполнитель':[], 'Трек':[], 'Собран':[]})\n",
    "\n",
    "# chrome_options = webdriver.ChromeOptions()\n",
    "# chrome_options.add_argument('--page-load-strategy=none')  # Устанавливаем стратегию загрузки страницы\n",
    "\n",
    "# dr = webdriver.Chrome(options=chrome_options)\n",
    "# dr.get('https://music.yandex.ru/')\n",
    "# time.sleep(10)\n",
    "\n",
    "# Получение списка ссылок и имен исполнителей\n",
    "links = filter['Ссылка на исполнителя'].to_list()\n",
    "names = filter['Наименование исполнителя'].to_list()\n",
    "print('Введите начальную границу поиска треков')\n",
    "first_border=int(input(f'Введите число от 0 до {len(links)}'))\n",
    "print('Введите конечную границу поиска треков')\n",
    "second_border=int(input(f'Введите число от 0 до {len(links)}'))\n",
    "print(f'Идет поиск треков по исполнителям от №{first_border} до №{second_border}')\n",
    "\n",
    "for j, (link, name) in enumerate(zip(links[first_border:second_border], names[first_border:second_border])):\n",
    "    print(f'Поиск по исполнителю №{first_border+j}', end='\\r')\n",
    "    dr.get(link+'/tracks')\n",
    "    time.sleep(2)\n",
    "    try:\n",
    "        reload_button=dr.find_element(By.CLASS_NAME, 'd-link.deco-link.link_reload.d-link_marked.deco-link_marked')\n",
    "        reload_button.click()\n",
    "    except NoSuchElementException:\n",
    "        pass\n",
    "\n",
    "    # Прогрузка всех треков на странице\n",
    "    while True:\n",
    "        try:\n",
    "            # Находим кнопку\n",
    "            button = dr.find_element(By.CLASS_NAME, 'load-tracks__button')\n",
    "            # Активируем кнопку с помощью JavaScript\n",
    "            dr.execute_script(\"arguments[0].click();\", button)\n",
    "            time.sleep(0.5)  # Добавляем небольшую задержку между кликами\n",
    "        except:\n",
    "            # Если кнопка не найдена, завершаем цикл\n",
    "            break\n",
    "    # Каждую итерацию цикла, на новом исполнителе чистим списки, чтобы заново собрать все названия треков\n",
    "    artist_tracklist_titles = [] # название треков\n",
    "    artist_tracklist_urls = [] # ссылки на треки\n",
    "    time.sleep(0.5)\n",
    "    artist_tracklist_sel=dr.find_elements(By.CLASS_NAME, 'd-track')\n",
    "    artist_tracklist=[x.get_attribute('outerHTML') for x in artist_tracklist_sel] # треклист со всеми данными треков\n",
    "    \n",
    "    for t in artist_tracklist:\n",
    "        if 'd-track__unavailable' not in t:\n",
    "            artist_tracklist_titles.append(bs(t).find_all('a')[0].get_text().strip()) #названия треков\n",
    "        else:\n",
    "            artist_tracklist_titles.append(bs(t).find('span').get_text().strip())\n",
    "    \n",
    "    # Ссылки\n",
    "    for t in artist_tracklist:\n",
    "        if bs(t).find('a', attrs={'class':'d-track__title deco-link deco-link_stronger'}):\n",
    "            artist_tracklist_urls.append('https://music.yandex.ru'+bs(t).find('a', attrs={'class':'d-track__title deco-link deco-link_stronger'}).get('href'))\n",
    "        else:\n",
    "            artist_tracklist_urls.append(str(decline))\n",
    "            decline=decline+1\n",
    "    \n",
    "    artist_name=[name]*len(artist_tracklist)\n",
    "    artist_tracklist_collected=[False]*len(artist_tracklist)\n",
    "    ####\n",
    "    df_rap0_add=pd.DataFrame({'Исполнитель':artist_name, 'Трек':artist_tracklist_titles, 'Собран':artist_tracklist_collected})\n",
    "    df_rap0_add.index=artist_tracklist_urls\n",
    "\n",
    "    df_rap0=pd.concat([df_rap0, df_rap0_add])\n",
    "\n",
    "    # На всякий случай удаляем дубликаты\n",
    "    df_rap0=df_rap0[~df_rap0.index.duplicated(keep='first')]\n",
    "    ####\n",
    "    for url in artist_tracklist_urls:\n",
    "        if not df_rap0.loc[url, 'Собран'] and url!='https://music.yandex.ru/album/4665646/track/37062218':\n",
    "            if ('http' in url):\n",
    "                dr.get(url)\n",
    "                time.sleep(2)\n",
    "                try:\n",
    "                    reload_button=dr.find_element(By.CLASS_NAME, 'd-link.deco-link.link_reload.d-link_marked.deco-link_marked')\n",
    "                    reload_button.click()\n",
    "                except NoSuchElementException:\n",
    "                    pass\n",
    "                time.sleep(3)\n",
    "                # Если это сингл или несовместный альбом\n",
    "                artist_list=list(map(str.strip, dr.find_element(By.CLASS_NAME, 'd-artists').text.split(',')))\n",
    "                if (dr.find_element(By.CLASS_NAME, 'page-album__types').text.strip()=='СИНГЛ') or ((dr.find_element(By.CLASS_NAME, 'page-album__types').text.strip()=='АЛЬБОМ') and (name not in artist_list)):   # отсекаем подкасты и аудиокниги\n",
    "                    \n",
    "                    # Жанр\n",
    "                    try:\n",
    "                        artist_tracklist_genre=(dr.find_element(By.CLASS_NAME, 'd-link.deco-link.deco-link_mimic.typo').get_attribute(\"innerText\"))\n",
    "                    except NoSuchElementException:\n",
    "                        artist_tracklist_genre='Нет'\n",
    "                    df_rap0.loc[url, 'Жанр']=artist_tracklist_genre\n",
    "\n",
    "                    data=dr.find_element(By.CLASS_NAME, 'd-track_selected').get_attribute('outerHTML')\n",
    "            \n",
    "                    # Дополнительная информация\n",
    "                    try:\n",
    "                        artist_tracklist_add=(bs(data).find('span', attrs={'class':'d-track__version deco-typo-secondary'}).get_text().strip())\n",
    "                    except:\n",
    "                        artist_tracklist_add=('Нет')\n",
    "                    df_rap0.loc[url, 'Доп. информация']=artist_tracklist_add\n",
    "\n",
    "                    # Фит\n",
    "                    try:\n",
    "                        artist_tracklist_feat=(bs(data).find('span', attrs={'class':'d-track__artists'}).get_text().strip()) \n",
    "                    except:\n",
    "                        artist_tracklist_feat=('Нет')\n",
    "                    df_rap0.loc[url, 'Фит']=artist_tracklist_feat\n",
    "\n",
    "                    # Совместный релиз\n",
    "                    release_artists=dr.find_element(By.CLASS_NAME, 'd-artists').text \n",
    "                    if ',' in release_artists:\n",
    "                        release_artists=release_artists.split(',') # разделение списка артистов по запятой\n",
    "                        release_artists=[element.strip() for element in release_artists] # удаление пробелов перед и после названия артиста для корректного remove\n",
    "                        if name in release_artists:\n",
    "                            release_artists.remove(name) # удаление заглавного артиста\n",
    "                            artist_tracklist_artists=', '.join(release_artists)\n",
    "                        else:\n",
    "                            artist_tracklist_artists='Совместный релиз другого артиста'\n",
    "                    else:\n",
    "                        artist_tracklist_artists='Несовместный релиз'\n",
    "                    df_rap0.loc[url, 'Совместный релиз']=artist_tracklist_artists\n",
    "\n",
    "                    # Название альбома\n",
    "                    if dr.find_element(By.CLASS_NAME, 'page-album__types').text.strip()=='АЛЬБОМ':\n",
    "                        album_name=dr.find_element(By.CLASS_NAME, 'page-album__title').text.strip()\n",
    "                        df_rap0.loc[url, 'Альбом']=album_name\n",
    "                    else:\n",
    "                        df_rap0.loc[url, 'Альбом']='Сингл'\n",
    "\n",
    "                    # Год выхода релиза\n",
    "                    try:\n",
    "                        artist_tracklist_data=int(dr.find_element(By.CLASS_NAME, 'typo.deco-typo-secondary').get_attribute('innerText'))\n",
    "                        df_rap0.loc[url, 'Год выхода']=artist_tracklist_data\n",
    "                    except:\n",
    "                        df_rap0.loc[url, 'Год выхода']='Ошибка'\n",
    "\n",
    "                    # Текст трека\n",
    "                    try:\n",
    "                        txt_click=dr.find_element(By.CLASS_NAME, 'd-link.deco-link.sidebar-track__lyric-preview.typo.deco-text-overlay')\n",
    "                        dr.execute_script(\"arguments[0].click();\", txt_click)\n",
    "                        time.sleep(3)\n",
    "                        track_text=dr.find_element(By.CLASS_NAME, 'sidebar-track__lyric-text.typo').text\n",
    "                        \n",
    "                        df_rap0.loc[url, 'Текст трека']=track_text\n",
    "                    except NoSuchElementException:\n",
    "                        df_rap0.loc[url, 'Текст трека']=False\n",
    "\n",
    "                    # Отметка, что трек собран\n",
    "                    df_rap0.loc[url, 'Собран']=True\n",
    "\n",
    "                elif dr.find_element(By.CLASS_NAME, 'page-album__types').text.strip()=='АЛЬБОМ': # Если это альбом\n",
    "                    # Собираем данные по всем трекам на альбоме\n",
    "                    album_tracks0=dr.find_element(By.CLASS_NAME, 'page-album__tracks').find_elements(By.CLASS_NAME, 'd-track__name')\n",
    "                    album_tracks=[x.get_attribute('outerHTML') for x in album_tracks0]\n",
    "                    for album_track_index, album_track in enumerate(album_tracks):\n",
    "                        track_click=dr.find_element(By.CLASS_NAME, 'page-album__tracks').find_elements(By.CLASS_NAME, 'd-track__name')[album_track_index] # добавил клики по трекам на альбоме, чтобы правильно собрать текста\n",
    "                        dr.execute_script('arguments[0].click()', track_click)\n",
    "                        time.sleep(0.5)\n",
    "                        # Ссылка на трек, нужна для итерирования по датафрейму\n",
    "\n",
    "                        if bs(album_track).find('a'): # Проверка доступен ли трек\n",
    "                            album_track_url='https://music.yandex.ru'+bs(album_track).find('a').get('href')\n",
    "                            \n",
    "                            if album_track_url in df_rap0.index: #проверка на дубль трека, через проверку наличия ссылки в индексе датафрейма\n",
    "                    \n",
    "                                # Жанр\n",
    "                                try:\n",
    "                                    album_tracklist_genre=(dr.find_element(By.CLASS_NAME, 'd-link.deco-link.deco-link_mimic.typo').get_attribute(\"innerText\"))\n",
    "                                except NoSuchElementException:\n",
    "                                    album_tracklist_genre='Нет'\n",
    "                                df_rap0.loc[album_track_url, 'Жанр']=album_tracklist_genre\n",
    "\n",
    "                                # Дополнительная информация\n",
    "                                try:\n",
    "                                    album_tracklist_add=(bs(album_track).find('span', attrs={'class':'d-track__version deco-typo-secondary'}).get_text().strip())\n",
    "                                except:\n",
    "                                    album_tracklist_add=('Нет')\n",
    "                                df_rap0.loc[album_track_url, 'Доп. информация']=album_tracklist_add\n",
    "\n",
    "                                # Фит\n",
    "                                try:\n",
    "                                    album_tracklist_feat=(bs(album_track).find('span', attrs={'class':'d-track__artists'}).get_text().strip()) \n",
    "                                except:\n",
    "                                    album_tracklist_feat=('Нет')\n",
    "                                df_rap0.loc[album_track_url, 'Фит']=album_tracklist_feat\n",
    "\n",
    "                                # Совместный релиз\n",
    "                                release_artists=dr.find_element(By.CLASS_NAME, 'd-artists').text \n",
    "                                if ',' in release_artists:\n",
    "                                    release_artists=release_artists.split(',') # разделение списка артистов по запятой\n",
    "                                    release_artists=[element.strip() for element in release_artists] # удаление пробелов перед и после названия артиста для корректного remove\n",
    "                                    if name in release_artists:\n",
    "                                        release_artists.remove(name) # удаление заглавного артиста\n",
    "                                        album_tracklist_artists=', '.join(release_artists)\n",
    "                                    else:\n",
    "                                        album_tracklist_artists='Совместный релиз другого артиста'\n",
    "                                else:\n",
    "                                    album_tracklist_artists='Несовместный релиз'\n",
    "                                df_rap0.loc[album_track_url, 'Совместный релиз']=album_tracklist_artists\n",
    "                    \n",
    "                                # Название альбома\n",
    "                                album_name=dr.find_element(By.CLASS_NAME, 'page-album__title').text.strip()\n",
    "                                df_rap0.loc[album_track_url, 'Альбом']=album_name \n",
    "\n",
    "                                # Год выхода релиза\n",
    "                                try:\n",
    "                                    album_data=int(dr.find_element(By.CLASS_NAME, 'typo.deco-typo-secondary').get_attribute('innerText'))\n",
    "                                    df_rap0.loc[album_track_url, 'Год выхода']=album_data\n",
    "                                except NoSuchElementException:\n",
    "                                    df_rap0.loc[album_track_url, 'Год выхода']=0\n",
    "                                \n",
    "                                # Текст трека\n",
    "                                try:\n",
    "                                    txt_click=dr.find_element(By.CLASS_NAME, 'd-link.deco-link.sidebar-track__lyric-preview.typo.deco-text-overlay')\n",
    "                                    dr.execute_script(\"arguments[0].click();\", txt_click)\n",
    "                                    time.sleep(3)\n",
    "                                    track_text=dr.find_element(By.CLASS_NAME, 'sidebar-track__lyric-text.typo').text\n",
    "                                    \n",
    "                                    df_rap0.loc[album_track_url, 'Текст трека']=track_text\n",
    "                                except NoSuchElementException:\n",
    "                                    df_rap0.loc[album_track_url, 'Текст трека']=False\n",
    "\n",
    "                                # Отметка, что трек собран\n",
    "                                df_rap0.loc[album_track_url, 'Собран']=True\n",
    "\n",
    "            else:\n",
    "                df_rap0.loc[url, 'Жанр']='Трек недоступен'\n",
    "                df_rap0.loc[url, 'Доп. информация']='Трек недоступен'\n",
    "                df_rap0.loc[url, 'Фит']='Трек недоступен'\n",
    "                df_rap0.loc[url, 'Совместный релиз']='Трек недоступен'\n",
    "                df_rap0.loc[url, 'Альбом']='Трек недоступен'\n",
    "                df_rap0.loc[url, 'Год выхода']=0\n",
    "                df_rap0.loc[url, 'Собран']=True\n",
    "\n",
    "\n",
    "df_rap0.to_excel(f'Треки с {first_border} по {second_border} исполнителя.xlsx')\n",
    "df_rap0"
   ]
  },
  {
   "cell_type": "code",
   "execution_count": 5,
   "metadata": {},
   "outputs": [],
   "source": [
    "df_rap0.to_excel(f'Треки с {first_border} по {first_border+j-1} исполнителя.xlsx')"
   ]
  },
  {
   "cell_type": "markdown",
   "metadata": {},
   "source": [
    "#### Логи (Последнее обновление 10.03.2025)\n",
    "\n",
    "286 пропустил (Заточка)\n",
    "2489 пропустил"
   ]
  },
  {
   "cell_type": "markdown",
   "metadata": {},
   "source": [
    "### Дополучаем тексты песен там, где этого не делалось (по 1782 исполнителя включительно)"
   ]
  },
  {
   "cell_type": "code",
   "execution_count": 4,
   "metadata": {},
   "outputs": [],
   "source": [
    "chrome_options = webdriver.ChromeOptions()\n",
    "chrome_options.add_argument('--page-load-strategy=none')  # Устанавливаем стратегию загрузки страницы\n",
    "\n",
    "dr = webdriver.Chrome(options=chrome_options)\n",
    "dr.get('https://music.yandex.ru/')\n",
    "try:\n",
    "    cross_click=dr.find_element(By.CLASS_NAME, 'pay-promo-close-btn.js-close')\n",
    "    dr.execute_script(\"arguments[0].click();\", cross_click)\n",
    "except NoSuchElementException:\n",
    "    pass\n",
    "\n",
    "try:\n",
    "    auth_click=dr.find_element(By.CLASS_NAME, 'button-inner.deco-button-stylable')\n",
    "    dr.execute_script(\"arguments[0].click();\", auth_click)\n",
    "except NoSuchElementException:\n",
    "    pass"
   ]
  },
  {
   "cell_type": "code",
   "execution_count": 32,
   "metadata": {},
   "outputs": [],
   "source": [
    "no_text_df=pd.read_excel('Треки с 250 по 270 исполнителя — копия.xlsx', index_col=0)\n",
    "no_text_df['Текст трека']=None\n",
    "no_text_df=no_text_df[((no_text_df['Жанр']=='русский рэп')|(no_text_df['Жанр']=='рэп и хип-хоп'))&(no_text_df['Год выхода'].astype(int)>=2015)]"
   ]
  },
  {
   "cell_type": "code",
   "execution_count": 33,
   "metadata": {},
   "outputs": [
    {
     "data": {
      "text/plain": [
       "59273"
      ]
     },
     "execution_count": 33,
     "metadata": {},
     "output_type": "execute_result"
    }
   ],
   "source": [
    "len(no_text_df)"
   ]
  },
  {
   "cell_type": "code",
   "execution_count": 38,
   "metadata": {},
   "outputs": [
    {
     "ename": "KeyError",
     "evalue": "'0'",
     "output_type": "error",
     "traceback": [
      "\u001b[1;31m---------------------------------------------------------------------------\u001b[0m",
      "\u001b[1;31mKeyError\u001b[0m                                  Traceback (most recent call last)",
      "File \u001b[1;32md:\\Python\\course work\\Yandex Music\\coursework\\Lib\\site-packages\\pandas\\core\\indexes\\base.py:3805\u001b[0m, in \u001b[0;36mIndex.get_loc\u001b[1;34m(self, key)\u001b[0m\n\u001b[0;32m   3804\u001b[0m \u001b[38;5;28;01mtry\u001b[39;00m:\n\u001b[1;32m-> 3805\u001b[0m     \u001b[38;5;28;01mreturn\u001b[39;00m \u001b[38;5;28;43mself\u001b[39;49m\u001b[38;5;241;43m.\u001b[39;49m\u001b[43m_engine\u001b[49m\u001b[38;5;241;43m.\u001b[39;49m\u001b[43mget_loc\u001b[49m\u001b[43m(\u001b[49m\u001b[43mcasted_key\u001b[49m\u001b[43m)\u001b[49m\n\u001b[0;32m   3806\u001b[0m \u001b[38;5;28;01mexcept\u001b[39;00m \u001b[38;5;167;01mKeyError\u001b[39;00m \u001b[38;5;28;01mas\u001b[39;00m err:\n",
      "File \u001b[1;32mindex.pyx:167\u001b[0m, in \u001b[0;36mpandas._libs.index.IndexEngine.get_loc\u001b[1;34m()\u001b[0m\n",
      "File \u001b[1;32mindex.pyx:191\u001b[0m, in \u001b[0;36mpandas._libs.index.IndexEngine.get_loc\u001b[1;34m()\u001b[0m\n",
      "File \u001b[1;32mindex.pyx:234\u001b[0m, in \u001b[0;36mpandas._libs.index.IndexEngine._get_loc_duplicates\u001b[1;34m()\u001b[0m\n",
      "File \u001b[1;32mindex.pyx:242\u001b[0m, in \u001b[0;36mpandas._libs.index.IndexEngine._maybe_get_bool_indexer\u001b[1;34m()\u001b[0m\n",
      "File \u001b[1;32mindex.pyx:134\u001b[0m, in \u001b[0;36mpandas._libs.index._unpack_bool_indexer\u001b[1;34m()\u001b[0m\n",
      "\u001b[1;31mKeyError\u001b[0m: '0'",
      "\nThe above exception was the direct cause of the following exception:\n",
      "\u001b[1;31mKeyError\u001b[0m                                  Traceback (most recent call last)",
      "Cell \u001b[1;32mIn[38], line 1\u001b[0m\n\u001b[1;32m----> 1\u001b[0m \u001b[43mno_text_df\u001b[49m\u001b[43m[\u001b[49m\u001b[43mno_text_df\u001b[49m\u001b[43m[\u001b[49m\u001b[38;5;124;43m'\u001b[39;49m\u001b[38;5;124;43mТекст трека\u001b[39;49m\u001b[38;5;124;43m'\u001b[39;49m\u001b[43m]\u001b[49m\u001b[38;5;241;43m.\u001b[39;49m\u001b[43misna\u001b[49m\u001b[43m(\u001b[49m\u001b[43m)\u001b[49m\u001b[43m \u001b[49m\u001b[38;5;241;43m&\u001b[39;49m\u001b[43m \u001b[49m\u001b[43m(\u001b[49m\u001b[43mno_text_df\u001b[49m\u001b[43m[\u001b[49m\u001b[38;5;124;43m'\u001b[39;49m\u001b[38;5;124;43mЖанр\u001b[39;49m\u001b[38;5;124;43m'\u001b[39;49m\u001b[43m]\u001b[49m\u001b[43m \u001b[49m\u001b[38;5;241;43m!=\u001b[39;49m\u001b[43m \u001b[49m\u001b[38;5;124;43m'\u001b[39;49m\u001b[38;5;124;43mТрек недоступен\u001b[39;49m\u001b[38;5;124;43m'\u001b[39;49m\u001b[43m)\u001b[49m\u001b[43m]\u001b[49m\u001b[43m[\u001b[49m\u001b[43minterval_start\u001b[49m\u001b[43m:\u001b[49m\u001b[43minterval_end\u001b[49m\u001b[43m]\u001b[49m\n",
      "File \u001b[1;32md:\\Python\\course work\\Yandex Music\\coursework\\Lib\\site-packages\\pandas\\core\\frame.py:4085\u001b[0m, in \u001b[0;36mDataFrame.__getitem__\u001b[1;34m(self, key)\u001b[0m\n\u001b[0;32m   4083\u001b[0m \u001b[38;5;66;03m# Do we have a slicer (on rows)?\u001b[39;00m\n\u001b[0;32m   4084\u001b[0m \u001b[38;5;28;01mif\u001b[39;00m \u001b[38;5;28misinstance\u001b[39m(key, \u001b[38;5;28mslice\u001b[39m):\n\u001b[1;32m-> 4085\u001b[0m     \u001b[38;5;28;01mreturn\u001b[39;00m \u001b[38;5;28;43mself\u001b[39;49m\u001b[38;5;241;43m.\u001b[39;49m\u001b[43m_getitem_slice\u001b[49m\u001b[43m(\u001b[49m\u001b[43mkey\u001b[49m\u001b[43m)\u001b[49m\n\u001b[0;32m   4087\u001b[0m \u001b[38;5;66;03m# Do we have a (boolean) DataFrame?\u001b[39;00m\n\u001b[0;32m   4088\u001b[0m \u001b[38;5;28;01mif\u001b[39;00m \u001b[38;5;28misinstance\u001b[39m(key, DataFrame):\n",
      "File \u001b[1;32md:\\Python\\course work\\Yandex Music\\coursework\\Lib\\site-packages\\pandas\\core\\generic.py:4349\u001b[0m, in \u001b[0;36mNDFrame._getitem_slice\u001b[1;34m(self, key)\u001b[0m\n\u001b[0;32m   4344\u001b[0m \u001b[38;5;250m\u001b[39m\u001b[38;5;124;03m\"\"\"\u001b[39;00m\n\u001b[0;32m   4345\u001b[0m \u001b[38;5;124;03m__getitem__ for the case where the key is a slice object.\u001b[39;00m\n\u001b[0;32m   4346\u001b[0m \u001b[38;5;124;03m\"\"\"\u001b[39;00m\n\u001b[0;32m   4347\u001b[0m \u001b[38;5;66;03m# _convert_slice_indexer to determine if this slice is positional\u001b[39;00m\n\u001b[0;32m   4348\u001b[0m \u001b[38;5;66;03m#  or label based, and if the latter, convert to positional\u001b[39;00m\n\u001b[1;32m-> 4349\u001b[0m slobj \u001b[38;5;241m=\u001b[39m \u001b[38;5;28;43mself\u001b[39;49m\u001b[38;5;241;43m.\u001b[39;49m\u001b[43mindex\u001b[49m\u001b[38;5;241;43m.\u001b[39;49m\u001b[43m_convert_slice_indexer\u001b[49m\u001b[43m(\u001b[49m\u001b[43mkey\u001b[49m\u001b[43m,\u001b[49m\u001b[43m \u001b[49m\u001b[43mkind\u001b[49m\u001b[38;5;241;43m=\u001b[39;49m\u001b[38;5;124;43m\"\u001b[39;49m\u001b[38;5;124;43mgetitem\u001b[39;49m\u001b[38;5;124;43m\"\u001b[39;49m\u001b[43m)\u001b[49m\n\u001b[0;32m   4350\u001b[0m \u001b[38;5;28;01mif\u001b[39;00m \u001b[38;5;28misinstance\u001b[39m(slobj, np\u001b[38;5;241m.\u001b[39mndarray):\n\u001b[0;32m   4351\u001b[0m     \u001b[38;5;66;03m# reachable with DatetimeIndex\u001b[39;00m\n\u001b[0;32m   4352\u001b[0m     indexer \u001b[38;5;241m=\u001b[39m lib\u001b[38;5;241m.\u001b[39mmaybe_indices_to_slice(\n\u001b[0;32m   4353\u001b[0m         slobj\u001b[38;5;241m.\u001b[39mastype(np\u001b[38;5;241m.\u001b[39mintp, copy\u001b[38;5;241m=\u001b[39m\u001b[38;5;28;01mFalse\u001b[39;00m), \u001b[38;5;28mlen\u001b[39m(\u001b[38;5;28mself\u001b[39m)\n\u001b[0;32m   4354\u001b[0m     )\n",
      "File \u001b[1;32md:\\Python\\course work\\Yandex Music\\coursework\\Lib\\site-packages\\pandas\\core\\indexes\\base.py:4281\u001b[0m, in \u001b[0;36mIndex._convert_slice_indexer\u001b[1;34m(self, key, kind)\u001b[0m\n\u001b[0;32m   4279\u001b[0m     indexer \u001b[38;5;241m=\u001b[39m key\n\u001b[0;32m   4280\u001b[0m \u001b[38;5;28;01melse\u001b[39;00m:\n\u001b[1;32m-> 4281\u001b[0m     indexer \u001b[38;5;241m=\u001b[39m \u001b[38;5;28;43mself\u001b[39;49m\u001b[38;5;241;43m.\u001b[39;49m\u001b[43mslice_indexer\u001b[49m\u001b[43m(\u001b[49m\u001b[43mstart\u001b[49m\u001b[43m,\u001b[49m\u001b[43m \u001b[49m\u001b[43mstop\u001b[49m\u001b[43m,\u001b[49m\u001b[43m \u001b[49m\u001b[43mstep\u001b[49m\u001b[43m)\u001b[49m\n\u001b[0;32m   4283\u001b[0m \u001b[38;5;28;01mreturn\u001b[39;00m indexer\n",
      "File \u001b[1;32md:\\Python\\course work\\Yandex Music\\coursework\\Lib\\site-packages\\pandas\\core\\indexes\\base.py:6662\u001b[0m, in \u001b[0;36mIndex.slice_indexer\u001b[1;34m(self, start, end, step)\u001b[0m\n\u001b[0;32m   6618\u001b[0m \u001b[38;5;28;01mdef\u001b[39;00m\u001b[38;5;250m \u001b[39m\u001b[38;5;21mslice_indexer\u001b[39m(\n\u001b[0;32m   6619\u001b[0m     \u001b[38;5;28mself\u001b[39m,\n\u001b[0;32m   6620\u001b[0m     start: Hashable \u001b[38;5;241m|\u001b[39m \u001b[38;5;28;01mNone\u001b[39;00m \u001b[38;5;241m=\u001b[39m \u001b[38;5;28;01mNone\u001b[39;00m,\n\u001b[0;32m   6621\u001b[0m     end: Hashable \u001b[38;5;241m|\u001b[39m \u001b[38;5;28;01mNone\u001b[39;00m \u001b[38;5;241m=\u001b[39m \u001b[38;5;28;01mNone\u001b[39;00m,\n\u001b[0;32m   6622\u001b[0m     step: \u001b[38;5;28mint\u001b[39m \u001b[38;5;241m|\u001b[39m \u001b[38;5;28;01mNone\u001b[39;00m \u001b[38;5;241m=\u001b[39m \u001b[38;5;28;01mNone\u001b[39;00m,\n\u001b[0;32m   6623\u001b[0m ) \u001b[38;5;241m-\u001b[39m\u001b[38;5;241m>\u001b[39m \u001b[38;5;28mslice\u001b[39m:\n\u001b[0;32m   6624\u001b[0m \u001b[38;5;250m    \u001b[39m\u001b[38;5;124;03m\"\"\"\u001b[39;00m\n\u001b[0;32m   6625\u001b[0m \u001b[38;5;124;03m    Compute the slice indexer for input labels and step.\u001b[39;00m\n\u001b[0;32m   6626\u001b[0m \n\u001b[1;32m   (...)\u001b[0m\n\u001b[0;32m   6660\u001b[0m \u001b[38;5;124;03m    slice(1, 3, None)\u001b[39;00m\n\u001b[0;32m   6661\u001b[0m \u001b[38;5;124;03m    \"\"\"\u001b[39;00m\n\u001b[1;32m-> 6662\u001b[0m     start_slice, end_slice \u001b[38;5;241m=\u001b[39m \u001b[38;5;28;43mself\u001b[39;49m\u001b[38;5;241;43m.\u001b[39;49m\u001b[43mslice_locs\u001b[49m\u001b[43m(\u001b[49m\u001b[43mstart\u001b[49m\u001b[43m,\u001b[49m\u001b[43m \u001b[49m\u001b[43mend\u001b[49m\u001b[43m,\u001b[49m\u001b[43m \u001b[49m\u001b[43mstep\u001b[49m\u001b[38;5;241;43m=\u001b[39;49m\u001b[43mstep\u001b[49m\u001b[43m)\u001b[49m\n\u001b[0;32m   6664\u001b[0m     \u001b[38;5;66;03m# return a slice\u001b[39;00m\n\u001b[0;32m   6665\u001b[0m     \u001b[38;5;28;01mif\u001b[39;00m \u001b[38;5;129;01mnot\u001b[39;00m is_scalar(start_slice):\n",
      "File \u001b[1;32md:\\Python\\course work\\Yandex Music\\coursework\\Lib\\site-packages\\pandas\\core\\indexes\\base.py:6879\u001b[0m, in \u001b[0;36mIndex.slice_locs\u001b[1;34m(self, start, end, step)\u001b[0m\n\u001b[0;32m   6877\u001b[0m start_slice \u001b[38;5;241m=\u001b[39m \u001b[38;5;28;01mNone\u001b[39;00m\n\u001b[0;32m   6878\u001b[0m \u001b[38;5;28;01mif\u001b[39;00m start \u001b[38;5;129;01mis\u001b[39;00m \u001b[38;5;129;01mnot\u001b[39;00m \u001b[38;5;28;01mNone\u001b[39;00m:\n\u001b[1;32m-> 6879\u001b[0m     start_slice \u001b[38;5;241m=\u001b[39m \u001b[38;5;28;43mself\u001b[39;49m\u001b[38;5;241;43m.\u001b[39;49m\u001b[43mget_slice_bound\u001b[49m\u001b[43m(\u001b[49m\u001b[43mstart\u001b[49m\u001b[43m,\u001b[49m\u001b[43m \u001b[49m\u001b[38;5;124;43m\"\u001b[39;49m\u001b[38;5;124;43mleft\u001b[39;49m\u001b[38;5;124;43m\"\u001b[39;49m\u001b[43m)\u001b[49m\n\u001b[0;32m   6880\u001b[0m \u001b[38;5;28;01mif\u001b[39;00m start_slice \u001b[38;5;129;01mis\u001b[39;00m \u001b[38;5;28;01mNone\u001b[39;00m:\n\u001b[0;32m   6881\u001b[0m     start_slice \u001b[38;5;241m=\u001b[39m \u001b[38;5;241m0\u001b[39m\n",
      "File \u001b[1;32md:\\Python\\course work\\Yandex Music\\coursework\\Lib\\site-packages\\pandas\\core\\indexes\\base.py:6804\u001b[0m, in \u001b[0;36mIndex.get_slice_bound\u001b[1;34m(self, label, side)\u001b[0m\n\u001b[0;32m   6801\u001b[0m         \u001b[38;5;28;01mreturn\u001b[39;00m \u001b[38;5;28mself\u001b[39m\u001b[38;5;241m.\u001b[39m_searchsorted_monotonic(label, side)\n\u001b[0;32m   6802\u001b[0m     \u001b[38;5;28;01mexcept\u001b[39;00m \u001b[38;5;167;01mValueError\u001b[39;00m:\n\u001b[0;32m   6803\u001b[0m         \u001b[38;5;66;03m# raise the original KeyError\u001b[39;00m\n\u001b[1;32m-> 6804\u001b[0m         \u001b[38;5;28;01mraise\u001b[39;00m err\n\u001b[0;32m   6806\u001b[0m \u001b[38;5;28;01mif\u001b[39;00m \u001b[38;5;28misinstance\u001b[39m(slc, np\u001b[38;5;241m.\u001b[39mndarray):\n\u001b[0;32m   6807\u001b[0m     \u001b[38;5;66;03m# get_loc may return a boolean array, which\u001b[39;00m\n\u001b[0;32m   6808\u001b[0m     \u001b[38;5;66;03m# is OK as long as they are representable by a slice.\u001b[39;00m\n\u001b[0;32m   6809\u001b[0m     \u001b[38;5;28;01massert\u001b[39;00m is_bool_dtype(slc\u001b[38;5;241m.\u001b[39mdtype)\n",
      "File \u001b[1;32md:\\Python\\course work\\Yandex Music\\coursework\\Lib\\site-packages\\pandas\\core\\indexes\\base.py:6798\u001b[0m, in \u001b[0;36mIndex.get_slice_bound\u001b[1;34m(self, label, side)\u001b[0m\n\u001b[0;32m   6796\u001b[0m \u001b[38;5;66;03m# we need to look up the label\u001b[39;00m\n\u001b[0;32m   6797\u001b[0m \u001b[38;5;28;01mtry\u001b[39;00m:\n\u001b[1;32m-> 6798\u001b[0m     slc \u001b[38;5;241m=\u001b[39m \u001b[38;5;28;43mself\u001b[39;49m\u001b[38;5;241;43m.\u001b[39;49m\u001b[43mget_loc\u001b[49m\u001b[43m(\u001b[49m\u001b[43mlabel\u001b[49m\u001b[43m)\u001b[49m\n\u001b[0;32m   6799\u001b[0m \u001b[38;5;28;01mexcept\u001b[39;00m \u001b[38;5;167;01mKeyError\u001b[39;00m \u001b[38;5;28;01mas\u001b[39;00m err:\n\u001b[0;32m   6800\u001b[0m     \u001b[38;5;28;01mtry\u001b[39;00m:\n",
      "File \u001b[1;32md:\\Python\\course work\\Yandex Music\\coursework\\Lib\\site-packages\\pandas\\core\\indexes\\base.py:3812\u001b[0m, in \u001b[0;36mIndex.get_loc\u001b[1;34m(self, key)\u001b[0m\n\u001b[0;32m   3807\u001b[0m     \u001b[38;5;28;01mif\u001b[39;00m \u001b[38;5;28misinstance\u001b[39m(casted_key, \u001b[38;5;28mslice\u001b[39m) \u001b[38;5;129;01mor\u001b[39;00m (\n\u001b[0;32m   3808\u001b[0m         \u001b[38;5;28misinstance\u001b[39m(casted_key, abc\u001b[38;5;241m.\u001b[39mIterable)\n\u001b[0;32m   3809\u001b[0m         \u001b[38;5;129;01mand\u001b[39;00m \u001b[38;5;28many\u001b[39m(\u001b[38;5;28misinstance\u001b[39m(x, \u001b[38;5;28mslice\u001b[39m) \u001b[38;5;28;01mfor\u001b[39;00m x \u001b[38;5;129;01min\u001b[39;00m casted_key)\n\u001b[0;32m   3810\u001b[0m     ):\n\u001b[0;32m   3811\u001b[0m         \u001b[38;5;28;01mraise\u001b[39;00m InvalidIndexError(key)\n\u001b[1;32m-> 3812\u001b[0m     \u001b[38;5;28;01mraise\u001b[39;00m \u001b[38;5;167;01mKeyError\u001b[39;00m(key) \u001b[38;5;28;01mfrom\u001b[39;00m\u001b[38;5;250m \u001b[39m\u001b[38;5;21;01merr\u001b[39;00m\n\u001b[0;32m   3813\u001b[0m \u001b[38;5;28;01mexcept\u001b[39;00m \u001b[38;5;167;01mTypeError\u001b[39;00m:\n\u001b[0;32m   3814\u001b[0m     \u001b[38;5;66;03m# If we have a listlike key, _check_indexing_error will raise\u001b[39;00m\n\u001b[0;32m   3815\u001b[0m     \u001b[38;5;66;03m#  InvalidIndexError. Otherwise we fall through and re-raise\u001b[39;00m\n\u001b[0;32m   3816\u001b[0m     \u001b[38;5;66;03m#  the TypeError.\u001b[39;00m\n\u001b[0;32m   3817\u001b[0m     \u001b[38;5;28mself\u001b[39m\u001b[38;5;241m.\u001b[39m_check_indexing_error(key)\n",
      "\u001b[1;31mKeyError\u001b[0m: '0'"
     ]
    }
   ],
   "source": [
    "no_text_df[no_text_df['Текст трека'].isna() & (no_text_df['Жанр'] != 'Трек недоступен')][interval_start:interval_end]"
   ]
  },
  {
   "cell_type": "code",
   "execution_count": 11,
   "metadata": {},
   "outputs": [],
   "source": [
    "#no_text_df=pd.read_excel(f'Треки с {interval_start} по {interval_end} исполнителя.xlsx', index_col=0)\n",
    "#no_text_df['Текст трека']=None\n",
    "\n",
    "no_text_df=pd.read_csv(f'Треки исполнителей 0-27000 59113.csv', index_col=0)\n",
    "\n",
    "# Ввод границ интервала с преобразованием в целочисленный тип\n",
    "interval_start = int(input('Введите начальный интервал: '))\n",
    "interval_end = int(input('Введите конечный интервал: '))\n",
    "\n",
    "# Фильтрация строк с отсутствующим текстом и допустимым жанром\n",
    "filtered_df = no_text_df[no_text_df['Текст трека'].isna() & (no_text_df['Жанр'] != 'Трек недоступен')]\n",
    "\n",
    "for i in filtered_df.iloc[interval_start:interval_end].index:\n",
    "    dr.get(i)\n",
    "    time.sleep(2)\n",
    "    # Текст трека\n",
    "    try:\n",
    "        txt_click=dr.find_element(By.CLASS_NAME, 'd-link.deco-link.sidebar-track__lyric-preview.typo.deco-text-overlay')\n",
    "        dr.execute_script(\"arguments[0].click();\", txt_click)\n",
    "        time.sleep(2)\n",
    "        track_text=dr.find_element(By.CLASS_NAME, 'sidebar-track__lyric-text.typo').text\n",
    "        no_text_df.loc[i, 'Текст трека']=track_text\n",
    "    except NoSuchElementException:\n",
    "        track_text=False\n",
    "        no_text_df.loc[i, 'Текст трека']=track_text"
   ]
  },
  {
   "cell_type": "code",
   "execution_count": 12,
   "metadata": {},
   "outputs": [],
   "source": [
    "no_text_df[no_text_df['Текст трека'].notna()].to_csv(f'Треки исполнителей {interval_start}-{interval_end} {len(no_text_df[no_text_df[\"Текст трека\"].notna()])}.csv')"
   ]
  },
  {
   "cell_type": "code",
   "execution_count": null,
   "metadata": {},
   "outputs": [
    {
     "data": {
      "text/html": [
       "<div>\n",
       "<style scoped>\n",
       "    .dataframe tbody tr th:only-of-type {\n",
       "        vertical-align: middle;\n",
       "    }\n",
       "\n",
       "    .dataframe tbody tr th {\n",
       "        vertical-align: top;\n",
       "    }\n",
       "\n",
       "    .dataframe thead th {\n",
       "        text-align: right;\n",
       "    }\n",
       "</style>\n",
       "<table border=\"1\" class=\"dataframe\">\n",
       "  <thead>\n",
       "    <tr style=\"text-align: right;\">\n",
       "      <th></th>\n",
       "      <th>Исполнитель</th>\n",
       "      <th>Трек</th>\n",
       "      <th>Собран</th>\n",
       "      <th>Жанр</th>\n",
       "      <th>Доп. информация</th>\n",
       "      <th>Фит</th>\n",
       "      <th>Совместный релиз</th>\n",
       "      <th>Альбом</th>\n",
       "      <th>Год выхода</th>\n",
       "      <th>Текст трека</th>\n",
       "    </tr>\n",
       "  </thead>\n",
       "  <tbody>\n",
       "  </tbody>\n",
       "</table>\n",
       "</div>"
      ],
      "text/plain": [
       "Empty DataFrame\n",
       "Columns: [Исполнитель, Трек, Собран, Жанр, Доп. информация, Фит, Совместный релиз, Альбом, Год выхода, Текст трека]\n",
       "Index: []"
      ]
     },
     "execution_count": 14,
     "metadata": {},
     "output_type": "execute_result"
    }
   ],
   "source": [
    "no_text_df[no_text_df['Текст трека'].isna() & (no_text_df['Жанр'] != 'Трек недоступен')]"
   ]
  }
 ],
 "metadata": {
  "kernelspec": {
   "display_name": "coursework",
   "language": "python",
   "name": "python3"
  },
  "language_info": {
   "codemirror_mode": {
    "name": "ipython",
    "version": 3
   },
   "file_extension": ".py",
   "mimetype": "text/x-python",
   "name": "python",
   "nbconvert_exporter": "python",
   "pygments_lexer": "ipython3",
   "version": "3.11.9"
  }
 },
 "nbformat": 4,
 "nbformat_minor": 2
}
